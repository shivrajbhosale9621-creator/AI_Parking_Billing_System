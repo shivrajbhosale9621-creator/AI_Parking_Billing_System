{
  "nbformat": 4,
  "nbformat_minor": 0,
  "metadata": {
    "colab": {
      "provenance": [],
      "gpuType": "T4"
    },
    "kernelspec": {
      "name": "python3",
      "display_name": "Python 3"
    },
    "language_info": {
      "name": "python"
    },
    "accelerator": "GPU"
  },
  "cells": [
    {
      "cell_type": "code",
      "execution_count": null,
      "metadata": {
        "id": "MwTKKTyR92Zf",
        "colab": {
          "base_uri": "https://localhost:8080/"
        },
        "outputId": "1a14842c-a323-4a24-e1a4-c73c2e63f8ee"
      },
      "outputs": [
        {
          "output_type": "stream",
          "name": "stdout",
          "text": [
            "Collecting ultralytics\n",
            "  Downloading ultralytics-8.3.165-py3-none-any.whl.metadata (37 kB)\n",
            "Requirement already satisfied: numpy>=1.23.0 in /usr/local/lib/python3.11/dist-packages (from ultralytics) (2.0.2)\n",
            "Requirement already satisfied: matplotlib>=3.3.0 in /usr/local/lib/python3.11/dist-packages (from ultralytics) (3.10.0)\n",
            "Requirement already satisfied: opencv-python>=4.6.0 in /usr/local/lib/python3.11/dist-packages (from ultralytics) (4.11.0.86)\n",
            "Requirement already satisfied: pillow>=7.1.2 in /usr/local/lib/python3.11/dist-packages (from ultralytics) (11.2.1)\n",
            "Requirement already satisfied: pyyaml>=5.3.1 in /usr/local/lib/python3.11/dist-packages (from ultralytics) (6.0.2)\n",
            "Requirement already satisfied: requests>=2.23.0 in /usr/local/lib/python3.11/dist-packages (from ultralytics) (2.32.3)\n",
            "Requirement already satisfied: scipy>=1.4.1 in /usr/local/lib/python3.11/dist-packages (from ultralytics) (1.15.3)\n",
            "Requirement already satisfied: torch>=1.8.0 in /usr/local/lib/python3.11/dist-packages (from ultralytics) (2.6.0+cu124)\n",
            "Requirement already satisfied: torchvision>=0.9.0 in /usr/local/lib/python3.11/dist-packages (from ultralytics) (0.21.0+cu124)\n",
            "Requirement already satisfied: tqdm>=4.64.0 in /usr/local/lib/python3.11/dist-packages (from ultralytics) (4.67.1)\n",
            "Requirement already satisfied: psutil in /usr/local/lib/python3.11/dist-packages (from ultralytics) (5.9.5)\n",
            "Requirement already satisfied: py-cpuinfo in /usr/local/lib/python3.11/dist-packages (from ultralytics) (9.0.0)\n",
            "Requirement already satisfied: pandas>=1.1.4 in /usr/local/lib/python3.11/dist-packages (from ultralytics) (2.2.2)\n",
            "Collecting ultralytics-thop>=2.0.0 (from ultralytics)\n",
            "  Downloading ultralytics_thop-2.0.14-py3-none-any.whl.metadata (9.4 kB)\n",
            "Requirement already satisfied: contourpy>=1.0.1 in /usr/local/lib/python3.11/dist-packages (from matplotlib>=3.3.0->ultralytics) (1.3.2)\n",
            "Requirement already satisfied: cycler>=0.10 in /usr/local/lib/python3.11/dist-packages (from matplotlib>=3.3.0->ultralytics) (0.12.1)\n",
            "Requirement already satisfied: fonttools>=4.22.0 in /usr/local/lib/python3.11/dist-packages (from matplotlib>=3.3.0->ultralytics) (4.58.5)\n",
            "Requirement already satisfied: kiwisolver>=1.3.1 in /usr/local/lib/python3.11/dist-packages (from matplotlib>=3.3.0->ultralytics) (1.4.8)\n",
            "Requirement already satisfied: packaging>=20.0 in /usr/local/lib/python3.11/dist-packages (from matplotlib>=3.3.0->ultralytics) (24.2)\n",
            "Requirement already satisfied: pyparsing>=2.3.1 in /usr/local/lib/python3.11/dist-packages (from matplotlib>=3.3.0->ultralytics) (3.2.3)\n",
            "Requirement already satisfied: python-dateutil>=2.7 in /usr/local/lib/python3.11/dist-packages (from matplotlib>=3.3.0->ultralytics) (2.9.0.post0)\n",
            "Requirement already satisfied: pytz>=2020.1 in /usr/local/lib/python3.11/dist-packages (from pandas>=1.1.4->ultralytics) (2025.2)\n",
            "Requirement already satisfied: tzdata>=2022.7 in /usr/local/lib/python3.11/dist-packages (from pandas>=1.1.4->ultralytics) (2025.2)\n",
            "Requirement already satisfied: charset-normalizer<4,>=2 in /usr/local/lib/python3.11/dist-packages (from requests>=2.23.0->ultralytics) (3.4.2)\n",
            "Requirement already satisfied: idna<4,>=2.5 in /usr/local/lib/python3.11/dist-packages (from requests>=2.23.0->ultralytics) (3.10)\n",
            "Requirement already satisfied: urllib3<3,>=1.21.1 in /usr/local/lib/python3.11/dist-packages (from requests>=2.23.0->ultralytics) (2.4.0)\n",
            "Requirement already satisfied: certifi>=2017.4.17 in /usr/local/lib/python3.11/dist-packages (from requests>=2.23.0->ultralytics) (2025.7.9)\n",
            "Requirement already satisfied: filelock in /usr/local/lib/python3.11/dist-packages (from torch>=1.8.0->ultralytics) (3.18.0)\n",
            "Requirement already satisfied: typing-extensions>=4.10.0 in /usr/local/lib/python3.11/dist-packages (from torch>=1.8.0->ultralytics) (4.14.1)\n",
            "Requirement already satisfied: networkx in /usr/local/lib/python3.11/dist-packages (from torch>=1.8.0->ultralytics) (3.5)\n",
            "Requirement already satisfied: jinja2 in /usr/local/lib/python3.11/dist-packages (from torch>=1.8.0->ultralytics) (3.1.6)\n",
            "Requirement already satisfied: fsspec in /usr/local/lib/python3.11/dist-packages (from torch>=1.8.0->ultralytics) (2025.3.2)\n",
            "Collecting nvidia-cuda-nvrtc-cu12==12.4.127 (from torch>=1.8.0->ultralytics)\n",
            "  Downloading nvidia_cuda_nvrtc_cu12-12.4.127-py3-none-manylinux2014_x86_64.whl.metadata (1.5 kB)\n",
            "Collecting nvidia-cuda-runtime-cu12==12.4.127 (from torch>=1.8.0->ultralytics)\n",
            "  Downloading nvidia_cuda_runtime_cu12-12.4.127-py3-none-manylinux2014_x86_64.whl.metadata (1.5 kB)\n",
            "Collecting nvidia-cuda-cupti-cu12==12.4.127 (from torch>=1.8.0->ultralytics)\n",
            "  Downloading nvidia_cuda_cupti_cu12-12.4.127-py3-none-manylinux2014_x86_64.whl.metadata (1.6 kB)\n",
            "Collecting nvidia-cudnn-cu12==9.1.0.70 (from torch>=1.8.0->ultralytics)\n",
            "  Downloading nvidia_cudnn_cu12-9.1.0.70-py3-none-manylinux2014_x86_64.whl.metadata (1.6 kB)\n",
            "Collecting nvidia-cublas-cu12==12.4.5.8 (from torch>=1.8.0->ultralytics)\n",
            "  Downloading nvidia_cublas_cu12-12.4.5.8-py3-none-manylinux2014_x86_64.whl.metadata (1.5 kB)\n",
            "Collecting nvidia-cufft-cu12==11.2.1.3 (from torch>=1.8.0->ultralytics)\n",
            "  Downloading nvidia_cufft_cu12-11.2.1.3-py3-none-manylinux2014_x86_64.whl.metadata (1.5 kB)\n",
            "Collecting nvidia-curand-cu12==10.3.5.147 (from torch>=1.8.0->ultralytics)\n",
            "  Downloading nvidia_curand_cu12-10.3.5.147-py3-none-manylinux2014_x86_64.whl.metadata (1.5 kB)\n",
            "Collecting nvidia-cusolver-cu12==11.6.1.9 (from torch>=1.8.0->ultralytics)\n",
            "  Downloading nvidia_cusolver_cu12-11.6.1.9-py3-none-manylinux2014_x86_64.whl.metadata (1.6 kB)\n",
            "Collecting nvidia-cusparse-cu12==12.3.1.170 (from torch>=1.8.0->ultralytics)\n",
            "  Downloading nvidia_cusparse_cu12-12.3.1.170-py3-none-manylinux2014_x86_64.whl.metadata (1.6 kB)\n",
            "Requirement already satisfied: nvidia-cusparselt-cu12==0.6.2 in /usr/local/lib/python3.11/dist-packages (from torch>=1.8.0->ultralytics) (0.6.2)\n",
            "Requirement already satisfied: nvidia-nccl-cu12==2.21.5 in /usr/local/lib/python3.11/dist-packages (from torch>=1.8.0->ultralytics) (2.21.5)\n",
            "Requirement already satisfied: nvidia-nvtx-cu12==12.4.127 in /usr/local/lib/python3.11/dist-packages (from torch>=1.8.0->ultralytics) (12.4.127)\n",
            "Collecting nvidia-nvjitlink-cu12==12.4.127 (from torch>=1.8.0->ultralytics)\n",
            "  Downloading nvidia_nvjitlink_cu12-12.4.127-py3-none-manylinux2014_x86_64.whl.metadata (1.5 kB)\n",
            "Requirement already satisfied: triton==3.2.0 in /usr/local/lib/python3.11/dist-packages (from torch>=1.8.0->ultralytics) (3.2.0)\n",
            "Requirement already satisfied: sympy==1.13.1 in /usr/local/lib/python3.11/dist-packages (from torch>=1.8.0->ultralytics) (1.13.1)\n",
            "Requirement already satisfied: mpmath<1.4,>=1.1.0 in /usr/local/lib/python3.11/dist-packages (from sympy==1.13.1->torch>=1.8.0->ultralytics) (1.3.0)\n",
            "Requirement already satisfied: six>=1.5 in /usr/local/lib/python3.11/dist-packages (from python-dateutil>=2.7->matplotlib>=3.3.0->ultralytics) (1.17.0)\n",
            "Requirement already satisfied: MarkupSafe>=2.0 in /usr/local/lib/python3.11/dist-packages (from jinja2->torch>=1.8.0->ultralytics) (3.0.2)\n",
            "Downloading ultralytics-8.3.165-py3-none-any.whl (1.0 MB)\n",
            "\u001b[2K   \u001b[90m━━━━━━━━━━━━━━━━━━━━━━━━━━━━━━━━━━━━━━━━\u001b[0m \u001b[32m1.0/1.0 MB\u001b[0m \u001b[31m34.4 MB/s\u001b[0m eta \u001b[36m0:00:00\u001b[0m\n",
            "\u001b[?25hDownloading nvidia_cublas_cu12-12.4.5.8-py3-none-manylinux2014_x86_64.whl (363.4 MB)\n",
            "\u001b[2K   \u001b[90m━━━━━━━━━━━━━━━━━━━━━━━━━━━━━━━━━━━━━━━━\u001b[0m \u001b[32m363.4/363.4 MB\u001b[0m \u001b[31m3.8 MB/s\u001b[0m eta \u001b[36m0:00:00\u001b[0m\n",
            "\u001b[?25hDownloading nvidia_cuda_cupti_cu12-12.4.127-py3-none-manylinux2014_x86_64.whl (13.8 MB)\n",
            "\u001b[2K   \u001b[90m━━━━━━━━━━━━━━━━━━━━━━━━━━━━━━━━━━━━━━━━\u001b[0m \u001b[32m13.8/13.8 MB\u001b[0m \u001b[31m90.9 MB/s\u001b[0m eta \u001b[36m0:00:00\u001b[0m\n",
            "\u001b[?25hDownloading nvidia_cuda_nvrtc_cu12-12.4.127-py3-none-manylinux2014_x86_64.whl (24.6 MB)\n",
            "\u001b[2K   \u001b[90m━━━━━━━━━━━━━━━━━━━━━━━━━━━━━━━━━━━━━━━━\u001b[0m \u001b[32m24.6/24.6 MB\u001b[0m \u001b[31m65.4 MB/s\u001b[0m eta \u001b[36m0:00:00\u001b[0m\n",
            "\u001b[?25hDownloading nvidia_cuda_runtime_cu12-12.4.127-py3-none-manylinux2014_x86_64.whl (883 kB)\n",
            "\u001b[2K   \u001b[90m━━━━━━━━━━━━━━━━━━━━━━━━━━━━━━━━━━━━━━━━\u001b[0m \u001b[32m883.7/883.7 kB\u001b[0m \u001b[31m55.5 MB/s\u001b[0m eta \u001b[36m0:00:00\u001b[0m\n",
            "\u001b[?25hDownloading nvidia_cudnn_cu12-9.1.0.70-py3-none-manylinux2014_x86_64.whl (664.8 MB)\n",
            "\u001b[2K   \u001b[90m━━━━━━━━━━━━━━━━━━━━━━━━━━━━━━━━━━━━━━━\u001b[0m \u001b[32m664.8/664.8 MB\u001b[0m \u001b[31m839.9 kB/s\u001b[0m eta \u001b[36m0:00:00\u001b[0m\n",
            "\u001b[?25hDownloading nvidia_cufft_cu12-11.2.1.3-py3-none-manylinux2014_x86_64.whl (211.5 MB)\n",
            "\u001b[2K   \u001b[90m━━━━━━━━━━━━━━━━━━━━━━━━━━━━━━━━━━━━━━━━\u001b[0m \u001b[32m211.5/211.5 MB\u001b[0m \u001b[31m5.9 MB/s\u001b[0m eta \u001b[36m0:00:00\u001b[0m\n",
            "\u001b[?25hDownloading nvidia_curand_cu12-10.3.5.147-py3-none-manylinux2014_x86_64.whl (56.3 MB)\n",
            "\u001b[2K   \u001b[90m━━━━━━━━━━━━━━━━━━━━━━━━━━━━━━━━━━━━━━━━\u001b[0m \u001b[32m56.3/56.3 MB\u001b[0m \u001b[31m12.7 MB/s\u001b[0m eta \u001b[36m0:00:00\u001b[0m\n",
            "\u001b[?25hDownloading nvidia_cusolver_cu12-11.6.1.9-py3-none-manylinux2014_x86_64.whl (127.9 MB)\n",
            "\u001b[2K   \u001b[90m━━━━━━━━━━━━━━━━━━━━━━━━━━━━━━━━━━━━━━━━\u001b[0m \u001b[32m127.9/127.9 MB\u001b[0m \u001b[31m7.5 MB/s\u001b[0m eta \u001b[36m0:00:00\u001b[0m\n",
            "\u001b[?25hDownloading nvidia_cusparse_cu12-12.3.1.170-py3-none-manylinux2014_x86_64.whl (207.5 MB)\n",
            "\u001b[2K   \u001b[90m━━━━━━━━━━━━━━━━━━━━━━━━━━━━━━━━━━━━━━━━\u001b[0m \u001b[32m207.5/207.5 MB\u001b[0m \u001b[31m5.8 MB/s\u001b[0m eta \u001b[36m0:00:00\u001b[0m\n",
            "\u001b[?25hDownloading nvidia_nvjitlink_cu12-12.4.127-py3-none-manylinux2014_x86_64.whl (21.1 MB)\n",
            "\u001b[2K   \u001b[90m━━━━━━━━━━━━━━━━━━━━━━━━━━━━━━━━━━━━━━━━\u001b[0m \u001b[32m21.1/21.1 MB\u001b[0m \u001b[31m43.0 MB/s\u001b[0m eta \u001b[36m0:00:00\u001b[0m\n",
            "\u001b[?25hDownloading ultralytics_thop-2.0.14-py3-none-any.whl (26 kB)\n",
            "Installing collected packages: nvidia-nvjitlink-cu12, nvidia-curand-cu12, nvidia-cufft-cu12, nvidia-cuda-runtime-cu12, nvidia-cuda-nvrtc-cu12, nvidia-cuda-cupti-cu12, nvidia-cublas-cu12, nvidia-cusparse-cu12, nvidia-cudnn-cu12, nvidia-cusolver-cu12, ultralytics-thop, ultralytics\n",
            "  Attempting uninstall: nvidia-nvjitlink-cu12\n",
            "    Found existing installation: nvidia-nvjitlink-cu12 12.5.82\n",
            "    Uninstalling nvidia-nvjitlink-cu12-12.5.82:\n",
            "      Successfully uninstalled nvidia-nvjitlink-cu12-12.5.82\n",
            "  Attempting uninstall: nvidia-curand-cu12\n",
            "    Found existing installation: nvidia-curand-cu12 10.3.6.82\n",
            "    Uninstalling nvidia-curand-cu12-10.3.6.82:\n",
            "      Successfully uninstalled nvidia-curand-cu12-10.3.6.82\n",
            "  Attempting uninstall: nvidia-cufft-cu12\n",
            "    Found existing installation: nvidia-cufft-cu12 11.2.3.61\n",
            "    Uninstalling nvidia-cufft-cu12-11.2.3.61:\n",
            "      Successfully uninstalled nvidia-cufft-cu12-11.2.3.61\n",
            "  Attempting uninstall: nvidia-cuda-runtime-cu12\n",
            "    Found existing installation: nvidia-cuda-runtime-cu12 12.5.82\n",
            "    Uninstalling nvidia-cuda-runtime-cu12-12.5.82:\n",
            "      Successfully uninstalled nvidia-cuda-runtime-cu12-12.5.82\n",
            "  Attempting uninstall: nvidia-cuda-nvrtc-cu12\n",
            "    Found existing installation: nvidia-cuda-nvrtc-cu12 12.5.82\n",
            "    Uninstalling nvidia-cuda-nvrtc-cu12-12.5.82:\n",
            "      Successfully uninstalled nvidia-cuda-nvrtc-cu12-12.5.82\n",
            "  Attempting uninstall: nvidia-cuda-cupti-cu12\n",
            "    Found existing installation: nvidia-cuda-cupti-cu12 12.5.82\n",
            "    Uninstalling nvidia-cuda-cupti-cu12-12.5.82:\n",
            "      Successfully uninstalled nvidia-cuda-cupti-cu12-12.5.82\n",
            "  Attempting uninstall: nvidia-cublas-cu12\n",
            "    Found existing installation: nvidia-cublas-cu12 12.5.3.2\n",
            "    Uninstalling nvidia-cublas-cu12-12.5.3.2:\n",
            "      Successfully uninstalled nvidia-cublas-cu12-12.5.3.2\n",
            "  Attempting uninstall: nvidia-cusparse-cu12\n",
            "    Found existing installation: nvidia-cusparse-cu12 12.5.1.3\n",
            "    Uninstalling nvidia-cusparse-cu12-12.5.1.3:\n",
            "      Successfully uninstalled nvidia-cusparse-cu12-12.5.1.3\n",
            "  Attempting uninstall: nvidia-cudnn-cu12\n",
            "    Found existing installation: nvidia-cudnn-cu12 9.3.0.75\n",
            "    Uninstalling nvidia-cudnn-cu12-9.3.0.75:\n",
            "      Successfully uninstalled nvidia-cudnn-cu12-9.3.0.75\n",
            "  Attempting uninstall: nvidia-cusolver-cu12\n",
            "    Found existing installation: nvidia-cusolver-cu12 11.6.3.83\n",
            "    Uninstalling nvidia-cusolver-cu12-11.6.3.83:\n",
            "      Successfully uninstalled nvidia-cusolver-cu12-11.6.3.83\n",
            "Successfully installed nvidia-cublas-cu12-12.4.5.8 nvidia-cuda-cupti-cu12-12.4.127 nvidia-cuda-nvrtc-cu12-12.4.127 nvidia-cuda-runtime-cu12-12.4.127 nvidia-cudnn-cu12-9.1.0.70 nvidia-cufft-cu12-11.2.1.3 nvidia-curand-cu12-10.3.5.147 nvidia-cusolver-cu12-11.6.1.9 nvidia-cusparse-cu12-12.3.1.170 nvidia-nvjitlink-cu12-12.4.127 ultralytics-8.3.165 ultralytics-thop-2.0.14\n",
            "Sat Jul 12 14:33:29 2025       \n",
            "+-----------------------------------------------------------------------------------------+\n",
            "| NVIDIA-SMI 550.54.15              Driver Version: 550.54.15      CUDA Version: 12.4     |\n",
            "|-----------------------------------------+------------------------+----------------------+\n",
            "| GPU  Name                 Persistence-M | Bus-Id          Disp.A | Volatile Uncorr. ECC |\n",
            "| Fan  Temp   Perf          Pwr:Usage/Cap |           Memory-Usage | GPU-Util  Compute M. |\n",
            "|                                         |                        |               MIG M. |\n",
            "|=========================================+========================+======================|\n",
            "|   0  Tesla T4                       Off |   00000000:00:04.0 Off |                    0 |\n",
            "| N/A   35C    P8             11W /   70W |       0MiB /  15360MiB |      0%      Default |\n",
            "|                                         |                        |                  N/A |\n",
            "+-----------------------------------------+------------------------+----------------------+\n",
            "                                                                                         \n",
            "+-----------------------------------------------------------------------------------------+\n",
            "| Processes:                                                                              |\n",
            "|  GPU   GI   CI        PID   Type   Process name                              GPU Memory |\n",
            "|        ID   ID                                                               Usage      |\n",
            "|=========================================================================================|\n",
            "|  No running processes found                                                             |\n",
            "+-----------------------------------------------------------------------------------------+\n"
          ]
        }
      ],
      "source": [
        "\n",
        "# Install Ultralytics (YOLOv8 library)\n",
        "!pip install ultralytics --upgrade\n",
        "\n",
        "# Optional: Verify GPU\n",
        "!nvidia-smi\n"
      ]
    },
    {
      "cell_type": "code",
      "source": [
        "from google.colab import files\n",
        "uploaded=files.upload()"
      ],
      "metadata": {
        "colab": {
          "base_uri": "https://localhost:8080/",
          "height": 110
        },
        "id": "evkOXlzmZTvd",
        "outputId": "a0b832d8-f6b6-4d1f-a3ae-c98b5d96c065"
      },
      "execution_count": null,
      "outputs": [
        {
          "output_type": "display_data",
          "data": {
            "text/plain": [
              "<IPython.core.display.HTML object>"
            ],
            "text/html": [
              "\n",
              "     <input type=\"file\" id=\"files-fb94534d-8a2a-489a-939b-d183c6dbbeb3\" name=\"files[]\" multiple disabled\n",
              "        style=\"border:none\" />\n",
              "     <output id=\"result-fb94534d-8a2a-489a-939b-d183c6dbbeb3\">\n",
              "      Upload widget is only available when the cell has been executed in the\n",
              "      current browser session. Please rerun this cell to enable.\n",
              "      </output>\n",
              "      <script>// Copyright 2017 Google LLC\n",
              "//\n",
              "// Licensed under the Apache License, Version 2.0 (the \"License\");\n",
              "// you may not use this file except in compliance with the License.\n",
              "// You may obtain a copy of the License at\n",
              "//\n",
              "//      http://www.apache.org/licenses/LICENSE-2.0\n",
              "//\n",
              "// Unless required by applicable law or agreed to in writing, software\n",
              "// distributed under the License is distributed on an \"AS IS\" BASIS,\n",
              "// WITHOUT WARRANTIES OR CONDITIONS OF ANY KIND, either express or implied.\n",
              "// See the License for the specific language governing permissions and\n",
              "// limitations under the License.\n",
              "\n",
              "/**\n",
              " * @fileoverview Helpers for google.colab Python module.\n",
              " */\n",
              "(function(scope) {\n",
              "function span(text, styleAttributes = {}) {\n",
              "  const element = document.createElement('span');\n",
              "  element.textContent = text;\n",
              "  for (const key of Object.keys(styleAttributes)) {\n",
              "    element.style[key] = styleAttributes[key];\n",
              "  }\n",
              "  return element;\n",
              "}\n",
              "\n",
              "// Max number of bytes which will be uploaded at a time.\n",
              "const MAX_PAYLOAD_SIZE = 100 * 1024;\n",
              "\n",
              "function _uploadFiles(inputId, outputId) {\n",
              "  const steps = uploadFilesStep(inputId, outputId);\n",
              "  const outputElement = document.getElementById(outputId);\n",
              "  // Cache steps on the outputElement to make it available for the next call\n",
              "  // to uploadFilesContinue from Python.\n",
              "  outputElement.steps = steps;\n",
              "\n",
              "  return _uploadFilesContinue(outputId);\n",
              "}\n",
              "\n",
              "// This is roughly an async generator (not supported in the browser yet),\n",
              "// where there are multiple asynchronous steps and the Python side is going\n",
              "// to poll for completion of each step.\n",
              "// This uses a Promise to block the python side on completion of each step,\n",
              "// then passes the result of the previous step as the input to the next step.\n",
              "function _uploadFilesContinue(outputId) {\n",
              "  const outputElement = document.getElementById(outputId);\n",
              "  const steps = outputElement.steps;\n",
              "\n",
              "  const next = steps.next(outputElement.lastPromiseValue);\n",
              "  return Promise.resolve(next.value.promise).then((value) => {\n",
              "    // Cache the last promise value to make it available to the next\n",
              "    // step of the generator.\n",
              "    outputElement.lastPromiseValue = value;\n",
              "    return next.value.response;\n",
              "  });\n",
              "}\n",
              "\n",
              "/**\n",
              " * Generator function which is called between each async step of the upload\n",
              " * process.\n",
              " * @param {string} inputId Element ID of the input file picker element.\n",
              " * @param {string} outputId Element ID of the output display.\n",
              " * @return {!Iterable<!Object>} Iterable of next steps.\n",
              " */\n",
              "function* uploadFilesStep(inputId, outputId) {\n",
              "  const inputElement = document.getElementById(inputId);\n",
              "  inputElement.disabled = false;\n",
              "\n",
              "  const outputElement = document.getElementById(outputId);\n",
              "  outputElement.innerHTML = '';\n",
              "\n",
              "  const pickedPromise = new Promise((resolve) => {\n",
              "    inputElement.addEventListener('change', (e) => {\n",
              "      resolve(e.target.files);\n",
              "    });\n",
              "  });\n",
              "\n",
              "  const cancel = document.createElement('button');\n",
              "  inputElement.parentElement.appendChild(cancel);\n",
              "  cancel.textContent = 'Cancel upload';\n",
              "  const cancelPromise = new Promise((resolve) => {\n",
              "    cancel.onclick = () => {\n",
              "      resolve(null);\n",
              "    };\n",
              "  });\n",
              "\n",
              "  // Wait for the user to pick the files.\n",
              "  const files = yield {\n",
              "    promise: Promise.race([pickedPromise, cancelPromise]),\n",
              "    response: {\n",
              "      action: 'starting',\n",
              "    }\n",
              "  };\n",
              "\n",
              "  cancel.remove();\n",
              "\n",
              "  // Disable the input element since further picks are not allowed.\n",
              "  inputElement.disabled = true;\n",
              "\n",
              "  if (!files) {\n",
              "    return {\n",
              "      response: {\n",
              "        action: 'complete',\n",
              "      }\n",
              "    };\n",
              "  }\n",
              "\n",
              "  for (const file of files) {\n",
              "    const li = document.createElement('li');\n",
              "    li.append(span(file.name, {fontWeight: 'bold'}));\n",
              "    li.append(span(\n",
              "        `(${file.type || 'n/a'}) - ${file.size} bytes, ` +\n",
              "        `last modified: ${\n",
              "            file.lastModifiedDate ? file.lastModifiedDate.toLocaleDateString() :\n",
              "                                    'n/a'} - `));\n",
              "    const percent = span('0% done');\n",
              "    li.appendChild(percent);\n",
              "\n",
              "    outputElement.appendChild(li);\n",
              "\n",
              "    const fileDataPromise = new Promise((resolve) => {\n",
              "      const reader = new FileReader();\n",
              "      reader.onload = (e) => {\n",
              "        resolve(e.target.result);\n",
              "      };\n",
              "      reader.readAsArrayBuffer(file);\n",
              "    });\n",
              "    // Wait for the data to be ready.\n",
              "    let fileData = yield {\n",
              "      promise: fileDataPromise,\n",
              "      response: {\n",
              "        action: 'continue',\n",
              "      }\n",
              "    };\n",
              "\n",
              "    // Use a chunked sending to avoid message size limits. See b/62115660.\n",
              "    let position = 0;\n",
              "    do {\n",
              "      const length = Math.min(fileData.byteLength - position, MAX_PAYLOAD_SIZE);\n",
              "      const chunk = new Uint8Array(fileData, position, length);\n",
              "      position += length;\n",
              "\n",
              "      const base64 = btoa(String.fromCharCode.apply(null, chunk));\n",
              "      yield {\n",
              "        response: {\n",
              "          action: 'append',\n",
              "          file: file.name,\n",
              "          data: base64,\n",
              "        },\n",
              "      };\n",
              "\n",
              "      let percentDone = fileData.byteLength === 0 ?\n",
              "          100 :\n",
              "          Math.round((position / fileData.byteLength) * 100);\n",
              "      percent.textContent = `${percentDone}% done`;\n",
              "\n",
              "    } while (position < fileData.byteLength);\n",
              "  }\n",
              "\n",
              "  // All done.\n",
              "  yield {\n",
              "    response: {\n",
              "      action: 'complete',\n",
              "    }\n",
              "  };\n",
              "}\n",
              "\n",
              "scope.google = scope.google || {};\n",
              "scope.google.colab = scope.google.colab || {};\n",
              "scope.google.colab._files = {\n",
              "  _uploadFiles,\n",
              "  _uploadFilesContinue,\n",
              "};\n",
              "})(self);\n",
              "</script> "
            ]
          },
          "metadata": {}
        },
        {
          "output_type": "stream",
          "name": "stdout",
          "text": [
            "Saving license-plate-detection-dataset-anpr-yolo-format.zip to license-plate-detection-dataset-anpr-yolo-format.zip\n"
          ]
        }
      ]
    },
    {
      "cell_type": "code",
      "source": [
        "import zipfile\n",
        "import os\n",
        "\n",
        "# Extracting the uploaded zip file\n",
        "with zipfile.ZipFile('license-plate-detection-dataset-anpr-yolo-format.zip','r')  as zip_ref:\n",
        "  zip_ref.extractall('/content')\n",
        "\n",
        "# check contents\n",
        "!ls /content/license-plate-detection-dataset-anpr-yolo-format.zip"
      ],
      "metadata": {
        "colab": {
          "base_uri": "https://localhost:8080/"
        },
        "id": "xYcrOvcfZyiK",
        "outputId": "87b35c91-fc18-44ad-c3bc-e6ece20dc137"
      },
      "execution_count": null,
      "outputs": [
        {
          "output_type": "stream",
          "name": "stdout",
          "text": [
            "/content/license-plate-detection-dataset-anpr-yolo-format.zip\n"
          ]
        }
      ]
    },
    {
      "cell_type": "code",
      "source": [
        "# ✅ Overwrite data.yaml with correct formatting\n",
        "data_yaml = \"\"\"\n",
        "train: /content/YOLO_dataset/images/train\n",
        "val: /content/YOLO_dataset/images/val\n",
        "\n",
        "nc: 1\n",
        "names: ['license_plate']\n",
        "\"\"\"\n",
        "\n",
        "with open(\"/content/YOLO_dataset/data.yaml\", \"w\") as f:\n",
        "    f.write(data_yaml)\n",
        "\n",
        "print(\"✅ Fixed data.yaml created.\")\n"
      ],
      "metadata": {
        "colab": {
          "base_uri": "https://localhost:8080/"
        },
        "id": "DUrOmoz8az4L",
        "outputId": "2ef873ad-a3fd-464a-c861-58201c4f87a4"
      },
      "execution_count": null,
      "outputs": [
        {
          "output_type": "stream",
          "name": "stdout",
          "text": [
            "✅ Fixed data.yaml created.\n"
          ]
        }
      ]
    },
    {
      "cell_type": "code",
      "source": [
        "from ultralytics import YOLO\n",
        "\n",
        "model=YOLO('yolov8n.pt')\n",
        "\n",
        "model.train(data='/content/YOLO_dataset/data.yaml',epochs=50,imgsz=640)"
      ],
      "metadata": {
        "colab": {
          "base_uri": "https://localhost:8080/"
        },
        "id": "BZKakRheiO32",
        "outputId": "e00d40c1-7eaf-4b79-cabc-575afb2ae539"
      },
      "execution_count": null,
      "outputs": [
        {
          "output_type": "stream",
          "name": "stdout",
          "text": [
            "Ultralytics 8.3.165 🚀 Python-3.11.13 torch-2.6.0+cu124 CUDA:0 (Tesla T4, 15095MiB)\n",
            "\u001b[34m\u001b[1mengine/trainer: \u001b[0magnostic_nms=False, amp=True, augment=False, auto_augment=randaugment, batch=16, bgr=0.0, box=7.5, cache=False, cfg=None, classes=None, close_mosaic=10, cls=0.5, conf=None, copy_paste=0.0, copy_paste_mode=flip, cos_lr=False, cutmix=0.0, data=/content/YOLO_dataset/data.yaml, degrees=0.0, deterministic=True, device=None, dfl=1.5, dnn=False, dropout=0.0, dynamic=False, embed=None, epochs=50, erasing=0.4, exist_ok=False, fliplr=0.5, flipud=0.0, format=torchscript, fraction=1.0, freeze=None, half=False, hsv_h=0.015, hsv_s=0.7, hsv_v=0.4, imgsz=640, int8=False, iou=0.7, keras=False, kobj=1.0, line_width=None, lr0=0.01, lrf=0.01, mask_ratio=4, max_det=300, mixup=0.0, mode=train, model=yolov8n.pt, momentum=0.937, mosaic=1.0, multi_scale=False, name=train2, nbs=64, nms=False, opset=None, optimize=False, optimizer=auto, overlap_mask=True, patience=100, perspective=0.0, plots=True, pose=12.0, pretrained=True, profile=False, project=None, rect=False, resume=False, retina_masks=False, save=True, save_conf=False, save_crop=False, save_dir=runs/detect/train2, save_frames=False, save_json=False, save_period=-1, save_txt=False, scale=0.5, seed=0, shear=0.0, show=False, show_boxes=True, show_conf=True, show_labels=True, simplify=True, single_cls=False, source=None, split=val, stream_buffer=False, task=detect, time=None, tracker=botsort.yaml, translate=0.1, val=True, verbose=True, vid_stride=1, visualize=False, warmup_bias_lr=0.1, warmup_epochs=3.0, warmup_momentum=0.8, weight_decay=0.0005, workers=8, workspace=None\n",
            "Downloading https://ultralytics.com/assets/Arial.ttf to '/root/.config/Ultralytics/Arial.ttf'...\n"
          ]
        },
        {
          "output_type": "stream",
          "name": "stderr",
          "text": [
            "100%|██████████| 755k/755k [00:00<00:00, 21.5MB/s]"
          ]
        },
        {
          "output_type": "stream",
          "name": "stdout",
          "text": [
            "Overriding model.yaml nc=80 with nc=1\n",
            "\n",
            "                   from  n    params  module                                       arguments                     \n",
            "  0                  -1  1       464  ultralytics.nn.modules.conv.Conv             [3, 16, 3, 2]                 \n",
            "  1                  -1  1      4672  ultralytics.nn.modules.conv.Conv             [16, 32, 3, 2]                \n",
            "  2                  -1  1      7360  ultralytics.nn.modules.block.C2f             [32, 32, 1, True]             \n",
            "  3                  -1  1     18560  ultralytics.nn.modules.conv.Conv             [32, 64, 3, 2]                \n",
            "  4                  -1  2     49664  ultralytics.nn.modules.block.C2f             [64, 64, 2, True]             \n",
            "  5                  -1  1     73984  ultralytics.nn.modules.conv.Conv             [64, 128, 3, 2]               \n",
            "  6                  -1  2    197632  ultralytics.nn.modules.block.C2f             [128, 128, 2, True]           \n",
            "  7                  -1  1    295424  ultralytics.nn.modules.conv.Conv             [128, 256, 3, 2]              \n",
            "  8                  -1  1    460288  ultralytics.nn.modules.block.C2f             [256, 256, 1, True]           \n",
            "  9                  -1  1    164608  ultralytics.nn.modules.block.SPPF            [256, 256, 5]                 \n",
            " 10                  -1  1         0  torch.nn.modules.upsampling.Upsample         [None, 2, 'nearest']          \n",
            " 11             [-1, 6]  1         0  ultralytics.nn.modules.conv.Concat           [1]                           \n",
            " 12                  -1  1    148224  ultralytics.nn.modules.block.C2f             [384, 128, 1]                 \n",
            " 13                  -1  1         0  torch.nn.modules.upsampling.Upsample         [None, 2, 'nearest']          \n",
            " 14             [-1, 4]  1         0  ultralytics.nn.modules.conv.Concat           [1]                           \n",
            " 15                  -1  1     37248  ultralytics.nn.modules.block.C2f             [192, 64, 1]                  \n",
            " 16                  -1  1     36992  ultralytics.nn.modules.conv.Conv             [64, 64, 3, 2]                \n",
            " 17            [-1, 12]  1         0  ultralytics.nn.modules.conv.Concat           [1]                           \n",
            " 18                  -1  1    123648  ultralytics.nn.modules.block.C2f             [192, 128, 1]                 \n",
            " 19                  -1  1    147712  ultralytics.nn.modules.conv.Conv             [128, 128, 3, 2]              \n",
            " 20             [-1, 9]  1         0  ultralytics.nn.modules.conv.Concat           [1]                           \n",
            " 21                  -1  1    493056  ultralytics.nn.modules.block.C2f             [384, 256, 1]                 \n",
            " 22        [15, 18, 21]  1    751507  ultralytics.nn.modules.head.Detect           [1, [64, 128, 256]]           \n"
          ]
        },
        {
          "output_type": "stream",
          "name": "stderr",
          "text": [
            "\n"
          ]
        },
        {
          "output_type": "stream",
          "name": "stdout",
          "text": [
            "Model summary: 129 layers, 3,011,043 parameters, 3,011,027 gradients, 8.2 GFLOPs\n",
            "\n",
            "Transferred 319/355 items from pretrained weights\n",
            "Freezing layer 'model.22.dfl.conv.weight'\n",
            "\u001b[34m\u001b[1mAMP: \u001b[0mrunning Automatic Mixed Precision (AMP) checks...\n",
            "Downloading https://github.com/ultralytics/assets/releases/download/v8.3.0/yolo11n.pt to 'yolo11n.pt'...\n"
          ]
        },
        {
          "output_type": "stream",
          "name": "stderr",
          "text": [
            "100%|██████████| 5.35M/5.35M [00:00<00:00, 105MB/s]\n"
          ]
        },
        {
          "output_type": "stream",
          "name": "stdout",
          "text": [
            "\u001b[34m\u001b[1mAMP: \u001b[0mchecks passed ✅\n",
            "\u001b[34m\u001b[1mtrain: \u001b[0mFast image access ✅ (ping: 0.0±0.0 ms, read: 94.3±43.1 MB/s, size: 421.6 KB)\n"
          ]
        },
        {
          "output_type": "stream",
          "name": "stderr",
          "text": [
            "\u001b[34m\u001b[1mtrain: \u001b[0mScanning /content/YOLO_dataset/labels/train... 525 images, 0 backgrounds, 0 corrupt: 100%|██████████| 525/525 [00:01<00:00, 322.90it/s]"
          ]
        },
        {
          "output_type": "stream",
          "name": "stdout",
          "text": [
            "\u001b[34m\u001b[1mtrain: \u001b[0mNew cache created: /content/YOLO_dataset/labels/train.cache\n"
          ]
        },
        {
          "output_type": "stream",
          "name": "stderr",
          "text": [
            "\n"
          ]
        },
        {
          "output_type": "stream",
          "name": "stdout",
          "text": [
            "\u001b[34m\u001b[1malbumentations: \u001b[0mBlur(p=0.01, blur_limit=(3, 7)), MedianBlur(p=0.01, blur_limit=(3, 7)), ToGray(p=0.01, method='weighted_average', num_output_channels=3), CLAHE(p=0.01, clip_limit=(1.0, 4.0), tile_grid_size=(8, 8))\n",
            "\u001b[34m\u001b[1mval: \u001b[0mFast image access ✅ (ping: 0.0±0.0 ms, read: 29.9±18.6 MB/s, size: 130.0 KB)\n"
          ]
        },
        {
          "output_type": "stream",
          "name": "stderr",
          "text": [
            "\u001b[34m\u001b[1mval: \u001b[0mScanning /content/YOLO_dataset/labels/val... 133 images, 0 backgrounds, 0 corrupt: 100%|██████████| 133/133 [00:00<00:00, 293.54it/s]"
          ]
        },
        {
          "output_type": "stream",
          "name": "stdout",
          "text": [
            "\u001b[34m\u001b[1mval: \u001b[0mNew cache created: /content/YOLO_dataset/labels/val.cache\n"
          ]
        },
        {
          "output_type": "stream",
          "name": "stderr",
          "text": [
            "\n"
          ]
        },
        {
          "output_type": "stream",
          "name": "stdout",
          "text": [
            "Plotting labels to runs/detect/train2/labels.jpg... \n",
            "\u001b[34m\u001b[1moptimizer:\u001b[0m 'optimizer=auto' found, ignoring 'lr0=0.01' and 'momentum=0.937' and determining best 'optimizer', 'lr0' and 'momentum' automatically... \n",
            "\u001b[34m\u001b[1moptimizer:\u001b[0m AdamW(lr=0.002, momentum=0.9) with parameter groups 57 weight(decay=0.0), 64 weight(decay=0.0005), 63 bias(decay=0.0)\n",
            "Image sizes 640 train, 640 val\n",
            "Using 2 dataloader workers\n",
            "Logging results to \u001b[1mruns/detect/train2\u001b[0m\n",
            "Starting training for 50 epochs...\n",
            "\n",
            "      Epoch    GPU_mem   box_loss   cls_loss   dfl_loss  Instances       Size\n"
          ]
        },
        {
          "output_type": "stream",
          "name": "stderr",
          "text": [
            "       1/50      2.08G      1.482      2.725      1.305         31        640: 100%|██████████| 33/33 [00:13<00:00,  2.41it/s]\n",
            "                 Class     Images  Instances      Box(P          R      mAP50  mAP50-95): 100%|██████████| 5/5 [00:02<00:00,  1.87it/s]"
          ]
        },
        {
          "output_type": "stream",
          "name": "stdout",
          "text": [
            "                   all        133        145    0.00417       0.91      0.271      0.126\n"
          ]
        },
        {
          "output_type": "stream",
          "name": "stderr",
          "text": [
            "\n"
          ]
        },
        {
          "output_type": "stream",
          "name": "stdout",
          "text": [
            "\n",
            "      Epoch    GPU_mem   box_loss   cls_loss   dfl_loss  Instances       Size\n"
          ]
        },
        {
          "output_type": "stream",
          "name": "stderr",
          "text": [
            "       2/50      2.58G      1.428      1.812       1.23         23        640: 100%|██████████| 33/33 [00:11<00:00,  2.77it/s]\n",
            "                 Class     Images  Instances      Box(P          R      mAP50  mAP50-95): 100%|██████████| 5/5 [00:01<00:00,  3.18it/s]"
          ]
        },
        {
          "output_type": "stream",
          "name": "stdout",
          "text": [
            "                   all        133        145      0.346      0.393      0.304      0.138\n"
          ]
        },
        {
          "output_type": "stream",
          "name": "stderr",
          "text": [
            "\n"
          ]
        },
        {
          "output_type": "stream",
          "name": "stdout",
          "text": [
            "\n",
            "      Epoch    GPU_mem   box_loss   cls_loss   dfl_loss  Instances       Size\n"
          ]
        },
        {
          "output_type": "stream",
          "name": "stderr",
          "text": [
            "       3/50       2.6G      1.462      1.607      1.244         28        640: 100%|██████████| 33/33 [00:10<00:00,  3.10it/s]\n",
            "                 Class     Images  Instances      Box(P          R      mAP50  mAP50-95): 100%|██████████| 5/5 [00:02<00:00,  2.44it/s]"
          ]
        },
        {
          "output_type": "stream",
          "name": "stdout",
          "text": [
            "                   all        133        145      0.693      0.579      0.625      0.316\n"
          ]
        },
        {
          "output_type": "stream",
          "name": "stderr",
          "text": [
            "\n"
          ]
        },
        {
          "output_type": "stream",
          "name": "stdout",
          "text": [
            "\n",
            "      Epoch    GPU_mem   box_loss   cls_loss   dfl_loss  Instances       Size\n"
          ]
        },
        {
          "output_type": "stream",
          "name": "stderr",
          "text": [
            "       4/50      2.61G      1.425      1.512      1.216         32        640: 100%|██████████| 33/33 [00:10<00:00,  3.16it/s]\n",
            "                 Class     Images  Instances      Box(P          R      mAP50  mAP50-95): 100%|██████████| 5/5 [00:02<00:00,  1.95it/s]\n"
          ]
        },
        {
          "output_type": "stream",
          "name": "stdout",
          "text": [
            "                   all        133        145      0.436        0.6      0.426      0.213\n",
            "\n",
            "      Epoch    GPU_mem   box_loss   cls_loss   dfl_loss  Instances       Size\n"
          ]
        },
        {
          "output_type": "stream",
          "name": "stderr",
          "text": [
            "       5/50      2.63G      1.476      1.407      1.249         27        640: 100%|██████████| 33/33 [00:10<00:00,  3.28it/s]\n",
            "                 Class     Images  Instances      Box(P          R      mAP50  mAP50-95): 100%|██████████| 5/5 [00:02<00:00,  1.88it/s]\n"
          ]
        },
        {
          "output_type": "stream",
          "name": "stdout",
          "text": [
            "                   all        133        145      0.708      0.538      0.579      0.262\n",
            "\n",
            "      Epoch    GPU_mem   box_loss   cls_loss   dfl_loss  Instances       Size\n"
          ]
        },
        {
          "output_type": "stream",
          "name": "stderr",
          "text": [
            "       6/50      2.65G       1.44      1.255      1.266         31        640: 100%|██████████| 33/33 [00:10<00:00,  3.18it/s]\n",
            "                 Class     Images  Instances      Box(P          R      mAP50  mAP50-95): 100%|██████████| 5/5 [00:02<00:00,  2.07it/s]"
          ]
        },
        {
          "output_type": "stream",
          "name": "stdout",
          "text": [
            "                   all        133        145      0.625      0.634      0.629      0.337\n"
          ]
        },
        {
          "output_type": "stream",
          "name": "stderr",
          "text": [
            "\n"
          ]
        },
        {
          "output_type": "stream",
          "name": "stdout",
          "text": [
            "\n",
            "      Epoch    GPU_mem   box_loss   cls_loss   dfl_loss  Instances       Size\n"
          ]
        },
        {
          "output_type": "stream",
          "name": "stderr",
          "text": [
            "       7/50      2.66G      1.393      1.132      1.204         26        640: 100%|██████████| 33/33 [00:11<00:00,  2.94it/s]\n",
            "                 Class     Images  Instances      Box(P          R      mAP50  mAP50-95): 100%|██████████| 5/5 [00:01<00:00,  2.80it/s]"
          ]
        },
        {
          "output_type": "stream",
          "name": "stdout",
          "text": [
            "                   all        133        145      0.854      0.729      0.825      0.439\n"
          ]
        },
        {
          "output_type": "stream",
          "name": "stderr",
          "text": [
            "\n"
          ]
        },
        {
          "output_type": "stream",
          "name": "stdout",
          "text": [
            "\n",
            "      Epoch    GPU_mem   box_loss   cls_loss   dfl_loss  Instances       Size\n"
          ]
        },
        {
          "output_type": "stream",
          "name": "stderr",
          "text": [
            "       8/50      2.68G      1.383      1.089      1.224         26        640: 100%|██████████| 33/33 [00:11<00:00,  2.91it/s]\n",
            "                 Class     Images  Instances      Box(P          R      mAP50  mAP50-95): 100%|██████████| 5/5 [00:01<00:00,  3.84it/s]"
          ]
        },
        {
          "output_type": "stream",
          "name": "stdout",
          "text": [
            "                   all        133        145      0.902      0.821       0.89       0.48\n"
          ]
        },
        {
          "output_type": "stream",
          "name": "stderr",
          "text": [
            "\n"
          ]
        },
        {
          "output_type": "stream",
          "name": "stdout",
          "text": [
            "\n",
            "      Epoch    GPU_mem   box_loss   cls_loss   dfl_loss  Instances       Size\n"
          ]
        },
        {
          "output_type": "stream",
          "name": "stderr",
          "text": [
            "       9/50       2.7G       1.38      1.058      1.223         27        640: 100%|██████████| 33/33 [00:11<00:00,  2.86it/s]\n",
            "                 Class     Images  Instances      Box(P          R      mAP50  mAP50-95): 100%|██████████| 5/5 [00:01<00:00,  3.14it/s]"
          ]
        },
        {
          "output_type": "stream",
          "name": "stdout",
          "text": [
            "                   all        133        145      0.754      0.745      0.783      0.396\n"
          ]
        },
        {
          "output_type": "stream",
          "name": "stderr",
          "text": [
            "\n"
          ]
        },
        {
          "output_type": "stream",
          "name": "stdout",
          "text": [
            "\n",
            "      Epoch    GPU_mem   box_loss   cls_loss   dfl_loss  Instances       Size\n"
          ]
        },
        {
          "output_type": "stream",
          "name": "stderr",
          "text": [
            "      10/50      2.72G       1.36      1.011      1.201         27        640: 100%|██████████| 33/33 [00:10<00:00,  3.01it/s]\n",
            "                 Class     Images  Instances      Box(P          R      mAP50  mAP50-95): 100%|██████████| 5/5 [00:01<00:00,  3.09it/s]"
          ]
        },
        {
          "output_type": "stream",
          "name": "stdout",
          "text": [
            "                   all        133        145      0.891      0.752      0.845       0.49\n"
          ]
        },
        {
          "output_type": "stream",
          "name": "stderr",
          "text": [
            "\n"
          ]
        },
        {
          "output_type": "stream",
          "name": "stdout",
          "text": [
            "\n",
            "      Epoch    GPU_mem   box_loss   cls_loss   dfl_loss  Instances       Size\n"
          ]
        },
        {
          "output_type": "stream",
          "name": "stderr",
          "text": [
            "      11/50      2.73G      1.366     0.9455      1.198         29        640: 100%|██████████| 33/33 [00:11<00:00,  2.88it/s]\n",
            "                 Class     Images  Instances      Box(P          R      mAP50  mAP50-95): 100%|██████████| 5/5 [00:01<00:00,  3.23it/s]"
          ]
        },
        {
          "output_type": "stream",
          "name": "stdout",
          "text": [
            "                   all        133        145      0.859      0.807      0.879      0.511\n"
          ]
        },
        {
          "output_type": "stream",
          "name": "stderr",
          "text": [
            "\n"
          ]
        },
        {
          "output_type": "stream",
          "name": "stdout",
          "text": [
            "\n",
            "      Epoch    GPU_mem   box_loss   cls_loss   dfl_loss  Instances       Size\n"
          ]
        },
        {
          "output_type": "stream",
          "name": "stderr",
          "text": [
            "      12/50      2.75G      1.339     0.9146      1.193         20        640: 100%|██████████| 33/33 [00:11<00:00,  2.89it/s]\n",
            "                 Class     Images  Instances      Box(P          R      mAP50  mAP50-95): 100%|██████████| 5/5 [00:01<00:00,  3.04it/s]"
          ]
        },
        {
          "output_type": "stream",
          "name": "stdout",
          "text": [
            "                   all        133        145      0.921      0.807      0.895      0.495\n"
          ]
        },
        {
          "output_type": "stream",
          "name": "stderr",
          "text": [
            "\n"
          ]
        },
        {
          "output_type": "stream",
          "name": "stdout",
          "text": [
            "\n",
            "      Epoch    GPU_mem   box_loss   cls_loss   dfl_loss  Instances       Size\n"
          ]
        },
        {
          "output_type": "stream",
          "name": "stderr",
          "text": [
            "      13/50      2.77G      1.339     0.9194      1.185         21        640: 100%|██████████| 33/33 [00:11<00:00,  2.98it/s]\n",
            "                 Class     Images  Instances      Box(P          R      mAP50  mAP50-95): 100%|██████████| 5/5 [00:01<00:00,  2.69it/s]"
          ]
        },
        {
          "output_type": "stream",
          "name": "stdout",
          "text": [
            "                   all        133        145      0.919        0.8      0.888      0.492\n"
          ]
        },
        {
          "output_type": "stream",
          "name": "stderr",
          "text": [
            "\n"
          ]
        },
        {
          "output_type": "stream",
          "name": "stdout",
          "text": [
            "\n",
            "      Epoch    GPU_mem   box_loss   cls_loss   dfl_loss  Instances       Size\n"
          ]
        },
        {
          "output_type": "stream",
          "name": "stderr",
          "text": [
            "      14/50      2.79G      1.312     0.8646      1.181         18        640: 100%|██████████| 33/33 [00:11<00:00,  2.94it/s]\n",
            "                 Class     Images  Instances      Box(P          R      mAP50  mAP50-95): 100%|██████████| 5/5 [00:01<00:00,  3.29it/s]"
          ]
        },
        {
          "output_type": "stream",
          "name": "stdout",
          "text": [
            "                   all        133        145      0.937      0.834      0.904      0.522\n"
          ]
        },
        {
          "output_type": "stream",
          "name": "stderr",
          "text": [
            "\n"
          ]
        },
        {
          "output_type": "stream",
          "name": "stdout",
          "text": [
            "\n",
            "      Epoch    GPU_mem   box_loss   cls_loss   dfl_loss  Instances       Size\n"
          ]
        },
        {
          "output_type": "stream",
          "name": "stderr",
          "text": [
            "      15/50       2.8G      1.335     0.8883      1.185         22        640: 100%|██████████| 33/33 [00:11<00:00,  2.97it/s]\n",
            "                 Class     Images  Instances      Box(P          R      mAP50  mAP50-95): 100%|██████████| 5/5 [00:01<00:00,  2.87it/s]"
          ]
        },
        {
          "output_type": "stream",
          "name": "stdout",
          "text": [
            "                   all        133        145      0.897      0.848      0.908      0.526\n"
          ]
        },
        {
          "output_type": "stream",
          "name": "stderr",
          "text": [
            "\n"
          ]
        },
        {
          "output_type": "stream",
          "name": "stdout",
          "text": [
            "\n",
            "      Epoch    GPU_mem   box_loss   cls_loss   dfl_loss  Instances       Size\n"
          ]
        },
        {
          "output_type": "stream",
          "name": "stderr",
          "text": [
            "      16/50      2.82G      1.303     0.8588      1.197         24        640: 100%|██████████| 33/33 [00:11<00:00,  2.97it/s]\n",
            "                 Class     Images  Instances      Box(P          R      mAP50  mAP50-95): 100%|██████████| 5/5 [00:01<00:00,  3.21it/s]"
          ]
        },
        {
          "output_type": "stream",
          "name": "stdout",
          "text": [
            "                   all        133        145      0.874      0.862      0.901      0.516\n"
          ]
        },
        {
          "output_type": "stream",
          "name": "stderr",
          "text": [
            "\n"
          ]
        },
        {
          "output_type": "stream",
          "name": "stdout",
          "text": [
            "\n",
            "      Epoch    GPU_mem   box_loss   cls_loss   dfl_loss  Instances       Size\n"
          ]
        },
        {
          "output_type": "stream",
          "name": "stderr",
          "text": [
            "      17/50      2.84G       1.25     0.8333      1.139         24        640: 100%|██████████| 33/33 [00:11<00:00,  2.95it/s]\n",
            "                 Class     Images  Instances      Box(P          R      mAP50  mAP50-95): 100%|██████████| 5/5 [00:01<00:00,  3.46it/s]"
          ]
        },
        {
          "output_type": "stream",
          "name": "stdout",
          "text": [
            "                   all        133        145      0.878      0.841       0.92      0.539\n"
          ]
        },
        {
          "output_type": "stream",
          "name": "stderr",
          "text": [
            "\n"
          ]
        },
        {
          "output_type": "stream",
          "name": "stdout",
          "text": [
            "\n",
            "      Epoch    GPU_mem   box_loss   cls_loss   dfl_loss  Instances       Size\n"
          ]
        },
        {
          "output_type": "stream",
          "name": "stderr",
          "text": [
            "      18/50      2.85G      1.289     0.8073      1.165         29        640: 100%|██████████| 33/33 [00:11<00:00,  2.96it/s]\n",
            "                 Class     Images  Instances      Box(P          R      mAP50  mAP50-95): 100%|██████████| 5/5 [00:01<00:00,  2.98it/s]"
          ]
        },
        {
          "output_type": "stream",
          "name": "stdout",
          "text": [
            "                   all        133        145      0.882      0.848      0.888      0.535\n"
          ]
        },
        {
          "output_type": "stream",
          "name": "stderr",
          "text": [
            "\n"
          ]
        },
        {
          "output_type": "stream",
          "name": "stdout",
          "text": [
            "\n",
            "      Epoch    GPU_mem   box_loss   cls_loss   dfl_loss  Instances       Size\n"
          ]
        },
        {
          "output_type": "stream",
          "name": "stderr",
          "text": [
            "      19/50      2.87G      1.274     0.7947      1.156         16        640: 100%|██████████| 33/33 [00:11<00:00,  2.95it/s]\n",
            "                 Class     Images  Instances      Box(P          R      mAP50  mAP50-95): 100%|██████████| 5/5 [00:01<00:00,  3.72it/s]"
          ]
        },
        {
          "output_type": "stream",
          "name": "stdout",
          "text": [
            "                   all        133        145      0.912      0.828      0.888      0.517\n"
          ]
        },
        {
          "output_type": "stream",
          "name": "stderr",
          "text": [
            "\n"
          ]
        },
        {
          "output_type": "stream",
          "name": "stdout",
          "text": [
            "\n",
            "      Epoch    GPU_mem   box_loss   cls_loss   dfl_loss  Instances       Size\n"
          ]
        },
        {
          "output_type": "stream",
          "name": "stderr",
          "text": [
            "      20/50      2.89G      1.256     0.7516      1.162         26        640: 100%|██████████| 33/33 [00:11<00:00,  2.89it/s]\n",
            "                 Class     Images  Instances      Box(P          R      mAP50  mAP50-95): 100%|██████████| 5/5 [00:01<00:00,  3.38it/s]"
          ]
        },
        {
          "output_type": "stream",
          "name": "stdout",
          "text": [
            "                   all        133        145      0.921      0.855      0.913      0.541\n"
          ]
        },
        {
          "output_type": "stream",
          "name": "stderr",
          "text": [
            "\n"
          ]
        },
        {
          "output_type": "stream",
          "name": "stdout",
          "text": [
            "\n",
            "      Epoch    GPU_mem   box_loss   cls_loss   dfl_loss  Instances       Size\n"
          ]
        },
        {
          "output_type": "stream",
          "name": "stderr",
          "text": [
            "      21/50       2.9G       1.25     0.7712      1.124         23        640: 100%|██████████| 33/33 [00:11<00:00,  2.97it/s]\n",
            "                 Class     Images  Instances      Box(P          R      mAP50  mAP50-95): 100%|██████████| 5/5 [00:01<00:00,  3.07it/s]"
          ]
        },
        {
          "output_type": "stream",
          "name": "stdout",
          "text": [
            "                   all        133        145      0.899      0.834      0.913      0.558\n"
          ]
        },
        {
          "output_type": "stream",
          "name": "stderr",
          "text": [
            "\n"
          ]
        },
        {
          "output_type": "stream",
          "name": "stdout",
          "text": [
            "\n",
            "      Epoch    GPU_mem   box_loss   cls_loss   dfl_loss  Instances       Size\n"
          ]
        },
        {
          "output_type": "stream",
          "name": "stderr",
          "text": [
            "      22/50      2.92G      1.236     0.7409      1.141         20        640: 100%|██████████| 33/33 [00:11<00:00,  2.94it/s]\n",
            "                 Class     Images  Instances      Box(P          R      mAP50  mAP50-95): 100%|██████████| 5/5 [00:01<00:00,  3.32it/s]"
          ]
        },
        {
          "output_type": "stream",
          "name": "stdout",
          "text": [
            "                   all        133        145      0.923      0.855       0.91      0.537\n"
          ]
        },
        {
          "output_type": "stream",
          "name": "stderr",
          "text": [
            "\n"
          ]
        },
        {
          "output_type": "stream",
          "name": "stdout",
          "text": [
            "\n",
            "      Epoch    GPU_mem   box_loss   cls_loss   dfl_loss  Instances       Size\n"
          ]
        },
        {
          "output_type": "stream",
          "name": "stderr",
          "text": [
            "      23/50      2.94G       1.24     0.7353       1.16         22        640: 100%|██████████| 33/33 [00:11<00:00,  2.93it/s]\n",
            "                 Class     Images  Instances      Box(P          R      mAP50  mAP50-95): 100%|██████████| 5/5 [00:01<00:00,  3.37it/s]"
          ]
        },
        {
          "output_type": "stream",
          "name": "stdout",
          "text": [
            "                   all        133        145      0.891      0.869      0.916       0.55\n"
          ]
        },
        {
          "output_type": "stream",
          "name": "stderr",
          "text": [
            "\n"
          ]
        },
        {
          "output_type": "stream",
          "name": "stdout",
          "text": [
            "\n",
            "      Epoch    GPU_mem   box_loss   cls_loss   dfl_loss  Instances       Size\n"
          ]
        },
        {
          "output_type": "stream",
          "name": "stderr",
          "text": [
            "      24/50      2.96G       1.23     0.7248      1.145         23        640: 100%|██████████| 33/33 [00:11<00:00,  2.89it/s]\n",
            "                 Class     Images  Instances      Box(P          R      mAP50  mAP50-95): 100%|██████████| 5/5 [00:01<00:00,  3.53it/s]"
          ]
        },
        {
          "output_type": "stream",
          "name": "stdout",
          "text": [
            "                   all        133        145      0.915       0.82      0.899      0.554\n"
          ]
        },
        {
          "output_type": "stream",
          "name": "stderr",
          "text": [
            "\n"
          ]
        },
        {
          "output_type": "stream",
          "name": "stdout",
          "text": [
            "\n",
            "      Epoch    GPU_mem   box_loss   cls_loss   dfl_loss  Instances       Size\n"
          ]
        },
        {
          "output_type": "stream",
          "name": "stderr",
          "text": [
            "      25/50      2.97G      1.182     0.7323      1.125         25        640: 100%|██████████| 33/33 [00:11<00:00,  2.87it/s]\n",
            "                 Class     Images  Instances      Box(P          R      mAP50  mAP50-95): 100%|██████████| 5/5 [00:01<00:00,  3.54it/s]"
          ]
        },
        {
          "output_type": "stream",
          "name": "stdout",
          "text": [
            "                   all        133        145      0.937       0.82      0.909      0.537\n"
          ]
        },
        {
          "output_type": "stream",
          "name": "stderr",
          "text": [
            "\n"
          ]
        },
        {
          "output_type": "stream",
          "name": "stdout",
          "text": [
            "\n",
            "      Epoch    GPU_mem   box_loss   cls_loss   dfl_loss  Instances       Size\n"
          ]
        },
        {
          "output_type": "stream",
          "name": "stderr",
          "text": [
            "      26/50      2.99G      1.191     0.7234      1.122         36        640: 100%|██████████| 33/33 [00:11<00:00,  2.99it/s]\n",
            "                 Class     Images  Instances      Box(P          R      mAP50  mAP50-95): 100%|██████████| 5/5 [00:01<00:00,  2.86it/s]\n"
          ]
        },
        {
          "output_type": "stream",
          "name": "stdout",
          "text": [
            "                   all        133        145      0.934      0.876      0.934      0.528\n",
            "\n",
            "      Epoch    GPU_mem   box_loss   cls_loss   dfl_loss  Instances       Size\n"
          ]
        },
        {
          "output_type": "stream",
          "name": "stderr",
          "text": [
            "      27/50      3.01G      1.197     0.7061      1.144         22        640: 100%|██████████| 33/33 [00:11<00:00,  2.93it/s]\n",
            "                 Class     Images  Instances      Box(P          R      mAP50  mAP50-95): 100%|██████████| 5/5 [00:01<00:00,  3.08it/s]"
          ]
        },
        {
          "output_type": "stream",
          "name": "stdout",
          "text": [
            "                   all        133        145      0.947        0.8      0.913      0.549\n"
          ]
        },
        {
          "output_type": "stream",
          "name": "stderr",
          "text": [
            "\n"
          ]
        },
        {
          "output_type": "stream",
          "name": "stdout",
          "text": [
            "\n",
            "      Epoch    GPU_mem   box_loss   cls_loss   dfl_loss  Instances       Size\n"
          ]
        },
        {
          "output_type": "stream",
          "name": "stderr",
          "text": [
            "      28/50      3.02G      1.189     0.7051      1.141         27        640: 100%|██████████| 33/33 [00:10<00:00,  3.01it/s]\n",
            "                 Class     Images  Instances      Box(P          R      mAP50  mAP50-95): 100%|██████████| 5/5 [00:01<00:00,  2.80it/s]"
          ]
        },
        {
          "output_type": "stream",
          "name": "stdout",
          "text": [
            "                   all        133        145      0.915      0.834      0.903      0.536\n"
          ]
        },
        {
          "output_type": "stream",
          "name": "stderr",
          "text": [
            "\n"
          ]
        },
        {
          "output_type": "stream",
          "name": "stdout",
          "text": [
            "\n",
            "      Epoch    GPU_mem   box_loss   cls_loss   dfl_loss  Instances       Size\n"
          ]
        },
        {
          "output_type": "stream",
          "name": "stderr",
          "text": [
            "      29/50      3.04G      1.185     0.7012      1.108         25        640: 100%|██████████| 33/33 [00:10<00:00,  3.08it/s]\n",
            "                 Class     Images  Instances      Box(P          R      mAP50  mAP50-95): 100%|██████████| 5/5 [00:01<00:00,  2.63it/s]"
          ]
        },
        {
          "output_type": "stream",
          "name": "stdout",
          "text": [
            "                   all        133        145      0.944      0.828      0.926       0.57\n"
          ]
        },
        {
          "output_type": "stream",
          "name": "stderr",
          "text": [
            "\n"
          ]
        },
        {
          "output_type": "stream",
          "name": "stdout",
          "text": [
            "\n",
            "      Epoch    GPU_mem   box_loss   cls_loss   dfl_loss  Instances       Size\n"
          ]
        },
        {
          "output_type": "stream",
          "name": "stderr",
          "text": [
            "      30/50      3.06G      1.155     0.6785      1.125         26        640: 100%|██████████| 33/33 [00:10<00:00,  3.18it/s]\n",
            "                 Class     Images  Instances      Box(P          R      mAP50  mAP50-95): 100%|██████████| 5/5 [00:02<00:00,  2.03it/s]"
          ]
        },
        {
          "output_type": "stream",
          "name": "stdout",
          "text": [
            "                   all        133        145      0.907      0.873      0.934      0.582\n"
          ]
        },
        {
          "output_type": "stream",
          "name": "stderr",
          "text": [
            "\n"
          ]
        },
        {
          "output_type": "stream",
          "name": "stdout",
          "text": [
            "\n",
            "      Epoch    GPU_mem   box_loss   cls_loss   dfl_loss  Instances       Size\n"
          ]
        },
        {
          "output_type": "stream",
          "name": "stderr",
          "text": [
            "      31/50      3.07G      1.165     0.6593      1.117         34        640: 100%|██████████| 33/33 [00:10<00:00,  3.20it/s]\n",
            "                 Class     Images  Instances      Box(P          R      mAP50  mAP50-95): 100%|██████████| 5/5 [00:02<00:00,  1.90it/s]"
          ]
        },
        {
          "output_type": "stream",
          "name": "stdout",
          "text": [
            "                   all        133        145       0.95      0.883      0.938      0.555\n"
          ]
        },
        {
          "output_type": "stream",
          "name": "stderr",
          "text": [
            "\n"
          ]
        },
        {
          "output_type": "stream",
          "name": "stdout",
          "text": [
            "\n",
            "      Epoch    GPU_mem   box_loss   cls_loss   dfl_loss  Instances       Size\n"
          ]
        },
        {
          "output_type": "stream",
          "name": "stderr",
          "text": [
            "      32/50      3.09G       1.11     0.6579      1.097         30        640: 100%|██████████| 33/33 [00:10<00:00,  3.11it/s]\n",
            "                 Class     Images  Instances      Box(P          R      mAP50  mAP50-95): 100%|██████████| 5/5 [00:02<00:00,  2.40it/s]"
          ]
        },
        {
          "output_type": "stream",
          "name": "stdout",
          "text": [
            "                   all        133        145      0.883       0.89      0.902      0.562\n"
          ]
        },
        {
          "output_type": "stream",
          "name": "stderr",
          "text": [
            "\n"
          ]
        },
        {
          "output_type": "stream",
          "name": "stdout",
          "text": [
            "\n",
            "      Epoch    GPU_mem   box_loss   cls_loss   dfl_loss  Instances       Size\n"
          ]
        },
        {
          "output_type": "stream",
          "name": "stderr",
          "text": [
            "      33/50      3.11G      1.108     0.6395      1.098         25        640: 100%|██████████| 33/33 [00:10<00:00,  3.01it/s]\n",
            "                 Class     Images  Instances      Box(P          R      mAP50  mAP50-95): 100%|██████████| 5/5 [00:01<00:00,  3.07it/s]"
          ]
        },
        {
          "output_type": "stream",
          "name": "stdout",
          "text": [
            "                   all        133        145      0.914       0.89      0.915      0.576\n"
          ]
        },
        {
          "output_type": "stream",
          "name": "stderr",
          "text": [
            "\n"
          ]
        },
        {
          "output_type": "stream",
          "name": "stdout",
          "text": [
            "\n",
            "      Epoch    GPU_mem   box_loss   cls_loss   dfl_loss  Instances       Size\n"
          ]
        },
        {
          "output_type": "stream",
          "name": "stderr",
          "text": [
            "      34/50      3.12G      1.128     0.6219      1.091         32        640: 100%|██████████| 33/33 [00:10<00:00,  3.01it/s]\n",
            "                 Class     Images  Instances      Box(P          R      mAP50  mAP50-95): 100%|██████████| 5/5 [00:01<00:00,  3.02it/s]"
          ]
        },
        {
          "output_type": "stream",
          "name": "stdout",
          "text": [
            "                   all        133        145      0.879        0.9      0.917      0.559\n"
          ]
        },
        {
          "output_type": "stream",
          "name": "stderr",
          "text": [
            "\n"
          ]
        },
        {
          "output_type": "stream",
          "name": "stdout",
          "text": [
            "\n",
            "      Epoch    GPU_mem   box_loss   cls_loss   dfl_loss  Instances       Size\n"
          ]
        },
        {
          "output_type": "stream",
          "name": "stderr",
          "text": [
            "      35/50      3.14G      1.082     0.6054      1.076         19        640: 100%|██████████| 33/33 [00:11<00:00,  2.92it/s]\n",
            "                 Class     Images  Instances      Box(P          R      mAP50  mAP50-95): 100%|██████████| 5/5 [00:01<00:00,  3.36it/s]"
          ]
        },
        {
          "output_type": "stream",
          "name": "stdout",
          "text": [
            "                   all        133        145      0.928      0.897      0.928      0.564\n"
          ]
        },
        {
          "output_type": "stream",
          "name": "stderr",
          "text": [
            "\n"
          ]
        },
        {
          "output_type": "stream",
          "name": "stdout",
          "text": [
            "\n",
            "      Epoch    GPU_mem   box_loss   cls_loss   dfl_loss  Instances       Size\n"
          ]
        },
        {
          "output_type": "stream",
          "name": "stderr",
          "text": [
            "      36/50      3.16G      1.134     0.6351      1.101         22        640: 100%|██████████| 33/33 [00:11<00:00,  2.87it/s]\n",
            "                 Class     Images  Instances      Box(P          R      mAP50  mAP50-95): 100%|██████████| 5/5 [00:01<00:00,  3.37it/s]"
          ]
        },
        {
          "output_type": "stream",
          "name": "stdout",
          "text": [
            "                   all        133        145      0.905      0.903      0.929       0.57\n"
          ]
        },
        {
          "output_type": "stream",
          "name": "stderr",
          "text": [
            "\n"
          ]
        },
        {
          "output_type": "stream",
          "name": "stdout",
          "text": [
            "\n",
            "      Epoch    GPU_mem   box_loss   cls_loss   dfl_loss  Instances       Size\n"
          ]
        },
        {
          "output_type": "stream",
          "name": "stderr",
          "text": [
            "      37/50      3.18G      1.104     0.5913      1.081         31        640: 100%|██████████| 33/33 [00:10<00:00,  3.00it/s]\n",
            "                 Class     Images  Instances      Box(P          R      mAP50  mAP50-95): 100%|██████████| 5/5 [00:01<00:00,  3.08it/s]"
          ]
        },
        {
          "output_type": "stream",
          "name": "stdout",
          "text": [
            "                   all        133        145      0.948      0.874      0.936       0.58\n"
          ]
        },
        {
          "output_type": "stream",
          "name": "stderr",
          "text": [
            "\n"
          ]
        },
        {
          "output_type": "stream",
          "name": "stdout",
          "text": [
            "\n",
            "      Epoch    GPU_mem   box_loss   cls_loss   dfl_loss  Instances       Size\n"
          ]
        },
        {
          "output_type": "stream",
          "name": "stderr",
          "text": [
            "      38/50      3.19G      1.065     0.5711      1.074         31        640: 100%|██████████| 33/33 [00:11<00:00,  2.93it/s]\n",
            "                 Class     Images  Instances      Box(P          R      mAP50  mAP50-95): 100%|██████████| 5/5 [00:01<00:00,  2.98it/s]"
          ]
        },
        {
          "output_type": "stream",
          "name": "stdout",
          "text": [
            "                   all        133        145      0.901      0.876      0.928      0.561\n"
          ]
        },
        {
          "output_type": "stream",
          "name": "stderr",
          "text": [
            "\n"
          ]
        },
        {
          "output_type": "stream",
          "name": "stdout",
          "text": [
            "\n",
            "      Epoch    GPU_mem   box_loss   cls_loss   dfl_loss  Instances       Size\n"
          ]
        },
        {
          "output_type": "stream",
          "name": "stderr",
          "text": [
            "      39/50      3.21G      1.068     0.5835      1.064         18        640: 100%|██████████| 33/33 [00:11<00:00,  2.89it/s]\n",
            "                 Class     Images  Instances      Box(P          R      mAP50  mAP50-95): 100%|██████████| 5/5 [00:01<00:00,  3.49it/s]"
          ]
        },
        {
          "output_type": "stream",
          "name": "stdout",
          "text": [
            "                   all        133        145      0.927      0.855      0.926       0.55\n"
          ]
        },
        {
          "output_type": "stream",
          "name": "stderr",
          "text": [
            "\n"
          ]
        },
        {
          "output_type": "stream",
          "name": "stdout",
          "text": [
            "\n",
            "      Epoch    GPU_mem   box_loss   cls_loss   dfl_loss  Instances       Size\n"
          ]
        },
        {
          "output_type": "stream",
          "name": "stderr",
          "text": [
            "      40/50      3.23G      1.034     0.5716      1.068         30        640: 100%|██████████| 33/33 [00:11<00:00,  2.86it/s]\n",
            "                 Class     Images  Instances      Box(P          R      mAP50  mAP50-95): 100%|██████████| 5/5 [00:01<00:00,  3.70it/s]"
          ]
        },
        {
          "output_type": "stream",
          "name": "stdout",
          "text": [
            "                   all        133        145      0.925      0.855      0.917      0.581\n"
          ]
        },
        {
          "output_type": "stream",
          "name": "stderr",
          "text": [
            "\n"
          ]
        },
        {
          "output_type": "stream",
          "name": "stdout",
          "text": [
            "Closing dataloader mosaic\n",
            "\u001b[34m\u001b[1malbumentations: \u001b[0mBlur(p=0.01, blur_limit=(3, 7)), MedianBlur(p=0.01, blur_limit=(3, 7)), ToGray(p=0.01, method='weighted_average', num_output_channels=3), CLAHE(p=0.01, clip_limit=(1.0, 4.0), tile_grid_size=(8, 8))\n",
            "\n",
            "      Epoch    GPU_mem   box_loss   cls_loss   dfl_loss  Instances       Size\n"
          ]
        },
        {
          "output_type": "stream",
          "name": "stderr",
          "text": [
            "      41/50      3.25G      1.042     0.5767      1.069         13        640: 100%|██████████| 33/33 [00:12<00:00,  2.55it/s]\n",
            "                 Class     Images  Instances      Box(P          R      mAP50  mAP50-95): 100%|██████████| 5/5 [00:01<00:00,  3.58it/s]"
          ]
        },
        {
          "output_type": "stream",
          "name": "stdout",
          "text": [
            "                   all        133        145      0.917      0.862      0.923      0.582\n"
          ]
        },
        {
          "output_type": "stream",
          "name": "stderr",
          "text": [
            "\n"
          ]
        },
        {
          "output_type": "stream",
          "name": "stdout",
          "text": [
            "\n",
            "      Epoch    GPU_mem   box_loss   cls_loss   dfl_loss  Instances       Size\n"
          ]
        },
        {
          "output_type": "stream",
          "name": "stderr",
          "text": [
            "      42/50      3.27G      1.035     0.5504      1.062         16        640: 100%|██████████| 33/33 [00:11<00:00,  2.97it/s]\n",
            "                 Class     Images  Instances      Box(P          R      mAP50  mAP50-95): 100%|██████████| 5/5 [00:01<00:00,  3.16it/s]"
          ]
        },
        {
          "output_type": "stream",
          "name": "stdout",
          "text": [
            "                   all        133        145      0.897      0.903      0.929      0.582\n"
          ]
        },
        {
          "output_type": "stream",
          "name": "stderr",
          "text": [
            "\n"
          ]
        },
        {
          "output_type": "stream",
          "name": "stdout",
          "text": [
            "\n",
            "      Epoch    GPU_mem   box_loss   cls_loss   dfl_loss  Instances       Size\n"
          ]
        },
        {
          "output_type": "stream",
          "name": "stderr",
          "text": [
            "      43/50      3.28G      1.044     0.5345      1.054         13        640: 100%|██████████| 33/33 [00:11<00:00,  2.92it/s]\n",
            "                 Class     Images  Instances      Box(P          R      mAP50  mAP50-95): 100%|██████████| 5/5 [00:01<00:00,  3.87it/s]"
          ]
        },
        {
          "output_type": "stream",
          "name": "stdout",
          "text": [
            "                   all        133        145       0.93      0.869      0.933      0.574\n"
          ]
        },
        {
          "output_type": "stream",
          "name": "stderr",
          "text": [
            "\n"
          ]
        },
        {
          "output_type": "stream",
          "name": "stdout",
          "text": [
            "\n",
            "      Epoch    GPU_mem   box_loss   cls_loss   dfl_loss  Instances       Size\n"
          ]
        },
        {
          "output_type": "stream",
          "name": "stderr",
          "text": [
            "      44/50       3.3G     0.9948     0.5169      1.047         13        640: 100%|██████████| 33/33 [00:11<00:00,  2.96it/s]\n",
            "                 Class     Images  Instances      Box(P          R      mAP50  mAP50-95): 100%|██████████| 5/5 [00:01<00:00,  3.21it/s]"
          ]
        },
        {
          "output_type": "stream",
          "name": "stdout",
          "text": [
            "                   all        133        145      0.915      0.889      0.923      0.587\n"
          ]
        },
        {
          "output_type": "stream",
          "name": "stderr",
          "text": [
            "\n"
          ]
        },
        {
          "output_type": "stream",
          "name": "stdout",
          "text": [
            "\n",
            "      Epoch    GPU_mem   box_loss   cls_loss   dfl_loss  Instances       Size\n"
          ]
        },
        {
          "output_type": "stream",
          "name": "stderr",
          "text": [
            "      45/50      3.31G     0.9689     0.5036      1.046         13        640: 100%|██████████| 33/33 [00:11<00:00,  3.00it/s]\n",
            "                 Class     Images  Instances      Box(P          R      mAP50  mAP50-95): 100%|██████████| 5/5 [00:01<00:00,  3.30it/s]"
          ]
        },
        {
          "output_type": "stream",
          "name": "stdout",
          "text": [
            "                   all        133        145      0.917       0.89       0.93      0.584\n"
          ]
        },
        {
          "output_type": "stream",
          "name": "stderr",
          "text": [
            "\n"
          ]
        },
        {
          "output_type": "stream",
          "name": "stdout",
          "text": [
            "\n",
            "      Epoch    GPU_mem   box_loss   cls_loss   dfl_loss  Instances       Size\n"
          ]
        },
        {
          "output_type": "stream",
          "name": "stderr",
          "text": [
            "      46/50      3.33G     0.9685     0.4998      1.032         14        640: 100%|██████████| 33/33 [00:11<00:00,  3.00it/s]\n",
            "                 Class     Images  Instances      Box(P          R      mAP50  mAP50-95): 100%|██████████| 5/5 [00:01<00:00,  3.48it/s]"
          ]
        },
        {
          "output_type": "stream",
          "name": "stdout",
          "text": [
            "                   all        133        145      0.936      0.903      0.944       0.58\n"
          ]
        },
        {
          "output_type": "stream",
          "name": "stderr",
          "text": [
            "\n"
          ]
        },
        {
          "output_type": "stream",
          "name": "stdout",
          "text": [
            "\n",
            "      Epoch    GPU_mem   box_loss   cls_loss   dfl_loss  Instances       Size\n"
          ]
        },
        {
          "output_type": "stream",
          "name": "stderr",
          "text": [
            "      47/50      3.35G     0.9609     0.4996      1.031         13        640: 100%|██████████| 33/33 [00:11<00:00,  2.99it/s]\n",
            "                 Class     Images  Instances      Box(P          R      mAP50  mAP50-95): 100%|██████████| 5/5 [00:01<00:00,  2.97it/s]"
          ]
        },
        {
          "output_type": "stream",
          "name": "stdout",
          "text": [
            "                   all        133        145      0.912      0.897      0.922      0.557\n"
          ]
        },
        {
          "output_type": "stream",
          "name": "stderr",
          "text": [
            "\n"
          ]
        },
        {
          "output_type": "stream",
          "name": "stdout",
          "text": [
            "\n",
            "      Epoch    GPU_mem   box_loss   cls_loss   dfl_loss  Instances       Size\n"
          ]
        },
        {
          "output_type": "stream",
          "name": "stderr",
          "text": [
            "      48/50      3.37G      0.943     0.4911      1.034         13        640: 100%|██████████| 33/33 [00:11<00:00,  2.96it/s]\n",
            "                 Class     Images  Instances      Box(P          R      mAP50  mAP50-95): 100%|██████████| 5/5 [00:01<00:00,  3.56it/s]"
          ]
        },
        {
          "output_type": "stream",
          "name": "stdout",
          "text": [
            "                   all        133        145      0.891      0.903      0.918      0.584\n"
          ]
        },
        {
          "output_type": "stream",
          "name": "stderr",
          "text": [
            "\n"
          ]
        },
        {
          "output_type": "stream",
          "name": "stdout",
          "text": [
            "\n",
            "      Epoch    GPU_mem   box_loss   cls_loss   dfl_loss  Instances       Size\n"
          ]
        },
        {
          "output_type": "stream",
          "name": "stderr",
          "text": [
            "      49/50      3.38G      0.927     0.4843      1.008         14        640: 100%|██████████| 33/33 [00:11<00:00,  2.96it/s]\n",
            "                 Class     Images  Instances      Box(P          R      mAP50  mAP50-95): 100%|██████████| 5/5 [00:01<00:00,  3.43it/s]"
          ]
        },
        {
          "output_type": "stream",
          "name": "stdout",
          "text": [
            "                   all        133        145      0.892      0.903      0.932      0.586\n"
          ]
        },
        {
          "output_type": "stream",
          "name": "stderr",
          "text": [
            "\n"
          ]
        },
        {
          "output_type": "stream",
          "name": "stdout",
          "text": [
            "\n",
            "      Epoch    GPU_mem   box_loss   cls_loss   dfl_loss  Instances       Size\n"
          ]
        },
        {
          "output_type": "stream",
          "name": "stderr",
          "text": [
            "      50/50       3.4G     0.9158     0.4711       1.03         13        640: 100%|██████████| 33/33 [00:10<00:00,  3.12it/s]\n",
            "                 Class     Images  Instances      Box(P          R      mAP50  mAP50-95): 100%|██████████| 5/5 [00:01<00:00,  3.49it/s]"
          ]
        },
        {
          "output_type": "stream",
          "name": "stdout",
          "text": [
            "                   all        133        145      0.906      0.903      0.932      0.594\n"
          ]
        },
        {
          "output_type": "stream",
          "name": "stderr",
          "text": [
            "\n"
          ]
        },
        {
          "output_type": "stream",
          "name": "stdout",
          "text": [
            "\n",
            "50 epochs completed in 0.189 hours.\n",
            "Optimizer stripped from runs/detect/train2/weights/last.pt, 6.2MB\n",
            "Optimizer stripped from runs/detect/train2/weights/best.pt, 6.2MB\n",
            "\n",
            "Validating runs/detect/train2/weights/best.pt...\n",
            "Ultralytics 8.3.165 🚀 Python-3.11.13 torch-2.6.0+cu124 CUDA:0 (Tesla T4, 15095MiB)\n",
            "Model summary (fused): 72 layers, 3,005,843 parameters, 0 gradients, 8.1 GFLOPs\n"
          ]
        },
        {
          "output_type": "stream",
          "name": "stderr",
          "text": [
            "                 Class     Images  Instances      Box(P          R      mAP50  mAP50-95): 100%|██████████| 5/5 [00:02<00:00,  1.75it/s]\n"
          ]
        },
        {
          "output_type": "stream",
          "name": "stdout",
          "text": [
            "                   all        133        145      0.906      0.903      0.932      0.596\n",
            "Speed: 0.2ms preprocess, 2.9ms inference, 0.0ms loss, 6.7ms postprocess per image\n",
            "Results saved to \u001b[1mruns/detect/train2\u001b[0m\n"
          ]
        },
        {
          "output_type": "execute_result",
          "data": {
            "text/plain": [
              "ultralytics.utils.metrics.DetMetrics object with attributes:\n",
              "\n",
              "ap_class_index: array([0])\n",
              "box: ultralytics.utils.metrics.Metric object\n",
              "confusion_matrix: <ultralytics.utils.metrics.ConfusionMatrix object at 0x7b0e25b64e90>\n",
              "curves: ['Precision-Recall(B)', 'F1-Confidence(B)', 'Precision-Confidence(B)', 'Recall-Confidence(B)']\n",
              "curves_results: [[array([          0,    0.001001,    0.002002,    0.003003,    0.004004,    0.005005,    0.006006,    0.007007,    0.008008,    0.009009,     0.01001,    0.011011,    0.012012,    0.013013,    0.014014,    0.015015,    0.016016,    0.017017,    0.018018,    0.019019,     0.02002,    0.021021,    0.022022,    0.023023,\n",
              "          0.024024,    0.025025,    0.026026,    0.027027,    0.028028,    0.029029,     0.03003,    0.031031,    0.032032,    0.033033,    0.034034,    0.035035,    0.036036,    0.037037,    0.038038,    0.039039,     0.04004,    0.041041,    0.042042,    0.043043,    0.044044,    0.045045,    0.046046,    0.047047,\n",
              "          0.048048,    0.049049,     0.05005,    0.051051,    0.052052,    0.053053,    0.054054,    0.055055,    0.056056,    0.057057,    0.058058,    0.059059,     0.06006,    0.061061,    0.062062,    0.063063,    0.064064,    0.065065,    0.066066,    0.067067,    0.068068,    0.069069,     0.07007,    0.071071,\n",
              "          0.072072,    0.073073,    0.074074,    0.075075,    0.076076,    0.077077,    0.078078,    0.079079,     0.08008,    0.081081,    0.082082,    0.083083,    0.084084,    0.085085,    0.086086,    0.087087,    0.088088,    0.089089,     0.09009,    0.091091,    0.092092,    0.093093,    0.094094,    0.095095,\n",
              "          0.096096,    0.097097,    0.098098,    0.099099,      0.1001,      0.1011,      0.1021,      0.1031,      0.1041,     0.10511,     0.10611,     0.10711,     0.10811,     0.10911,     0.11011,     0.11111,     0.11211,     0.11311,     0.11411,     0.11512,     0.11612,     0.11712,     0.11812,     0.11912,\n",
              "           0.12012,     0.12112,     0.12212,     0.12312,     0.12412,     0.12513,     0.12613,     0.12713,     0.12813,     0.12913,     0.13013,     0.13113,     0.13213,     0.13313,     0.13413,     0.13514,     0.13614,     0.13714,     0.13814,     0.13914,     0.14014,     0.14114,     0.14214,     0.14314,\n",
              "           0.14414,     0.14515,     0.14615,     0.14715,     0.14815,     0.14915,     0.15015,     0.15115,     0.15215,     0.15315,     0.15415,     0.15516,     0.15616,     0.15716,     0.15816,     0.15916,     0.16016,     0.16116,     0.16216,     0.16316,     0.16416,     0.16517,     0.16617,     0.16717,\n",
              "           0.16817,     0.16917,     0.17017,     0.17117,     0.17217,     0.17317,     0.17417,     0.17518,     0.17618,     0.17718,     0.17818,     0.17918,     0.18018,     0.18118,     0.18218,     0.18318,     0.18418,     0.18519,     0.18619,     0.18719,     0.18819,     0.18919,     0.19019,     0.19119,\n",
              "           0.19219,     0.19319,     0.19419,      0.1952,      0.1962,      0.1972,      0.1982,      0.1992,      0.2002,      0.2012,      0.2022,      0.2032,      0.2042,     0.20521,     0.20621,     0.20721,     0.20821,     0.20921,     0.21021,     0.21121,     0.21221,     0.21321,     0.21421,     0.21522,\n",
              "           0.21622,     0.21722,     0.21822,     0.21922,     0.22022,     0.22122,     0.22222,     0.22322,     0.22422,     0.22523,     0.22623,     0.22723,     0.22823,     0.22923,     0.23023,     0.23123,     0.23223,     0.23323,     0.23423,     0.23524,     0.23624,     0.23724,     0.23824,     0.23924,\n",
              "           0.24024,     0.24124,     0.24224,     0.24324,     0.24424,     0.24525,     0.24625,     0.24725,     0.24825,     0.24925,     0.25025,     0.25125,     0.25225,     0.25325,     0.25425,     0.25526,     0.25626,     0.25726,     0.25826,     0.25926,     0.26026,     0.26126,     0.26226,     0.26326,\n",
              "           0.26426,     0.26527,     0.26627,     0.26727,     0.26827,     0.26927,     0.27027,     0.27127,     0.27227,     0.27327,     0.27427,     0.27528,     0.27628,     0.27728,     0.27828,     0.27928,     0.28028,     0.28128,     0.28228,     0.28328,     0.28428,     0.28529,     0.28629,     0.28729,\n",
              "           0.28829,     0.28929,     0.29029,     0.29129,     0.29229,     0.29329,     0.29429,      0.2953,      0.2963,      0.2973,      0.2983,      0.2993,      0.3003,      0.3013,      0.3023,      0.3033,      0.3043,     0.30531,     0.30631,     0.30731,     0.30831,     0.30931,     0.31031,     0.31131,\n",
              "           0.31231,     0.31331,     0.31431,     0.31532,     0.31632,     0.31732,     0.31832,     0.31932,     0.32032,     0.32132,     0.32232,     0.32332,     0.32432,     0.32533,     0.32633,     0.32733,     0.32833,     0.32933,     0.33033,     0.33133,     0.33233,     0.33333,     0.33433,     0.33534,\n",
              "           0.33634,     0.33734,     0.33834,     0.33934,     0.34034,     0.34134,     0.34234,     0.34334,     0.34434,     0.34535,     0.34635,     0.34735,     0.34835,     0.34935,     0.35035,     0.35135,     0.35235,     0.35335,     0.35435,     0.35536,     0.35636,     0.35736,     0.35836,     0.35936,\n",
              "           0.36036,     0.36136,     0.36236,     0.36336,     0.36436,     0.36537,     0.36637,     0.36737,     0.36837,     0.36937,     0.37037,     0.37137,     0.37237,     0.37337,     0.37437,     0.37538,     0.37638,     0.37738,     0.37838,     0.37938,     0.38038,     0.38138,     0.38238,     0.38338,\n",
              "           0.38438,     0.38539,     0.38639,     0.38739,     0.38839,     0.38939,     0.39039,     0.39139,     0.39239,     0.39339,     0.39439,      0.3954,      0.3964,      0.3974,      0.3984,      0.3994,      0.4004,      0.4014,      0.4024,      0.4034,      0.4044,     0.40541,     0.40641,     0.40741,\n",
              "           0.40841,     0.40941,     0.41041,     0.41141,     0.41241,     0.41341,     0.41441,     0.41542,     0.41642,     0.41742,     0.41842,     0.41942,     0.42042,     0.42142,     0.42242,     0.42342,     0.42442,     0.42543,     0.42643,     0.42743,     0.42843,     0.42943,     0.43043,     0.43143,\n",
              "           0.43243,     0.43343,     0.43443,     0.43544,     0.43644,     0.43744,     0.43844,     0.43944,     0.44044,     0.44144,     0.44244,     0.44344,     0.44444,     0.44545,     0.44645,     0.44745,     0.44845,     0.44945,     0.45045,     0.45145,     0.45245,     0.45345,     0.45445,     0.45546,\n",
              "           0.45646,     0.45746,     0.45846,     0.45946,     0.46046,     0.46146,     0.46246,     0.46346,     0.46446,     0.46547,     0.46647,     0.46747,     0.46847,     0.46947,     0.47047,     0.47147,     0.47247,     0.47347,     0.47447,     0.47548,     0.47648,     0.47748,     0.47848,     0.47948,\n",
              "           0.48048,     0.48148,     0.48248,     0.48348,     0.48448,     0.48549,     0.48649,     0.48749,     0.48849,     0.48949,     0.49049,     0.49149,     0.49249,     0.49349,     0.49449,      0.4955,      0.4965,      0.4975,      0.4985,      0.4995,      0.5005,      0.5015,      0.5025,      0.5035,\n",
              "            0.5045,     0.50551,     0.50651,     0.50751,     0.50851,     0.50951,     0.51051,     0.51151,     0.51251,     0.51351,     0.51451,     0.51552,     0.51652,     0.51752,     0.51852,     0.51952,     0.52052,     0.52152,     0.52252,     0.52352,     0.52452,     0.52553,     0.52653,     0.52753,\n",
              "           0.52853,     0.52953,     0.53053,     0.53153,     0.53253,     0.53353,     0.53453,     0.53554,     0.53654,     0.53754,     0.53854,     0.53954,     0.54054,     0.54154,     0.54254,     0.54354,     0.54454,     0.54555,     0.54655,     0.54755,     0.54855,     0.54955,     0.55055,     0.55155,\n",
              "           0.55255,     0.55355,     0.55455,     0.55556,     0.55656,     0.55756,     0.55856,     0.55956,     0.56056,     0.56156,     0.56256,     0.56356,     0.56456,     0.56557,     0.56657,     0.56757,     0.56857,     0.56957,     0.57057,     0.57157,     0.57257,     0.57357,     0.57457,     0.57558,\n",
              "           0.57658,     0.57758,     0.57858,     0.57958,     0.58058,     0.58158,     0.58258,     0.58358,     0.58458,     0.58559,     0.58659,     0.58759,     0.58859,     0.58959,     0.59059,     0.59159,     0.59259,     0.59359,     0.59459,      0.5956,      0.5966,      0.5976,      0.5986,      0.5996,\n",
              "            0.6006,      0.6016,      0.6026,      0.6036,      0.6046,     0.60561,     0.60661,     0.60761,     0.60861,     0.60961,     0.61061,     0.61161,     0.61261,     0.61361,     0.61461,     0.61562,     0.61662,     0.61762,     0.61862,     0.61962,     0.62062,     0.62162,     0.62262,     0.62362,\n",
              "           0.62462,     0.62563,     0.62663,     0.62763,     0.62863,     0.62963,     0.63063,     0.63163,     0.63263,     0.63363,     0.63463,     0.63564,     0.63664,     0.63764,     0.63864,     0.63964,     0.64064,     0.64164,     0.64264,     0.64364,     0.64464,     0.64565,     0.64665,     0.64765,\n",
              "           0.64865,     0.64965,     0.65065,     0.65165,     0.65265,     0.65365,     0.65465,     0.65566,     0.65666,     0.65766,     0.65866,     0.65966,     0.66066,     0.66166,     0.66266,     0.66366,     0.66466,     0.66567,     0.66667,     0.66767,     0.66867,     0.66967,     0.67067,     0.67167,\n",
              "           0.67267,     0.67367,     0.67467,     0.67568,     0.67668,     0.67768,     0.67868,     0.67968,     0.68068,     0.68168,     0.68268,     0.68368,     0.68468,     0.68569,     0.68669,     0.68769,     0.68869,     0.68969,     0.69069,     0.69169,     0.69269,     0.69369,     0.69469,      0.6957,\n",
              "            0.6967,      0.6977,      0.6987,      0.6997,      0.7007,      0.7017,      0.7027,      0.7037,      0.7047,     0.70571,     0.70671,     0.70771,     0.70871,     0.70971,     0.71071,     0.71171,     0.71271,     0.71371,     0.71471,     0.71572,     0.71672,     0.71772,     0.71872,     0.71972,\n",
              "           0.72072,     0.72172,     0.72272,     0.72372,     0.72472,     0.72573,     0.72673,     0.72773,     0.72873,     0.72973,     0.73073,     0.73173,     0.73273,     0.73373,     0.73473,     0.73574,     0.73674,     0.73774,     0.73874,     0.73974,     0.74074,     0.74174,     0.74274,     0.74374,\n",
              "           0.74474,     0.74575,     0.74675,     0.74775,     0.74875,     0.74975,     0.75075,     0.75175,     0.75275,     0.75375,     0.75475,     0.75576,     0.75676,     0.75776,     0.75876,     0.75976,     0.76076,     0.76176,     0.76276,     0.76376,     0.76476,     0.76577,     0.76677,     0.76777,\n",
              "           0.76877,     0.76977,     0.77077,     0.77177,     0.77277,     0.77377,     0.77477,     0.77578,     0.77678,     0.77778,     0.77878,     0.77978,     0.78078,     0.78178,     0.78278,     0.78378,     0.78478,     0.78579,     0.78679,     0.78779,     0.78879,     0.78979,     0.79079,     0.79179,\n",
              "           0.79279,     0.79379,     0.79479,      0.7958,      0.7968,      0.7978,      0.7988,      0.7998,      0.8008,      0.8018,      0.8028,      0.8038,      0.8048,     0.80581,     0.80681,     0.80781,     0.80881,     0.80981,     0.81081,     0.81181,     0.81281,     0.81381,     0.81481,     0.81582,\n",
              "           0.81682,     0.81782,     0.81882,     0.81982,     0.82082,     0.82182,     0.82282,     0.82382,     0.82482,     0.82583,     0.82683,     0.82783,     0.82883,     0.82983,     0.83083,     0.83183,     0.83283,     0.83383,     0.83483,     0.83584,     0.83684,     0.83784,     0.83884,     0.83984,\n",
              "           0.84084,     0.84184,     0.84284,     0.84384,     0.84484,     0.84585,     0.84685,     0.84785,     0.84885,     0.84985,     0.85085,     0.85185,     0.85285,     0.85385,     0.85485,     0.85586,     0.85686,     0.85786,     0.85886,     0.85986,     0.86086,     0.86186,     0.86286,     0.86386,\n",
              "           0.86486,     0.86587,     0.86687,     0.86787,     0.86887,     0.86987,     0.87087,     0.87187,     0.87287,     0.87387,     0.87487,     0.87588,     0.87688,     0.87788,     0.87888,     0.87988,     0.88088,     0.88188,     0.88288,     0.88388,     0.88488,     0.88589,     0.88689,     0.88789,\n",
              "           0.88889,     0.88989,     0.89089,     0.89189,     0.89289,     0.89389,     0.89489,      0.8959,      0.8969,      0.8979,      0.8989,      0.8999,      0.9009,      0.9019,      0.9029,      0.9039,      0.9049,     0.90591,     0.90691,     0.90791,     0.90891,     0.90991,     0.91091,     0.91191,\n",
              "           0.91291,     0.91391,     0.91491,     0.91592,     0.91692,     0.91792,     0.91892,     0.91992,     0.92092,     0.92192,     0.92292,     0.92392,     0.92492,     0.92593,     0.92693,     0.92793,     0.92893,     0.92993,     0.93093,     0.93193,     0.93293,     0.93393,     0.93493,     0.93594,\n",
              "           0.93694,     0.93794,     0.93894,     0.93994,     0.94094,     0.94194,     0.94294,     0.94394,     0.94494,     0.94595,     0.94695,     0.94795,     0.94895,     0.94995,     0.95095,     0.95195,     0.95295,     0.95395,     0.95495,     0.95596,     0.95696,     0.95796,     0.95896,     0.95996,\n",
              "           0.96096,     0.96196,     0.96296,     0.96396,     0.96496,     0.96597,     0.96697,     0.96797,     0.96897,     0.96997,     0.97097,     0.97197,     0.97297,     0.97397,     0.97497,     0.97598,     0.97698,     0.97798,     0.97898,     0.97998,     0.98098,     0.98198,     0.98298,     0.98398,\n",
              "           0.98498,     0.98599,     0.98699,     0.98799,     0.98899,     0.98999,     0.99099,     0.99199,     0.99299,     0.99399,     0.99499,       0.996,       0.997,       0.998,       0.999,           1]), array([[          1,           1,           1,           1,           1,           1,           1,           1,           1,           1,           1,           1,           1,           1,           1,           1,           1,           1,           1,           1,           1,           1,           1,\n",
              "                  1,           1,           1,           1,           1,           1,           1,           1,           1,           1,           1,           1,           1,           1,           1,           1,           1,           1,           1,           1,           1,           1,           1,\n",
              "                  1,           1,           1,           1,           1,           1,           1,           1,           1,           1,           1,           1,           1,           1,           1,           1,           1,           1,           1,           1,           1,           1,           1,\n",
              "             0.9899,      0.9899,      0.9899,      0.9899,      0.9899,      0.9899,      0.9899,      0.9899,      0.9899,      0.9899,      0.9899,      0.9899,      0.9899,      0.9899,      0.9899,      0.9899,      0.9899,      0.9899,      0.9899,      0.9899,      0.9899,      0.9899,      0.9899,\n",
              "             0.9899,      0.9899,      0.9899,      0.9899,      0.9899,      0.9899,      0.9899,      0.9899,      0.9899,      0.9899,      0.9899,      0.9899,      0.9899,      0.9899,      0.9899,      0.9899,      0.9899,      0.9899,      0.9899,      0.9899,      0.9899,      0.9899,      0.9899,\n",
              "             0.9899,      0.9899,      0.9899,      0.9899,      0.9899,      0.9899,      0.9899,      0.9899,      0.9899,      0.9899,      0.9899,      0.9899,      0.9899,      0.9899,      0.9899,      0.9899,      0.9899,      0.9899,      0.9899,      0.9899,      0.9899,      0.9899,      0.9899,\n",
              "             0.9899,      0.9899,      0.9899,      0.9899,      0.9899,      0.9899,      0.9899,      0.9899,      0.9899,      0.9899,      0.9899,      0.9899,      0.9899,      0.9899,      0.9899,      0.9899,      0.9899,      0.9899,      0.9899,      0.9899,      0.9899,      0.9899,      0.9899,\n",
              "             0.9899,      0.9899,      0.9899,      0.9899,      0.9899,      0.9899,      0.9899,      0.9899,      0.9899,      0.9899,      0.9899,      0.9899,      0.9899,      0.9899,      0.9899,      0.9899,      0.9899,      0.9899,      0.9899,      0.9899,      0.9899,      0.9899,      0.9899,\n",
              "             0.9899,      0.9899,      0.9899,      0.9899,      0.9899,      0.9899,      0.9899,      0.9899,      0.9899,      0.9899,      0.9899,      0.9899,      0.9899,      0.9899,      0.9899,      0.9899,      0.9899,      0.9899,      0.9899,      0.9899,      0.9899,      0.9899,      0.9899,\n",
              "             0.9899,      0.9899,      0.9899,      0.9899,      0.9899,      0.9899,      0.9899,      0.9899,      0.9899,      0.9899,      0.9899,      0.9899,      0.9899,      0.9899,      0.9899,      0.9899,      0.9899,      0.9899,      0.9899,      0.9899,      0.9899,      0.9899,      0.9899,\n",
              "             0.9899,      0.9899,      0.9899,      0.9899,      0.9899,      0.9899,      0.9899,      0.9899,      0.9899,      0.9899,      0.9899,      0.9899,      0.9899,      0.9899,      0.9899,      0.9899,      0.9899,      0.9899,      0.9899,      0.9899,      0.9899,      0.9899,      0.9899,\n",
              "             0.9899,      0.9899,      0.9899,      0.9899,      0.9899,      0.9899,      0.9899,      0.9899,      0.9899,      0.9899,      0.9899,      0.9899,      0.9899,      0.9899,      0.9899,      0.9899,      0.9899,      0.9899,      0.9899,      0.9899,      0.9899,      0.9899,      0.9899,\n",
              "             0.9899,      0.9899,      0.9899,      0.9899,      0.9899,      0.9899,      0.9899,      0.9899,      0.9899,      0.9899,      0.9899,      0.9899,      0.9899,      0.9899,      0.9899,      0.9899,      0.9899,      0.9899,      0.9899,      0.9899,      0.9899,      0.9899,      0.9899,\n",
              "             0.9899,      0.9899,      0.9899,      0.9899,      0.9899,      0.9899,      0.9899,      0.9899,      0.9899,      0.9899,      0.9899,      0.9899,      0.9899,      0.9899,      0.9899,      0.9899,      0.9899,      0.9899,      0.9899,      0.9899,      0.9899,      0.9899,      0.9899,\n",
              "             0.9899,      0.9899,      0.9899,      0.9899,      0.9899,      0.9899,      0.9899,      0.9899,      0.9899,      0.9899,      0.9899,      0.9899,      0.9899,      0.9899,      0.9899,      0.9899,      0.9899,      0.9899,      0.9899,      0.9899,      0.9899,      0.9899,      0.9899,\n",
              "             0.9899,      0.9899,      0.9899,      0.9899,      0.9899,      0.9899,      0.9899,      0.9899,      0.9899,      0.9899,      0.9899,      0.9899,      0.9899,      0.9899,      0.9899,      0.9899,      0.9899,      0.9899,      0.9899,      0.9899,      0.9899,      0.9899,      0.9899,\n",
              "             0.9899,      0.9899,      0.9899,      0.9899,      0.9899,      0.9899,      0.9899,      0.9899,      0.9899,      0.9899,      0.9899,      0.9899,      0.9899,      0.9899,      0.9899,      0.9899,      0.9899,      0.9899,      0.9899,      0.9899,      0.9899,      0.9899,      0.9899,\n",
              "             0.9899,      0.9899,      0.9899,      0.9899,      0.9899,      0.9899,      0.9899,      0.9899,      0.9899,      0.9899,      0.9899,      0.9899,      0.9899,      0.9899,      0.9899,      0.9899,      0.9899,      0.9899,      0.9899,      0.9899,      0.9899,      0.9899,      0.9899,\n",
              "             0.9899,      0.9899,      0.9899,      0.9899,      0.9899,      0.9899,      0.9899,      0.9899,      0.9899,      0.9899,      0.9899,      0.9899,      0.9899,      0.9899,      0.9899,      0.9899,      0.9899,      0.9899,      0.9899,      0.9899,      0.9899,      0.9899,      0.9899,\n",
              "             0.9899,      0.9899,      0.9899,      0.9899,      0.9899,      0.9899,      0.9899,      0.9899,      0.9899,      0.9899,      0.9899,      0.9899,      0.9899,      0.9899,      0.9899,      0.9899,      0.9899,      0.9899,      0.9899,      0.9899,      0.9899,      0.9899,      0.9899,\n",
              "             0.9899,      0.9899,      0.9899,      0.9899,      0.9899,      0.9899,      0.9899,      0.9899,      0.9899,      0.9899,      0.9899,      0.9899,      0.9899,      0.9899,      0.9899,      0.9899,      0.9899,      0.9899,      0.9899,      0.9899,      0.9899,      0.9899,      0.9899,\n",
              "             0.9899,      0.9899,      0.9899,      0.9899,      0.9899,      0.9899,      0.9899,      0.9899,      0.9899,      0.9899,      0.9899,      0.9899,      0.9899,      0.9899,      0.9899,      0.9899,      0.9899,      0.9899,      0.9899,      0.9899,      0.9899,      0.9899,      0.9899,\n",
              "             0.9899,      0.9899,      0.9899,      0.9899,      0.9899,      0.9899,      0.9899,      0.9899,      0.9899,      0.9899,      0.9899,      0.9899,      0.9899,      0.9899,      0.9899,      0.9899,      0.9899,      0.9899,      0.9899,      0.9899,      0.9899,      0.9899,      0.9899,\n",
              "             0.9899,      0.9899,      0.9899,      0.9899,      0.9899,      0.9899,      0.9899,      0.9899,      0.9899,      0.9899,      0.9899,      0.9899,      0.9899,      0.9899,      0.9899,      0.9899,      0.9899,      0.9899,      0.9899,      0.9899,      0.9899,      0.9899,      0.9899,\n",
              "             0.9899,      0.9899,      0.9899,      0.9899,      0.9899,      0.9899,      0.9899,      0.9899,      0.9899,      0.9899,      0.9899,      0.9899,      0.9899,      0.9899,      0.9899,      0.9899,      0.9899,      0.9899,      0.9899,      0.9899,      0.9899,      0.9899,      0.9899,\n",
              "             0.9899,      0.9899,      0.9899,      0.9899,      0.9899,      0.9899,      0.9899,      0.9899,      0.9899,      0.9899,      0.9899,      0.9899,      0.9899,      0.9899,      0.9899,      0.9899,      0.9899,      0.9899,      0.9899,      0.9899,      0.9899,      0.9899,      0.9899,\n",
              "             0.9899,      0.9899,      0.9899,      0.9899,      0.9899,      0.9899,      0.9899,      0.9899,      0.9899,      0.9899,      0.9899,      0.9899,      0.9899,      0.9899,      0.9899,      0.9899,      0.9899,      0.9899,      0.9899,      0.9899,      0.9899,      0.9899,      0.9899,\n",
              "             0.9899,      0.9899,      0.9899,      0.9899,      0.9899,      0.9899,      0.9899,      0.9899,      0.9899,      0.9899,      0.9899,      0.9899,      0.9899,      0.9899,      0.9899,      0.9899,      0.9899,      0.9899,      0.9899,      0.9899,      0.9899,      0.9899,      0.9899,\n",
              "             0.9899,      0.9899,      0.9899,      0.9899,      0.9899,      0.9899,      0.9899,      0.9899,      0.9899,      0.9899,      0.9899,      0.9899,      0.9899,      0.9899,      0.9899,      0.9899,      0.9899,      0.9899,      0.9899,      0.9899,      0.9899,      0.9899,      0.9899,\n",
              "             0.9899,      0.9899,      0.9899,      0.9899,      0.9899,      0.9899,      0.9899,      0.9899,      0.9899,     0.98077,     0.98077,     0.98077,     0.98077,     0.98077,     0.98077,     0.98077,     0.98077,     0.98077,     0.98077,     0.98077,     0.98077,     0.98077,     0.98077,\n",
              "            0.98077,     0.98077,     0.98077,     0.98077,     0.98077,     0.98077,     0.98077,     0.98077,     0.98077,     0.98077,     0.98077,     0.98077,     0.98077,     0.97391,     0.97391,     0.97391,     0.97391,     0.97391,     0.97391,     0.97391,     0.97391,     0.97391,     0.97391,\n",
              "            0.97391,     0.97391,     0.97391,     0.97391,     0.97391,     0.97391,     0.97391,     0.97391,     0.97391,     0.97391,     0.97391,     0.97391,     0.97391,     0.97391,     0.97391,     0.97391,     0.97391,     0.97391,     0.97391,     0.97391,     0.97391,     0.97391,     0.97391,\n",
              "            0.97391,     0.97391,     0.97391,     0.97391,     0.97391,     0.97391,     0.97391,     0.97391,     0.97391,     0.97391,     0.97391,     0.97391,     0.97391,     0.97391,     0.97391,     0.97391,     0.97391,     0.97391,     0.97391,     0.97391,     0.97391,     0.97391,     0.97391,\n",
              "            0.97391,     0.97391,     0.97391,     0.97391,     0.97391,     0.97391,     0.97391,     0.97391,     0.97391,     0.97391,     0.97391,     0.97391,     0.97391,     0.95902,     0.95902,     0.95902,     0.95902,     0.95902,     0.95902,     0.95902,     0.95902,     0.95902,     0.95902,\n",
              "            0.95902,     0.95902,     0.95902,     0.95902,     0.95902,     0.95902,     0.95902,     0.95902,     0.95902,     0.95902,     0.95902,     0.95902,     0.95902,     0.95902,     0.95902,     0.95902,     0.95902,     0.95902,     0.95902,     0.95902,     0.95902,     0.95902,     0.95902,\n",
              "            0.95902,     0.95902,       0.944,       0.944,       0.944,       0.944,       0.944,       0.944,     0.93798,     0.93798,     0.93798,     0.93798,     0.93798,     0.93798,     0.93798,     0.93798,     0.93798,     0.93798,     0.93798,     0.93798,     0.93798,     0.93798,     0.93798,\n",
              "            0.93798,     0.93798,     0.93798,     0.93798,     0.93798,     0.93798,     0.93233,     0.93233,     0.93233,     0.93233,     0.93233,     0.93233,     0.93233,     0.93233,     0.93233,     0.93233,     0.93233,     0.93233,     0.93233,     0.93233,     0.93233,     0.93233,     0.93233,\n",
              "            0.93233,     0.93233,     0.93233,     0.93233,     0.92593,     0.92593,     0.92593,     0.92593,     0.92593,     0.92593,     0.92593,     0.91304,     0.91304,     0.91304,     0.91304,     0.91304,     0.91304,     0.91304,     0.90972,     0.90972,     0.90972,     0.90972,     0.90972,\n",
              "            0.90972,     0.90972,     0.90972,     0.90972,     0.90972,     0.90972,     0.90972,     0.90972,     0.90972,     0.90972,     0.90972,     0.90972,     0.90972,     0.90972,     0.90972,     0.90972,     0.90972,     0.90972,     0.90972,     0.90972,     0.90972,     0.90972,     0.90972,\n",
              "            0.90972,     0.90972,     0.90972,     0.90972,     0.90972,     0.90972,     0.90411,     0.90411,     0.90411,     0.90411,     0.90411,     0.90411,     0.90411,     0.85256,     0.85256,     0.85256,     0.85256,     0.85256,     0.85256,     0.85256,      0.8024,      0.8024,      0.8024,\n",
              "             0.8024,      0.8024,      0.8024,      0.8024,     0.79882,     0.79882,     0.79882,     0.79882,     0.79882,     0.79882,     0.79882,      0.7907,      0.7907,      0.7907,      0.7907,      0.7907,      0.7907,     0.64319,     0.64319,     0.64319,     0.64319,     0.64319,     0.64319,\n",
              "            0.64319,     0.50735,     0.50735,     0.50735,     0.50735,     0.50735,     0.50735,     0.50735,     0.36144,     0.35391,     0.34638,     0.33885,     0.33132,     0.32379,     0.31626,     0.30873,      0.3012,     0.29367,     0.28614,     0.27861,     0.27108,     0.26355,     0.25602,\n",
              "            0.24849,     0.24096,     0.23343,      0.2259,     0.21837,     0.21084,     0.20331,     0.19578,     0.18825,     0.18072,     0.17319,     0.16566,     0.15813,      0.1506,     0.14307,     0.13554,     0.12801,     0.12048,     0.11295,     0.10542,    0.097891,    0.090361,    0.082831,\n",
              "           0.075301,    0.067771,    0.060241,    0.052711,    0.045181,     0.03765,     0.03012,     0.02259,     0.01506,   0.0075301,           0]]), 'Recall', 'Precision'], [array([          0,    0.001001,    0.002002,    0.003003,    0.004004,    0.005005,    0.006006,    0.007007,    0.008008,    0.009009,     0.01001,    0.011011,    0.012012,    0.013013,    0.014014,    0.015015,    0.016016,    0.017017,    0.018018,    0.019019,     0.02002,    0.021021,    0.022022,    0.023023,\n",
              "          0.024024,    0.025025,    0.026026,    0.027027,    0.028028,    0.029029,     0.03003,    0.031031,    0.032032,    0.033033,    0.034034,    0.035035,    0.036036,    0.037037,    0.038038,    0.039039,     0.04004,    0.041041,    0.042042,    0.043043,    0.044044,    0.045045,    0.046046,    0.047047,\n",
              "          0.048048,    0.049049,     0.05005,    0.051051,    0.052052,    0.053053,    0.054054,    0.055055,    0.056056,    0.057057,    0.058058,    0.059059,     0.06006,    0.061061,    0.062062,    0.063063,    0.064064,    0.065065,    0.066066,    0.067067,    0.068068,    0.069069,     0.07007,    0.071071,\n",
              "          0.072072,    0.073073,    0.074074,    0.075075,    0.076076,    0.077077,    0.078078,    0.079079,     0.08008,    0.081081,    0.082082,    0.083083,    0.084084,    0.085085,    0.086086,    0.087087,    0.088088,    0.089089,     0.09009,    0.091091,    0.092092,    0.093093,    0.094094,    0.095095,\n",
              "          0.096096,    0.097097,    0.098098,    0.099099,      0.1001,      0.1011,      0.1021,      0.1031,      0.1041,     0.10511,     0.10611,     0.10711,     0.10811,     0.10911,     0.11011,     0.11111,     0.11211,     0.11311,     0.11411,     0.11512,     0.11612,     0.11712,     0.11812,     0.11912,\n",
              "           0.12012,     0.12112,     0.12212,     0.12312,     0.12412,     0.12513,     0.12613,     0.12713,     0.12813,     0.12913,     0.13013,     0.13113,     0.13213,     0.13313,     0.13413,     0.13514,     0.13614,     0.13714,     0.13814,     0.13914,     0.14014,     0.14114,     0.14214,     0.14314,\n",
              "           0.14414,     0.14515,     0.14615,     0.14715,     0.14815,     0.14915,     0.15015,     0.15115,     0.15215,     0.15315,     0.15415,     0.15516,     0.15616,     0.15716,     0.15816,     0.15916,     0.16016,     0.16116,     0.16216,     0.16316,     0.16416,     0.16517,     0.16617,     0.16717,\n",
              "           0.16817,     0.16917,     0.17017,     0.17117,     0.17217,     0.17317,     0.17417,     0.17518,     0.17618,     0.17718,     0.17818,     0.17918,     0.18018,     0.18118,     0.18218,     0.18318,     0.18418,     0.18519,     0.18619,     0.18719,     0.18819,     0.18919,     0.19019,     0.19119,\n",
              "           0.19219,     0.19319,     0.19419,      0.1952,      0.1962,      0.1972,      0.1982,      0.1992,      0.2002,      0.2012,      0.2022,      0.2032,      0.2042,     0.20521,     0.20621,     0.20721,     0.20821,     0.20921,     0.21021,     0.21121,     0.21221,     0.21321,     0.21421,     0.21522,\n",
              "           0.21622,     0.21722,     0.21822,     0.21922,     0.22022,     0.22122,     0.22222,     0.22322,     0.22422,     0.22523,     0.22623,     0.22723,     0.22823,     0.22923,     0.23023,     0.23123,     0.23223,     0.23323,     0.23423,     0.23524,     0.23624,     0.23724,     0.23824,     0.23924,\n",
              "           0.24024,     0.24124,     0.24224,     0.24324,     0.24424,     0.24525,     0.24625,     0.24725,     0.24825,     0.24925,     0.25025,     0.25125,     0.25225,     0.25325,     0.25425,     0.25526,     0.25626,     0.25726,     0.25826,     0.25926,     0.26026,     0.26126,     0.26226,     0.26326,\n",
              "           0.26426,     0.26527,     0.26627,     0.26727,     0.26827,     0.26927,     0.27027,     0.27127,     0.27227,     0.27327,     0.27427,     0.27528,     0.27628,     0.27728,     0.27828,     0.27928,     0.28028,     0.28128,     0.28228,     0.28328,     0.28428,     0.28529,     0.28629,     0.28729,\n",
              "           0.28829,     0.28929,     0.29029,     0.29129,     0.29229,     0.29329,     0.29429,      0.2953,      0.2963,      0.2973,      0.2983,      0.2993,      0.3003,      0.3013,      0.3023,      0.3033,      0.3043,     0.30531,     0.30631,     0.30731,     0.30831,     0.30931,     0.31031,     0.31131,\n",
              "           0.31231,     0.31331,     0.31431,     0.31532,     0.31632,     0.31732,     0.31832,     0.31932,     0.32032,     0.32132,     0.32232,     0.32332,     0.32432,     0.32533,     0.32633,     0.32733,     0.32833,     0.32933,     0.33033,     0.33133,     0.33233,     0.33333,     0.33433,     0.33534,\n",
              "           0.33634,     0.33734,     0.33834,     0.33934,     0.34034,     0.34134,     0.34234,     0.34334,     0.34434,     0.34535,     0.34635,     0.34735,     0.34835,     0.34935,     0.35035,     0.35135,     0.35235,     0.35335,     0.35435,     0.35536,     0.35636,     0.35736,     0.35836,     0.35936,\n",
              "           0.36036,     0.36136,     0.36236,     0.36336,     0.36436,     0.36537,     0.36637,     0.36737,     0.36837,     0.36937,     0.37037,     0.37137,     0.37237,     0.37337,     0.37437,     0.37538,     0.37638,     0.37738,     0.37838,     0.37938,     0.38038,     0.38138,     0.38238,     0.38338,\n",
              "           0.38438,     0.38539,     0.38639,     0.38739,     0.38839,     0.38939,     0.39039,     0.39139,     0.39239,     0.39339,     0.39439,      0.3954,      0.3964,      0.3974,      0.3984,      0.3994,      0.4004,      0.4014,      0.4024,      0.4034,      0.4044,     0.40541,     0.40641,     0.40741,\n",
              "           0.40841,     0.40941,     0.41041,     0.41141,     0.41241,     0.41341,     0.41441,     0.41542,     0.41642,     0.41742,     0.41842,     0.41942,     0.42042,     0.42142,     0.42242,     0.42342,     0.42442,     0.42543,     0.42643,     0.42743,     0.42843,     0.42943,     0.43043,     0.43143,\n",
              "           0.43243,     0.43343,     0.43443,     0.43544,     0.43644,     0.43744,     0.43844,     0.43944,     0.44044,     0.44144,     0.44244,     0.44344,     0.44444,     0.44545,     0.44645,     0.44745,     0.44845,     0.44945,     0.45045,     0.45145,     0.45245,     0.45345,     0.45445,     0.45546,\n",
              "           0.45646,     0.45746,     0.45846,     0.45946,     0.46046,     0.46146,     0.46246,     0.46346,     0.46446,     0.46547,     0.46647,     0.46747,     0.46847,     0.46947,     0.47047,     0.47147,     0.47247,     0.47347,     0.47447,     0.47548,     0.47648,     0.47748,     0.47848,     0.47948,\n",
              "           0.48048,     0.48148,     0.48248,     0.48348,     0.48448,     0.48549,     0.48649,     0.48749,     0.48849,     0.48949,     0.49049,     0.49149,     0.49249,     0.49349,     0.49449,      0.4955,      0.4965,      0.4975,      0.4985,      0.4995,      0.5005,      0.5015,      0.5025,      0.5035,\n",
              "            0.5045,     0.50551,     0.50651,     0.50751,     0.50851,     0.50951,     0.51051,     0.51151,     0.51251,     0.51351,     0.51451,     0.51552,     0.51652,     0.51752,     0.51852,     0.51952,     0.52052,     0.52152,     0.52252,     0.52352,     0.52452,     0.52553,     0.52653,     0.52753,\n",
              "           0.52853,     0.52953,     0.53053,     0.53153,     0.53253,     0.53353,     0.53453,     0.53554,     0.53654,     0.53754,     0.53854,     0.53954,     0.54054,     0.54154,     0.54254,     0.54354,     0.54454,     0.54555,     0.54655,     0.54755,     0.54855,     0.54955,     0.55055,     0.55155,\n",
              "           0.55255,     0.55355,     0.55455,     0.55556,     0.55656,     0.55756,     0.55856,     0.55956,     0.56056,     0.56156,     0.56256,     0.56356,     0.56456,     0.56557,     0.56657,     0.56757,     0.56857,     0.56957,     0.57057,     0.57157,     0.57257,     0.57357,     0.57457,     0.57558,\n",
              "           0.57658,     0.57758,     0.57858,     0.57958,     0.58058,     0.58158,     0.58258,     0.58358,     0.58458,     0.58559,     0.58659,     0.58759,     0.58859,     0.58959,     0.59059,     0.59159,     0.59259,     0.59359,     0.59459,      0.5956,      0.5966,      0.5976,      0.5986,      0.5996,\n",
              "            0.6006,      0.6016,      0.6026,      0.6036,      0.6046,     0.60561,     0.60661,     0.60761,     0.60861,     0.60961,     0.61061,     0.61161,     0.61261,     0.61361,     0.61461,     0.61562,     0.61662,     0.61762,     0.61862,     0.61962,     0.62062,     0.62162,     0.62262,     0.62362,\n",
              "           0.62462,     0.62563,     0.62663,     0.62763,     0.62863,     0.62963,     0.63063,     0.63163,     0.63263,     0.63363,     0.63463,     0.63564,     0.63664,     0.63764,     0.63864,     0.63964,     0.64064,     0.64164,     0.64264,     0.64364,     0.64464,     0.64565,     0.64665,     0.64765,\n",
              "           0.64865,     0.64965,     0.65065,     0.65165,     0.65265,     0.65365,     0.65465,     0.65566,     0.65666,     0.65766,     0.65866,     0.65966,     0.66066,     0.66166,     0.66266,     0.66366,     0.66466,     0.66567,     0.66667,     0.66767,     0.66867,     0.66967,     0.67067,     0.67167,\n",
              "           0.67267,     0.67367,     0.67467,     0.67568,     0.67668,     0.67768,     0.67868,     0.67968,     0.68068,     0.68168,     0.68268,     0.68368,     0.68468,     0.68569,     0.68669,     0.68769,     0.68869,     0.68969,     0.69069,     0.69169,     0.69269,     0.69369,     0.69469,      0.6957,\n",
              "            0.6967,      0.6977,      0.6987,      0.6997,      0.7007,      0.7017,      0.7027,      0.7037,      0.7047,     0.70571,     0.70671,     0.70771,     0.70871,     0.70971,     0.71071,     0.71171,     0.71271,     0.71371,     0.71471,     0.71572,     0.71672,     0.71772,     0.71872,     0.71972,\n",
              "           0.72072,     0.72172,     0.72272,     0.72372,     0.72472,     0.72573,     0.72673,     0.72773,     0.72873,     0.72973,     0.73073,     0.73173,     0.73273,     0.73373,     0.73473,     0.73574,     0.73674,     0.73774,     0.73874,     0.73974,     0.74074,     0.74174,     0.74274,     0.74374,\n",
              "           0.74474,     0.74575,     0.74675,     0.74775,     0.74875,     0.74975,     0.75075,     0.75175,     0.75275,     0.75375,     0.75475,     0.75576,     0.75676,     0.75776,     0.75876,     0.75976,     0.76076,     0.76176,     0.76276,     0.76376,     0.76476,     0.76577,     0.76677,     0.76777,\n",
              "           0.76877,     0.76977,     0.77077,     0.77177,     0.77277,     0.77377,     0.77477,     0.77578,     0.77678,     0.77778,     0.77878,     0.77978,     0.78078,     0.78178,     0.78278,     0.78378,     0.78478,     0.78579,     0.78679,     0.78779,     0.78879,     0.78979,     0.79079,     0.79179,\n",
              "           0.79279,     0.79379,     0.79479,      0.7958,      0.7968,      0.7978,      0.7988,      0.7998,      0.8008,      0.8018,      0.8028,      0.8038,      0.8048,     0.80581,     0.80681,     0.80781,     0.80881,     0.80981,     0.81081,     0.81181,     0.81281,     0.81381,     0.81481,     0.81582,\n",
              "           0.81682,     0.81782,     0.81882,     0.81982,     0.82082,     0.82182,     0.82282,     0.82382,     0.82482,     0.82583,     0.82683,     0.82783,     0.82883,     0.82983,     0.83083,     0.83183,     0.83283,     0.83383,     0.83483,     0.83584,     0.83684,     0.83784,     0.83884,     0.83984,\n",
              "           0.84084,     0.84184,     0.84284,     0.84384,     0.84484,     0.84585,     0.84685,     0.84785,     0.84885,     0.84985,     0.85085,     0.85185,     0.85285,     0.85385,     0.85485,     0.85586,     0.85686,     0.85786,     0.85886,     0.85986,     0.86086,     0.86186,     0.86286,     0.86386,\n",
              "           0.86486,     0.86587,     0.86687,     0.86787,     0.86887,     0.86987,     0.87087,     0.87187,     0.87287,     0.87387,     0.87487,     0.87588,     0.87688,     0.87788,     0.87888,     0.87988,     0.88088,     0.88188,     0.88288,     0.88388,     0.88488,     0.88589,     0.88689,     0.88789,\n",
              "           0.88889,     0.88989,     0.89089,     0.89189,     0.89289,     0.89389,     0.89489,      0.8959,      0.8969,      0.8979,      0.8989,      0.8999,      0.9009,      0.9019,      0.9029,      0.9039,      0.9049,     0.90591,     0.90691,     0.90791,     0.90891,     0.90991,     0.91091,     0.91191,\n",
              "           0.91291,     0.91391,     0.91491,     0.91592,     0.91692,     0.91792,     0.91892,     0.91992,     0.92092,     0.92192,     0.92292,     0.92392,     0.92492,     0.92593,     0.92693,     0.92793,     0.92893,     0.92993,     0.93093,     0.93193,     0.93293,     0.93393,     0.93493,     0.93594,\n",
              "           0.93694,     0.93794,     0.93894,     0.93994,     0.94094,     0.94194,     0.94294,     0.94394,     0.94494,     0.94595,     0.94695,     0.94795,     0.94895,     0.94995,     0.95095,     0.95195,     0.95295,     0.95395,     0.95495,     0.95596,     0.95696,     0.95796,     0.95896,     0.95996,\n",
              "           0.96096,     0.96196,     0.96296,     0.96396,     0.96496,     0.96597,     0.96697,     0.96797,     0.96897,     0.96997,     0.97097,     0.97197,     0.97297,     0.97397,     0.97497,     0.97598,     0.97698,     0.97798,     0.97898,     0.97998,     0.98098,     0.98198,     0.98298,     0.98398,\n",
              "           0.98498,     0.98599,     0.98699,     0.98799,     0.98899,     0.98999,     0.99099,     0.99199,     0.99299,     0.99399,     0.99499,       0.996,       0.997,       0.998,       0.999,           1]), array([[    0.52571,     0.52571,     0.62508,     0.67539,     0.70967,     0.73028,     0.73725,     0.74837,     0.76202,     0.76647,     0.77327,     0.77837,     0.78188,     0.78384,     0.79358,     0.79591,     0.79997,     0.80724,     0.80843,     0.81001,     0.81451,     0.81529,     0.81607,\n",
              "              0.817,     0.82163,      0.8265,     0.82869,     0.83049,     0.83615,     0.84416,     0.85409,     0.85608,     0.85704,       0.858,     0.85455,     0.85481,     0.85508,     0.85534,     0.85561,     0.85587,     0.85614,      0.8564,     0.85666,     0.85693,     0.85792,     0.85965,\n",
              "            0.85922,     0.85879,     0.85836,     0.85793,      0.8575,     0.85707,     0.85664,     0.85626,     0.85687,     0.85748,      0.8581,     0.85871,     0.85759,     0.85532,      0.8555,     0.85568,     0.85586,     0.85604,     0.85623,     0.85641,     0.85659,     0.85677,     0.85695,\n",
              "            0.85713,     0.85731,      0.8575,     0.85768,     0.85786,     0.85804,     0.85882,     0.85969,     0.86057,     0.86463,     0.86607,     0.86686,     0.86741,     0.86796,     0.86852,     0.86907,     0.86958,     0.87006,     0.87054,     0.87102,      0.8715,     0.87199,     0.87274,\n",
              "            0.87361,     0.87448,     0.87516,     0.87554,     0.87592,      0.8763,     0.87668,     0.87707,     0.87745,     0.87783,     0.87804,     0.87822,      0.8784,     0.87858,     0.87875,     0.87893,     0.87911,     0.87929,     0.87947,     0.87965,     0.87983,        0.88,     0.88018,\n",
              "            0.88036,     0.88054,     0.88072,     0.88215,     0.88365,     0.88343,     0.88321,     0.88299,     0.88277,     0.88255,     0.88233,     0.88211,     0.88189,     0.88167,     0.88145,     0.88123,     0.88101,     0.88079,     0.88057,     0.88035,     0.88013,     0.88004,     0.88015,\n",
              "            0.88026,     0.88036,     0.88047,     0.88057,     0.88068,     0.88079,     0.88089,       0.881,     0.88111,     0.88121,     0.88132,     0.88143,     0.88153,     0.88164,     0.88175,     0.88185,     0.88196,     0.88206,     0.88217,     0.88228,     0.88238,     0.88249,     0.88259,\n",
              "             0.8827,     0.88281,     0.88291,     0.88301,      0.8831,     0.88319,     0.88329,     0.88338,     0.88347,     0.88356,     0.88366,     0.88375,     0.88384,     0.88393,     0.88403,     0.88412,     0.88421,      0.8843,      0.8844,     0.88449,     0.88458,     0.88467,     0.88477,\n",
              "            0.88486,     0.88495,     0.88504,     0.88514,     0.88523,     0.88532,     0.88541,      0.8855,      0.8856,     0.88569,     0.88578,     0.88587,       0.886,     0.88615,     0.88631,     0.88646,     0.88661,     0.88676,     0.88691,     0.88706,     0.88721,     0.88736,     0.88751,\n",
              "            0.88767,     0.88782,     0.88797,     0.88812,     0.88827,     0.88842,     0.88857,     0.88872,     0.88887,     0.88901,     0.88914,     0.88927,     0.88941,     0.88954,     0.88967,     0.88981,     0.88994,     0.89007,     0.89021,     0.89034,     0.89047,     0.89061,     0.89074,\n",
              "            0.89087,     0.89101,     0.89114,     0.89127,      0.8914,     0.89154,     0.89167,      0.8918,       0.892,     0.89232,     0.89264,     0.89296,     0.89329,     0.89361,     0.89393,     0.89425,     0.89457,     0.89489,     0.89503,     0.89516,     0.89529,     0.89542,     0.89555,\n",
              "            0.89567,      0.8958,     0.89593,     0.89606,     0.89618,     0.89631,     0.89644,     0.89656,     0.89669,     0.89682,     0.89695,     0.89707,      0.8972,     0.89733,     0.89746,     0.89758,     0.89771,     0.89784,     0.89796,     0.89811,     0.89825,      0.8984,     0.89854,\n",
              "            0.89869,     0.89883,     0.89898,     0.89912,     0.89927,     0.89941,     0.89955,      0.8997,     0.89984,     0.89999,     0.90013,     0.90028,     0.90042,     0.90056,     0.90071,     0.90085,       0.901,     0.90116,     0.90132,     0.90148,     0.90164,     0.90181,     0.90197,\n",
              "            0.90213,     0.90229,     0.90246,     0.90262,     0.90278,     0.90294,      0.9031,     0.90327,     0.90343,     0.90359,     0.90375,     0.90391,     0.90408,     0.90483,     0.90574,     0.90665,     0.90715,     0.90698,      0.9068,     0.90663,     0.90645,     0.90628,      0.9061,\n",
              "            0.90592,     0.90575,     0.90557,      0.9054,     0.90522,     0.90505,     0.90487,      0.9047,     0.90452,     0.90434,     0.90417,     0.90399,     0.90382,     0.90364,     0.90346,     0.90358,     0.90372,     0.90386,     0.90401,     0.90415,     0.90429,     0.90443,     0.90458,\n",
              "            0.90472,     0.90486,       0.905,     0.90515,     0.90529,     0.90543,     0.90557,     0.90572,     0.90586,       0.906,     0.90614,     0.90628,     0.90643,     0.90657,     0.90646,     0.90634,     0.90622,     0.90609,     0.90597,     0.90585,     0.90573,     0.90561,     0.90549,\n",
              "            0.90537,     0.90524,     0.90512,       0.905,     0.90488,     0.90476,     0.90464,     0.90451,     0.90439,     0.90427,     0.90415,     0.90403,     0.90391,     0.90378,     0.90366,     0.90354,     0.90342,      0.9033,     0.90318,     0.90305,     0.90293,     0.90281,     0.90263,\n",
              "            0.90244,     0.90224,     0.90205,     0.90185,     0.90166,     0.90146,     0.90126,     0.90107,     0.90087,     0.90068,     0.90048,     0.90028,     0.90009,     0.89989,      0.8997,      0.8995,      0.8993,     0.89911,     0.89892,     0.89878,     0.89863,     0.89849,     0.89834,\n",
              "             0.8982,     0.89805,     0.89791,     0.89777,     0.89762,     0.89748,     0.89733,     0.89719,     0.89704,      0.8969,     0.89675,     0.89661,     0.89646,     0.89632,     0.89617,     0.89603,     0.89588,     0.89574,     0.89559,     0.89545,      0.8953,     0.89516,     0.89503,\n",
              "            0.89492,      0.8948,     0.89469,     0.89458,     0.89446,     0.89435,     0.89423,     0.89412,       0.894,     0.89389,     0.89378,     0.89366,     0.89355,     0.89343,     0.89332,      0.8932,     0.89309,     0.89298,     0.89286,     0.89275,     0.89263,     0.89252,      0.8924,\n",
              "            0.89229,     0.89217,     0.89206,     0.89195,     0.89183,     0.89172,      0.8916,     0.89149,     0.89137,     0.89126,     0.89108,     0.89088,     0.89068,     0.89048,     0.89028,     0.89008,     0.88988,     0.88968,     0.88948,     0.88928,     0.88908,     0.88888,     0.88868,\n",
              "            0.88848,     0.88828,     0.88808,     0.88788,     0.88768,     0.88748,      0.8874,     0.88772,     0.88804,     0.88837,     0.88869,     0.88901,     0.88933,     0.88965,     0.88997,     0.89029,     0.89039,     0.89023,     0.89008,     0.88992,     0.88977,     0.88961,     0.88946,\n",
              "             0.8893,     0.88915,     0.88899,     0.88884,     0.88868,     0.88853,     0.88837,     0.88822,     0.88806,     0.88791,     0.88775,      0.8876,     0.88744,     0.88729,     0.88713,     0.88697,     0.88682,     0.88666,     0.88661,     0.88742,     0.88823,     0.88904,     0.88972,\n",
              "            0.88991,      0.8901,      0.8903,     0.89049,     0.89068,     0.89087,     0.89106,     0.89126,     0.89145,     0.89164,     0.89183,     0.89202,     0.89221,      0.8924,     0.89259,     0.89279,     0.89275,     0.89258,      0.8924,     0.89223,     0.89206,     0.89189,     0.89171,\n",
              "            0.89154,     0.89137,     0.89119,     0.89102,     0.89085,     0.89068,      0.8905,     0.89033,     0.89016,     0.88998,     0.88981,     0.88964,     0.88946,     0.88929,     0.88912,     0.88894,     0.88895,     0.88904,     0.88914,     0.88923,     0.88932,     0.88941,      0.8895,\n",
              "            0.88959,     0.88968,     0.88977,     0.88987,     0.88996,     0.89005,     0.89014,     0.89023,     0.89032,     0.89041,      0.8905,     0.89059,     0.89069,     0.89078,     0.89087,     0.89096,     0.89105,     0.89114,     0.89123,     0.89132,     0.89141,      0.8915,     0.89159,\n",
              "            0.89168,     0.89178,     0.89187,     0.89196,     0.89205,     0.89186,     0.89147,     0.89108,     0.89069,      0.8903,     0.88991,     0.88952,     0.88913,     0.88874,     0.88835,     0.88803,     0.88786,     0.88769,     0.88753,     0.88736,     0.88719,     0.88702,     0.88685,\n",
              "            0.88669,     0.88652,     0.88635,     0.88618,     0.88601,     0.88584,     0.88567,     0.88551,     0.88534,     0.88517,       0.885,     0.88483,     0.88466,     0.88449,     0.88432,     0.88415,     0.88398,     0.88378,     0.88359,      0.8834,      0.8832,     0.88301,     0.88282,\n",
              "            0.88262,     0.88243,     0.88224,     0.88204,     0.88185,     0.88166,     0.88146,     0.88127,     0.88108,     0.88088,     0.88069,     0.88049,      0.8803,     0.88011,      0.8802,     0.88064,     0.88108,     0.88152,     0.88196,      0.8824,     0.88283,     0.88315,     0.88271,\n",
              "            0.88227,     0.88183,     0.88139,     0.88095,     0.88051,     0.88006,     0.87962,     0.87918,     0.87807,     0.87687,     0.87566,     0.87465,     0.87388,      0.8731,     0.87233,     0.87155,     0.87087,     0.87115,     0.87143,      0.8717,     0.87198,     0.87225,     0.87253,\n",
              "            0.87281,     0.87308,     0.87336,     0.87363,      0.8739,     0.87366,     0.87259,     0.87152,     0.87045,     0.87053,     0.87186,     0.87323,     0.87546,     0.87569,     0.87446,     0.87322,     0.87214,     0.87187,     0.87161,     0.87135,     0.87108,     0.87082,     0.87055,\n",
              "            0.87029,     0.87003,     0.86976,      0.8695,     0.86923,     0.86897,      0.8687,     0.86844,     0.86817,     0.86783,     0.86637,      0.8649,     0.86343,     0.86196,     0.86048,      0.8592,     0.85864,     0.85808,     0.85753,     0.85697,     0.85641,     0.85585,     0.85529,\n",
              "            0.85838,     0.85874,      0.8591,     0.85946,     0.85981,     0.86017,     0.86052,     0.86088,     0.86123,     0.86028,     0.85418,     0.85117,     0.84888,     0.84151,     0.83799,     0.83375,      0.8306,     0.82975,      0.8294,     0.82905,      0.8287,     0.82834,     0.82799,\n",
              "            0.82764,     0.82729,     0.82693,     0.82658,     0.82623,     0.82587,     0.82552,     0.82415,     0.82223,     0.82046,     0.81925,     0.81805,     0.81683,     0.81615,     0.81663,     0.81711,     0.81759,     0.81807,     0.81855,     0.81903,     0.81869,     0.81747,     0.81625,\n",
              "            0.81503,     0.81381,     0.81258,     0.81135,     0.81011,     0.80636,     0.80137,     0.80261,      0.8017,     0.80078,     0.79986,     0.79894,     0.79468,     0.79041,     0.78414,     0.78253,     0.78167,      0.7808,     0.77993,     0.77906,     0.77788,     0.76773,      0.7656,\n",
              "            0.76346,     0.74588,      0.7445,     0.74311,     0.74172,     0.73516,     0.73414,     0.73312,     0.73209,     0.73107,     0.72379,     0.72092,     0.71679,     0.71098,     0.70227,     0.67749,     0.67503,     0.67188,     0.65398,     0.64973,      0.6441,     0.63903,     0.63468,\n",
              "            0.63031,     0.61778,     0.59249,     0.58393,     0.58064,     0.57828,     0.57591,     0.55877,     0.54841,     0.52937,     0.51065,     0.47127,     0.39548,     0.38943,     0.36742,     0.34939,     0.34034,     0.33549,     0.32816,     0.31735,      0.3107,     0.30399,     0.28052,\n",
              "            0.27358,     0.25969,     0.25257,     0.24539,     0.22888,     0.22521,     0.22151,     0.21609,     0.20861,     0.20296,     0.19745,     0.19569,     0.19393,     0.19217,      0.1904,     0.18863,     0.18686,     0.15017,     0.14212,     0.13094,     0.12888,      0.1224,     0.11519,\n",
              "            0.11015,     0.10509,     0.10366,     0.10264,     0.10163,     0.10061,    0.099585,    0.098563,     0.09754,    0.096516,    0.095491,    0.094465,    0.093438,    0.092409,    0.078339,    0.073104,     0.06784,    0.065981,      0.0651,    0.064217,    0.063334,    0.062449,    0.061564,\n",
              "           0.060679,    0.059792,    0.058904,    0.058016,    0.057127,    0.056237,    0.055347,    0.054455,    0.053209,    0.049854,    0.046488,     0.04311,    0.039447,    0.034907,    0.030347,    0.026423,    0.023917,    0.021404,    0.018885,    0.016359,    0.013827,           0,           0,\n",
              "                  0,           0,           0,           0,           0,           0,           0,           0,           0,           0,           0,           0,           0,           0,           0,           0,           0,           0,           0,           0,           0,           0,           0,\n",
              "                  0,           0,           0,           0,           0,           0,           0,           0,           0,           0,           0,           0,           0,           0,           0,           0,           0,           0,           0,           0,           0,           0,           0,\n",
              "                  0,           0,           0,           0,           0,           0,           0,           0,           0,           0,           0,           0,           0,           0,           0,           0,           0,           0,           0,           0,           0,           0,           0,\n",
              "                  0,           0,           0,           0,           0,           0,           0,           0,           0,           0,           0]]), 'Confidence', 'F1'], [array([          0,    0.001001,    0.002002,    0.003003,    0.004004,    0.005005,    0.006006,    0.007007,    0.008008,    0.009009,     0.01001,    0.011011,    0.012012,    0.013013,    0.014014,    0.015015,    0.016016,    0.017017,    0.018018,    0.019019,     0.02002,    0.021021,    0.022022,    0.023023,\n",
              "          0.024024,    0.025025,    0.026026,    0.027027,    0.028028,    0.029029,     0.03003,    0.031031,    0.032032,    0.033033,    0.034034,    0.035035,    0.036036,    0.037037,    0.038038,    0.039039,     0.04004,    0.041041,    0.042042,    0.043043,    0.044044,    0.045045,    0.046046,    0.047047,\n",
              "          0.048048,    0.049049,     0.05005,    0.051051,    0.052052,    0.053053,    0.054054,    0.055055,    0.056056,    0.057057,    0.058058,    0.059059,     0.06006,    0.061061,    0.062062,    0.063063,    0.064064,    0.065065,    0.066066,    0.067067,    0.068068,    0.069069,     0.07007,    0.071071,\n",
              "          0.072072,    0.073073,    0.074074,    0.075075,    0.076076,    0.077077,    0.078078,    0.079079,     0.08008,    0.081081,    0.082082,    0.083083,    0.084084,    0.085085,    0.086086,    0.087087,    0.088088,    0.089089,     0.09009,    0.091091,    0.092092,    0.093093,    0.094094,    0.095095,\n",
              "          0.096096,    0.097097,    0.098098,    0.099099,      0.1001,      0.1011,      0.1021,      0.1031,      0.1041,     0.10511,     0.10611,     0.10711,     0.10811,     0.10911,     0.11011,     0.11111,     0.11211,     0.11311,     0.11411,     0.11512,     0.11612,     0.11712,     0.11812,     0.11912,\n",
              "           0.12012,     0.12112,     0.12212,     0.12312,     0.12412,     0.12513,     0.12613,     0.12713,     0.12813,     0.12913,     0.13013,     0.13113,     0.13213,     0.13313,     0.13413,     0.13514,     0.13614,     0.13714,     0.13814,     0.13914,     0.14014,     0.14114,     0.14214,     0.14314,\n",
              "           0.14414,     0.14515,     0.14615,     0.14715,     0.14815,     0.14915,     0.15015,     0.15115,     0.15215,     0.15315,     0.15415,     0.15516,     0.15616,     0.15716,     0.15816,     0.15916,     0.16016,     0.16116,     0.16216,     0.16316,     0.16416,     0.16517,     0.16617,     0.16717,\n",
              "           0.16817,     0.16917,     0.17017,     0.17117,     0.17217,     0.17317,     0.17417,     0.17518,     0.17618,     0.17718,     0.17818,     0.17918,     0.18018,     0.18118,     0.18218,     0.18318,     0.18418,     0.18519,     0.18619,     0.18719,     0.18819,     0.18919,     0.19019,     0.19119,\n",
              "           0.19219,     0.19319,     0.19419,      0.1952,      0.1962,      0.1972,      0.1982,      0.1992,      0.2002,      0.2012,      0.2022,      0.2032,      0.2042,     0.20521,     0.20621,     0.20721,     0.20821,     0.20921,     0.21021,     0.21121,     0.21221,     0.21321,     0.21421,     0.21522,\n",
              "           0.21622,     0.21722,     0.21822,     0.21922,     0.22022,     0.22122,     0.22222,     0.22322,     0.22422,     0.22523,     0.22623,     0.22723,     0.22823,     0.22923,     0.23023,     0.23123,     0.23223,     0.23323,     0.23423,     0.23524,     0.23624,     0.23724,     0.23824,     0.23924,\n",
              "           0.24024,     0.24124,     0.24224,     0.24324,     0.24424,     0.24525,     0.24625,     0.24725,     0.24825,     0.24925,     0.25025,     0.25125,     0.25225,     0.25325,     0.25425,     0.25526,     0.25626,     0.25726,     0.25826,     0.25926,     0.26026,     0.26126,     0.26226,     0.26326,\n",
              "           0.26426,     0.26527,     0.26627,     0.26727,     0.26827,     0.26927,     0.27027,     0.27127,     0.27227,     0.27327,     0.27427,     0.27528,     0.27628,     0.27728,     0.27828,     0.27928,     0.28028,     0.28128,     0.28228,     0.28328,     0.28428,     0.28529,     0.28629,     0.28729,\n",
              "           0.28829,     0.28929,     0.29029,     0.29129,     0.29229,     0.29329,     0.29429,      0.2953,      0.2963,      0.2973,      0.2983,      0.2993,      0.3003,      0.3013,      0.3023,      0.3033,      0.3043,     0.30531,     0.30631,     0.30731,     0.30831,     0.30931,     0.31031,     0.31131,\n",
              "           0.31231,     0.31331,     0.31431,     0.31532,     0.31632,     0.31732,     0.31832,     0.31932,     0.32032,     0.32132,     0.32232,     0.32332,     0.32432,     0.32533,     0.32633,     0.32733,     0.32833,     0.32933,     0.33033,     0.33133,     0.33233,     0.33333,     0.33433,     0.33534,\n",
              "           0.33634,     0.33734,     0.33834,     0.33934,     0.34034,     0.34134,     0.34234,     0.34334,     0.34434,     0.34535,     0.34635,     0.34735,     0.34835,     0.34935,     0.35035,     0.35135,     0.35235,     0.35335,     0.35435,     0.35536,     0.35636,     0.35736,     0.35836,     0.35936,\n",
              "           0.36036,     0.36136,     0.36236,     0.36336,     0.36436,     0.36537,     0.36637,     0.36737,     0.36837,     0.36937,     0.37037,     0.37137,     0.37237,     0.37337,     0.37437,     0.37538,     0.37638,     0.37738,     0.37838,     0.37938,     0.38038,     0.38138,     0.38238,     0.38338,\n",
              "           0.38438,     0.38539,     0.38639,     0.38739,     0.38839,     0.38939,     0.39039,     0.39139,     0.39239,     0.39339,     0.39439,      0.3954,      0.3964,      0.3974,      0.3984,      0.3994,      0.4004,      0.4014,      0.4024,      0.4034,      0.4044,     0.40541,     0.40641,     0.40741,\n",
              "           0.40841,     0.40941,     0.41041,     0.41141,     0.41241,     0.41341,     0.41441,     0.41542,     0.41642,     0.41742,     0.41842,     0.41942,     0.42042,     0.42142,     0.42242,     0.42342,     0.42442,     0.42543,     0.42643,     0.42743,     0.42843,     0.42943,     0.43043,     0.43143,\n",
              "           0.43243,     0.43343,     0.43443,     0.43544,     0.43644,     0.43744,     0.43844,     0.43944,     0.44044,     0.44144,     0.44244,     0.44344,     0.44444,     0.44545,     0.44645,     0.44745,     0.44845,     0.44945,     0.45045,     0.45145,     0.45245,     0.45345,     0.45445,     0.45546,\n",
              "           0.45646,     0.45746,     0.45846,     0.45946,     0.46046,     0.46146,     0.46246,     0.46346,     0.46446,     0.46547,     0.46647,     0.46747,     0.46847,     0.46947,     0.47047,     0.47147,     0.47247,     0.47347,     0.47447,     0.47548,     0.47648,     0.47748,     0.47848,     0.47948,\n",
              "           0.48048,     0.48148,     0.48248,     0.48348,     0.48448,     0.48549,     0.48649,     0.48749,     0.48849,     0.48949,     0.49049,     0.49149,     0.49249,     0.49349,     0.49449,      0.4955,      0.4965,      0.4975,      0.4985,      0.4995,      0.5005,      0.5015,      0.5025,      0.5035,\n",
              "            0.5045,     0.50551,     0.50651,     0.50751,     0.50851,     0.50951,     0.51051,     0.51151,     0.51251,     0.51351,     0.51451,     0.51552,     0.51652,     0.51752,     0.51852,     0.51952,     0.52052,     0.52152,     0.52252,     0.52352,     0.52452,     0.52553,     0.52653,     0.52753,\n",
              "           0.52853,     0.52953,     0.53053,     0.53153,     0.53253,     0.53353,     0.53453,     0.53554,     0.53654,     0.53754,     0.53854,     0.53954,     0.54054,     0.54154,     0.54254,     0.54354,     0.54454,     0.54555,     0.54655,     0.54755,     0.54855,     0.54955,     0.55055,     0.55155,\n",
              "           0.55255,     0.55355,     0.55455,     0.55556,     0.55656,     0.55756,     0.55856,     0.55956,     0.56056,     0.56156,     0.56256,     0.56356,     0.56456,     0.56557,     0.56657,     0.56757,     0.56857,     0.56957,     0.57057,     0.57157,     0.57257,     0.57357,     0.57457,     0.57558,\n",
              "           0.57658,     0.57758,     0.57858,     0.57958,     0.58058,     0.58158,     0.58258,     0.58358,     0.58458,     0.58559,     0.58659,     0.58759,     0.58859,     0.58959,     0.59059,     0.59159,     0.59259,     0.59359,     0.59459,      0.5956,      0.5966,      0.5976,      0.5986,      0.5996,\n",
              "            0.6006,      0.6016,      0.6026,      0.6036,      0.6046,     0.60561,     0.60661,     0.60761,     0.60861,     0.60961,     0.61061,     0.61161,     0.61261,     0.61361,     0.61461,     0.61562,     0.61662,     0.61762,     0.61862,     0.61962,     0.62062,     0.62162,     0.62262,     0.62362,\n",
              "           0.62462,     0.62563,     0.62663,     0.62763,     0.62863,     0.62963,     0.63063,     0.63163,     0.63263,     0.63363,     0.63463,     0.63564,     0.63664,     0.63764,     0.63864,     0.63964,     0.64064,     0.64164,     0.64264,     0.64364,     0.64464,     0.64565,     0.64665,     0.64765,\n",
              "           0.64865,     0.64965,     0.65065,     0.65165,     0.65265,     0.65365,     0.65465,     0.65566,     0.65666,     0.65766,     0.65866,     0.65966,     0.66066,     0.66166,     0.66266,     0.66366,     0.66466,     0.66567,     0.66667,     0.66767,     0.66867,     0.66967,     0.67067,     0.67167,\n",
              "           0.67267,     0.67367,     0.67467,     0.67568,     0.67668,     0.67768,     0.67868,     0.67968,     0.68068,     0.68168,     0.68268,     0.68368,     0.68468,     0.68569,     0.68669,     0.68769,     0.68869,     0.68969,     0.69069,     0.69169,     0.69269,     0.69369,     0.69469,      0.6957,\n",
              "            0.6967,      0.6977,      0.6987,      0.6997,      0.7007,      0.7017,      0.7027,      0.7037,      0.7047,     0.70571,     0.70671,     0.70771,     0.70871,     0.70971,     0.71071,     0.71171,     0.71271,     0.71371,     0.71471,     0.71572,     0.71672,     0.71772,     0.71872,     0.71972,\n",
              "           0.72072,     0.72172,     0.72272,     0.72372,     0.72472,     0.72573,     0.72673,     0.72773,     0.72873,     0.72973,     0.73073,     0.73173,     0.73273,     0.73373,     0.73473,     0.73574,     0.73674,     0.73774,     0.73874,     0.73974,     0.74074,     0.74174,     0.74274,     0.74374,\n",
              "           0.74474,     0.74575,     0.74675,     0.74775,     0.74875,     0.74975,     0.75075,     0.75175,     0.75275,     0.75375,     0.75475,     0.75576,     0.75676,     0.75776,     0.75876,     0.75976,     0.76076,     0.76176,     0.76276,     0.76376,     0.76476,     0.76577,     0.76677,     0.76777,\n",
              "           0.76877,     0.76977,     0.77077,     0.77177,     0.77277,     0.77377,     0.77477,     0.77578,     0.77678,     0.77778,     0.77878,     0.77978,     0.78078,     0.78178,     0.78278,     0.78378,     0.78478,     0.78579,     0.78679,     0.78779,     0.78879,     0.78979,     0.79079,     0.79179,\n",
              "           0.79279,     0.79379,     0.79479,      0.7958,      0.7968,      0.7978,      0.7988,      0.7998,      0.8008,      0.8018,      0.8028,      0.8038,      0.8048,     0.80581,     0.80681,     0.80781,     0.80881,     0.80981,     0.81081,     0.81181,     0.81281,     0.81381,     0.81481,     0.81582,\n",
              "           0.81682,     0.81782,     0.81882,     0.81982,     0.82082,     0.82182,     0.82282,     0.82382,     0.82482,     0.82583,     0.82683,     0.82783,     0.82883,     0.82983,     0.83083,     0.83183,     0.83283,     0.83383,     0.83483,     0.83584,     0.83684,     0.83784,     0.83884,     0.83984,\n",
              "           0.84084,     0.84184,     0.84284,     0.84384,     0.84484,     0.84585,     0.84685,     0.84785,     0.84885,     0.84985,     0.85085,     0.85185,     0.85285,     0.85385,     0.85485,     0.85586,     0.85686,     0.85786,     0.85886,     0.85986,     0.86086,     0.86186,     0.86286,     0.86386,\n",
              "           0.86486,     0.86587,     0.86687,     0.86787,     0.86887,     0.86987,     0.87087,     0.87187,     0.87287,     0.87387,     0.87487,     0.87588,     0.87688,     0.87788,     0.87888,     0.87988,     0.88088,     0.88188,     0.88288,     0.88388,     0.88488,     0.88589,     0.88689,     0.88789,\n",
              "           0.88889,     0.88989,     0.89089,     0.89189,     0.89289,     0.89389,     0.89489,      0.8959,      0.8969,      0.8979,      0.8989,      0.8999,      0.9009,      0.9019,      0.9029,      0.9039,      0.9049,     0.90591,     0.90691,     0.90791,     0.90891,     0.90991,     0.91091,     0.91191,\n",
              "           0.91291,     0.91391,     0.91491,     0.91592,     0.91692,     0.91792,     0.91892,     0.91992,     0.92092,     0.92192,     0.92292,     0.92392,     0.92492,     0.92593,     0.92693,     0.92793,     0.92893,     0.92993,     0.93093,     0.93193,     0.93293,     0.93393,     0.93493,     0.93594,\n",
              "           0.93694,     0.93794,     0.93894,     0.93994,     0.94094,     0.94194,     0.94294,     0.94394,     0.94494,     0.94595,     0.94695,     0.94795,     0.94895,     0.94995,     0.95095,     0.95195,     0.95295,     0.95395,     0.95495,     0.95596,     0.95696,     0.95796,     0.95896,     0.95996,\n",
              "           0.96096,     0.96196,     0.96296,     0.96396,     0.96496,     0.96597,     0.96697,     0.96797,     0.96897,     0.96997,     0.97097,     0.97197,     0.97297,     0.97397,     0.97497,     0.97598,     0.97698,     0.97798,     0.97898,     0.97998,     0.98098,     0.98198,     0.98298,     0.98398,\n",
              "           0.98498,     0.98599,     0.98699,     0.98799,     0.98899,     0.98999,     0.99099,     0.99199,     0.99299,     0.99399,     0.99499,       0.996,       0.997,       0.998,       0.999,           1]), array([[    0.36316,     0.36316,     0.46536,     0.52553,     0.56824,     0.59514,     0.60445,     0.61955,     0.63849,     0.64801,     0.65779,      0.6652,     0.67036,     0.67324,     0.68774,     0.69124,     0.69739,     0.70851,     0.71035,      0.7128,      0.7198,     0.72102,     0.72224,\n",
              "            0.72369,     0.73099,     0.73873,     0.74224,     0.74514,     0.75429,     0.76744,     0.78401,     0.78736,     0.78899,     0.79062,     0.78967,     0.79012,     0.79058,     0.79103,     0.79148,     0.79194,     0.79239,     0.79284,      0.7933,     0.79375,     0.79545,     0.79874,\n",
              "             0.7986,     0.79846,     0.79832,     0.79818,     0.79804,      0.7979,     0.79775,     0.79767,     0.79873,      0.7998,     0.80086,     0.80193,     0.80195,     0.80123,     0.80155,     0.80187,     0.80218,      0.8025,     0.80282,     0.80314,     0.80346,     0.80378,      0.8041,\n",
              "            0.80442,     0.80474,     0.80506,     0.80538,      0.8057,     0.80601,     0.80739,     0.80894,     0.81049,     0.81772,      0.8203,     0.82172,     0.82271,     0.82371,      0.8247,      0.8257,     0.82662,     0.82749,     0.82837,     0.82924,     0.83011,     0.83099,     0.83236,\n",
              "            0.83395,     0.83553,     0.83676,     0.83746,     0.83816,     0.83886,     0.83956,     0.84026,     0.84096,     0.84166,     0.84205,     0.84238,     0.84271,     0.84304,     0.84337,      0.8437,     0.84403,     0.84436,     0.84468,     0.84501,     0.84534,     0.84567,       0.846,\n",
              "            0.84633,     0.84666,     0.84699,     0.84964,     0.85254,     0.85249,     0.85243,     0.85238,     0.85232,     0.85226,     0.85221,     0.85215,      0.8521,     0.85204,     0.85198,     0.85193,     0.85187,     0.85182,     0.85176,      0.8517,     0.85165,     0.85169,     0.85189,\n",
              "            0.85209,     0.85229,     0.85249,     0.85269,     0.85289,     0.85309,     0.85329,     0.85349,     0.85369,     0.85389,     0.85409,     0.85429,     0.85449,     0.85469,     0.85489,     0.85509,     0.85529,     0.85549,     0.85569,     0.85589,     0.85609,     0.85629,     0.85649,\n",
              "            0.85669,     0.85689,     0.85709,     0.85727,     0.85744,     0.85762,     0.85779,     0.85797,     0.85814,     0.85832,     0.85849,     0.85866,     0.85884,     0.85901,     0.85919,     0.85936,     0.85954,     0.85971,     0.85989,     0.86006,     0.86024,     0.86041,     0.86059,\n",
              "            0.86076,     0.86094,     0.86111,     0.86128,     0.86146,     0.86163,     0.86181,     0.86198,     0.86216,     0.86233,     0.86251,     0.86268,     0.86293,     0.86322,      0.8635,     0.86379,     0.86408,     0.86437,     0.86465,     0.86494,     0.86523,     0.86551,      0.8658,\n",
              "            0.86609,     0.86638,     0.86666,     0.86695,     0.86724,     0.86753,     0.86781,      0.8681,     0.86839,     0.86865,      0.8689,     0.86916,     0.86941,     0.86967,     0.86992,     0.87018,     0.87043,     0.87069,     0.87094,      0.8712,     0.87145,     0.87171,     0.87196,\n",
              "            0.87222,     0.87247,     0.87272,     0.87298,     0.87323,     0.87349,     0.87374,       0.874,     0.87437,     0.87499,     0.87561,     0.87623,     0.87686,     0.87748,      0.8781,     0.87872,     0.87934,     0.87996,     0.88023,     0.88048,     0.88072,     0.88097,     0.88122,\n",
              "            0.88147,     0.88171,     0.88196,     0.88221,     0.88245,      0.8827,     0.88295,      0.8832,     0.88344,     0.88369,     0.88394,     0.88418,     0.88443,     0.88468,     0.88493,     0.88517,     0.88542,     0.88567,     0.88591,      0.8862,     0.88648,     0.88676,     0.88704,\n",
              "            0.88733,     0.88761,     0.88789,     0.88817,     0.88845,     0.88874,     0.88902,      0.8893,     0.88958,     0.88986,     0.89015,     0.89043,     0.89071,     0.89099,     0.89127,     0.89156,     0.89184,     0.89215,     0.89247,     0.89279,     0.89311,     0.89343,     0.89375,\n",
              "            0.89406,     0.89438,      0.8947,     0.89502,     0.89534,     0.89566,     0.89598,      0.8963,     0.89662,     0.89693,     0.89725,     0.89757,     0.89789,     0.89938,     0.90118,     0.90298,      0.9041,     0.90407,     0.90404,     0.90401,     0.90397,     0.90394,     0.90391,\n",
              "            0.90388,     0.90385,     0.90382,     0.90379,     0.90376,     0.90373,      0.9037,     0.90367,     0.90364,     0.90361,     0.90357,     0.90354,     0.90351,     0.90348,     0.90345,     0.90371,     0.90399,     0.90428,     0.90457,     0.90485,     0.90514,     0.90542,     0.90571,\n",
              "              0.906,     0.90628,     0.90657,     0.90685,     0.90714,     0.90742,     0.90771,       0.908,     0.90828,     0.90857,     0.90885,     0.90914,     0.90942,     0.90971,      0.9097,     0.90968,     0.90966,     0.90964,     0.90962,      0.9096,     0.90958,     0.90956,     0.90954,\n",
              "            0.90952,      0.9095,     0.90948,     0.90946,     0.90944,     0.90942,      0.9094,     0.90938,     0.90936,     0.90934,     0.90932,      0.9093,     0.90928,     0.90926,     0.90924,     0.90922,      0.9092,     0.90918,     0.90916,     0.90914,     0.90912,      0.9091,     0.90907,\n",
              "            0.90903,       0.909,     0.90897,     0.90894,      0.9089,     0.90887,     0.90884,      0.9088,     0.90877,     0.90874,     0.90871,     0.90867,     0.90864,     0.90861,     0.90857,     0.90854,     0.90851,     0.90848,     0.90845,     0.90842,      0.9084,     0.90837,     0.90835,\n",
              "            0.90832,      0.9083,     0.90827,     0.90825,     0.90823,      0.9082,     0.90818,     0.90815,     0.90813,      0.9081,     0.90808,     0.90805,     0.90803,     0.90801,     0.90798,     0.90796,     0.90793,     0.90791,     0.90788,     0.90786,     0.90783,     0.90781,     0.90779,\n",
              "            0.90777,     0.90775,     0.90773,     0.90771,     0.90769,     0.90767,     0.90765,     0.90763,     0.90761,     0.90759,     0.90758,     0.90756,     0.90754,     0.90752,      0.9075,     0.90748,     0.90746,     0.90744,     0.90742,      0.9074,     0.90738,     0.90736,     0.90734,\n",
              "            0.90732,      0.9073,     0.90728,     0.90726,     0.90724,     0.90723,     0.90721,     0.90719,     0.90717,     0.90715,     0.90712,     0.90708,     0.90705,     0.90701,     0.90698,     0.90695,     0.90691,     0.90688,     0.90684,     0.90681,     0.90678,     0.90674,     0.90671,\n",
              "            0.90667,     0.90664,      0.9066,     0.90657,     0.90654,      0.9065,     0.90663,      0.9073,     0.90798,     0.90865,     0.90932,        0.91,     0.91067,     0.91134,     0.91202,     0.91269,     0.91303,     0.91301,     0.91298,     0.91296,     0.91293,     0.91291,     0.91288,\n",
              "            0.91286,     0.91283,     0.91281,     0.91278,     0.91276,     0.91273,     0.91271,     0.91268,     0.91266,     0.91263,     0.91261,     0.91258,     0.91256,     0.91253,     0.91251,     0.91248,     0.91246,     0.91243,      0.9126,     0.91432,     0.91604,     0.91776,      0.9192,\n",
              "            0.91961,     0.92002,     0.92043,     0.92085,     0.92126,     0.92167,     0.92208,     0.92249,      0.9229,     0.92331,     0.92372,     0.92413,     0.92454,     0.92495,     0.92536,     0.92577,     0.92591,     0.92589,     0.92586,     0.92584,     0.92581,     0.92579,     0.92577,\n",
              "            0.92574,     0.92572,     0.92569,     0.92567,     0.92565,     0.92562,      0.9256,     0.92557,     0.92555,     0.92553,      0.9255,     0.92548,     0.92545,     0.92543,      0.9254,     0.92538,     0.92551,     0.92571,     0.92591,     0.92611,      0.9263,      0.9265,      0.9267,\n",
              "             0.9269,      0.9271,     0.92729,     0.92749,     0.92769,     0.92789,     0.92809,     0.92828,     0.92848,     0.92868,     0.92888,     0.92908,     0.92928,     0.92947,     0.92967,     0.92987,     0.93007,     0.93027,     0.93046,     0.93066,     0.93086,     0.93106,     0.93126,\n",
              "            0.93145,     0.93165,     0.93185,     0.93205,     0.93225,      0.9323,     0.93225,      0.9322,     0.93215,      0.9321,     0.93205,       0.932,     0.93195,      0.9319,     0.93185,     0.93181,     0.93179,     0.93177,     0.93175,     0.93172,      0.9317,     0.93168,     0.93166,\n",
              "            0.93164,     0.93161,     0.93159,     0.93157,     0.93155,     0.93153,     0.93151,     0.93148,     0.93146,     0.93144,     0.93142,      0.9314,     0.93138,     0.93135,     0.93133,     0.93131,     0.93129,     0.93126,     0.93124,     0.93121,     0.93119,     0.93116,     0.93114,\n",
              "            0.93111,     0.93109,     0.93106,     0.93103,     0.93101,     0.93098,     0.93096,     0.93093,     0.93091,     0.93088,     0.93086,     0.93083,     0.93081,     0.93078,     0.93122,      0.9322,     0.93319,     0.93418,     0.93516,     0.93615,     0.93713,     0.93798,     0.93792,\n",
              "            0.93787,     0.93782,     0.93777,     0.93772,     0.93766,     0.93761,     0.93756,     0.93751,     0.93737,     0.93723,     0.93709,     0.93697,     0.93687,     0.93678,     0.93669,     0.93659,     0.93657,     0.93721,     0.93785,     0.93849,     0.93913,     0.93977,     0.94041,\n",
              "            0.94105,     0.94169,     0.94233,     0.94297,     0.94361,     0.94396,     0.94384,     0.94372,     0.94361,     0.94506,      0.9482,     0.95144,     0.95677,     0.95896,     0.95886,     0.95876,     0.95867,     0.95865,     0.95863,     0.95861,     0.95859,     0.95857,     0.95855,\n",
              "            0.95852,      0.9585,     0.95848,     0.95846,     0.95844,     0.95842,      0.9584,     0.95837,     0.95835,     0.95833,     0.95821,     0.95809,     0.95797,     0.95784,     0.95772,     0.95762,     0.95757,     0.95752,     0.95748,     0.95743,     0.95739,     0.95734,     0.95729,\n",
              "            0.96589,     0.96679,      0.9677,      0.9686,     0.96951,     0.97042,     0.97132,     0.97223,     0.97313,     0.97385,     0.97353,     0.97337,     0.97325,     0.97285,     0.97266,     0.97243,     0.97225,     0.97221,     0.97219,     0.97217,     0.97215,     0.97213,     0.97211,\n",
              "            0.97209,     0.97207,     0.97205,     0.97203,     0.97201,     0.97199,     0.97197,     0.97189,     0.97178,     0.97168,     0.97161,     0.97155,     0.97148,     0.97185,     0.97322,     0.97459,     0.97596,     0.97733,     0.97869,     0.98006,     0.98075,      0.9807,     0.98065,\n",
              "             0.9806,     0.98055,     0.98051,     0.98046,     0.98041,     0.98026,     0.98006,     0.98989,     0.98987,     0.98985,     0.98983,     0.98981,     0.98972,     0.98963,     0.98949,     0.98946,     0.98944,     0.98942,      0.9894,     0.98938,     0.98935,     0.98913,     0.98908,\n",
              "            0.98903,     0.98861,     0.98858,     0.98855,     0.98851,     0.98835,     0.98833,      0.9883,     0.98828,     0.98825,     0.98807,     0.98799,     0.98789,     0.98773,      0.9875,     0.98681,     0.98673,     0.98664,      0.9861,     0.98596,     0.98579,     0.98562,     0.98548,\n",
              "            0.98533,     0.98491,     0.98399,     0.98366,     0.98353,     0.98344,     0.98335,     0.98264,     0.98219,     0.98133,     0.98041,     0.97826,     0.97296,     0.97245,     0.97046,     0.96865,     0.96768,     0.96713,     0.96627,     0.96495,     0.96409,     0.96319,      0.9597,\n",
              "            0.95856,      0.9561,     0.95475,     0.95329,     0.94965,     0.94875,     0.94785,     0.94645,     0.94445,     0.94278,     0.94115,     0.94057,     0.93999,     0.93941,     0.93883,     0.93825,     0.93767,     0.92213,     0.91775,     0.91082,     0.98153,           1,           1,\n",
              "                  1,           1,           1,           1,           1,           1,           1,           1,           1,           1,           1,           1,           1,           1,           1,           1,           1,           1,           1,           1,           1,           1,           1,\n",
              "                  1,           1,           1,           1,           1,           1,           1,           1,           1,           1,           1,           1,           1,           1,           1,           1,           1,           1,           1,           1,           1,           1,           1,\n",
              "                  1,           1,           1,           1,           1,           1,           1,           1,           1,           1,           1,           1,           1,           1,           1,           1,           1,           1,           1,           1,           1,           1,           1,\n",
              "                  1,           1,           1,           1,           1,           1,           1,           1,           1,           1,           1,           1,           1,           1,           1,           1,           1,           1,           1,           1,           1,           1,           1,\n",
              "                  1,           1,           1,           1,           1,           1,           1,           1,           1,           1,           1,           1,           1,           1,           1,           1,           1,           1,           1,           1,           1,           1,           1,\n",
              "                  1,           1,           1,           1,           1,           1,           1,           1,           1,           1,           1]]), 'Confidence', 'Precision'], [array([          0,    0.001001,    0.002002,    0.003003,    0.004004,    0.005005,    0.006006,    0.007007,    0.008008,    0.009009,     0.01001,    0.011011,    0.012012,    0.013013,    0.014014,    0.015015,    0.016016,    0.017017,    0.018018,    0.019019,     0.02002,    0.021021,    0.022022,    0.023023,\n",
              "          0.024024,    0.025025,    0.026026,    0.027027,    0.028028,    0.029029,     0.03003,    0.031031,    0.032032,    0.033033,    0.034034,    0.035035,    0.036036,    0.037037,    0.038038,    0.039039,     0.04004,    0.041041,    0.042042,    0.043043,    0.044044,    0.045045,    0.046046,    0.047047,\n",
              "          0.048048,    0.049049,     0.05005,    0.051051,    0.052052,    0.053053,    0.054054,    0.055055,    0.056056,    0.057057,    0.058058,    0.059059,     0.06006,    0.061061,    0.062062,    0.063063,    0.064064,    0.065065,    0.066066,    0.067067,    0.068068,    0.069069,     0.07007,    0.071071,\n",
              "          0.072072,    0.073073,    0.074074,    0.075075,    0.076076,    0.077077,    0.078078,    0.079079,     0.08008,    0.081081,    0.082082,    0.083083,    0.084084,    0.085085,    0.086086,    0.087087,    0.088088,    0.089089,     0.09009,    0.091091,    0.092092,    0.093093,    0.094094,    0.095095,\n",
              "          0.096096,    0.097097,    0.098098,    0.099099,      0.1001,      0.1011,      0.1021,      0.1031,      0.1041,     0.10511,     0.10611,     0.10711,     0.10811,     0.10911,     0.11011,     0.11111,     0.11211,     0.11311,     0.11411,     0.11512,     0.11612,     0.11712,     0.11812,     0.11912,\n",
              "           0.12012,     0.12112,     0.12212,     0.12312,     0.12412,     0.12513,     0.12613,     0.12713,     0.12813,     0.12913,     0.13013,     0.13113,     0.13213,     0.13313,     0.13413,     0.13514,     0.13614,     0.13714,     0.13814,     0.13914,     0.14014,     0.14114,     0.14214,     0.14314,\n",
              "           0.14414,     0.14515,     0.14615,     0.14715,     0.14815,     0.14915,     0.15015,     0.15115,     0.15215,     0.15315,     0.15415,     0.15516,     0.15616,     0.15716,     0.15816,     0.15916,     0.16016,     0.16116,     0.16216,     0.16316,     0.16416,     0.16517,     0.16617,     0.16717,\n",
              "           0.16817,     0.16917,     0.17017,     0.17117,     0.17217,     0.17317,     0.17417,     0.17518,     0.17618,     0.17718,     0.17818,     0.17918,     0.18018,     0.18118,     0.18218,     0.18318,     0.18418,     0.18519,     0.18619,     0.18719,     0.18819,     0.18919,     0.19019,     0.19119,\n",
              "           0.19219,     0.19319,     0.19419,      0.1952,      0.1962,      0.1972,      0.1982,      0.1992,      0.2002,      0.2012,      0.2022,      0.2032,      0.2042,     0.20521,     0.20621,     0.20721,     0.20821,     0.20921,     0.21021,     0.21121,     0.21221,     0.21321,     0.21421,     0.21522,\n",
              "           0.21622,     0.21722,     0.21822,     0.21922,     0.22022,     0.22122,     0.22222,     0.22322,     0.22422,     0.22523,     0.22623,     0.22723,     0.22823,     0.22923,     0.23023,     0.23123,     0.23223,     0.23323,     0.23423,     0.23524,     0.23624,     0.23724,     0.23824,     0.23924,\n",
              "           0.24024,     0.24124,     0.24224,     0.24324,     0.24424,     0.24525,     0.24625,     0.24725,     0.24825,     0.24925,     0.25025,     0.25125,     0.25225,     0.25325,     0.25425,     0.25526,     0.25626,     0.25726,     0.25826,     0.25926,     0.26026,     0.26126,     0.26226,     0.26326,\n",
              "           0.26426,     0.26527,     0.26627,     0.26727,     0.26827,     0.26927,     0.27027,     0.27127,     0.27227,     0.27327,     0.27427,     0.27528,     0.27628,     0.27728,     0.27828,     0.27928,     0.28028,     0.28128,     0.28228,     0.28328,     0.28428,     0.28529,     0.28629,     0.28729,\n",
              "           0.28829,     0.28929,     0.29029,     0.29129,     0.29229,     0.29329,     0.29429,      0.2953,      0.2963,      0.2973,      0.2983,      0.2993,      0.3003,      0.3013,      0.3023,      0.3033,      0.3043,     0.30531,     0.30631,     0.30731,     0.30831,     0.30931,     0.31031,     0.31131,\n",
              "           0.31231,     0.31331,     0.31431,     0.31532,     0.31632,     0.31732,     0.31832,     0.31932,     0.32032,     0.32132,     0.32232,     0.32332,     0.32432,     0.32533,     0.32633,     0.32733,     0.32833,     0.32933,     0.33033,     0.33133,     0.33233,     0.33333,     0.33433,     0.33534,\n",
              "           0.33634,     0.33734,     0.33834,     0.33934,     0.34034,     0.34134,     0.34234,     0.34334,     0.34434,     0.34535,     0.34635,     0.34735,     0.34835,     0.34935,     0.35035,     0.35135,     0.35235,     0.35335,     0.35435,     0.35536,     0.35636,     0.35736,     0.35836,     0.35936,\n",
              "           0.36036,     0.36136,     0.36236,     0.36336,     0.36436,     0.36537,     0.36637,     0.36737,     0.36837,     0.36937,     0.37037,     0.37137,     0.37237,     0.37337,     0.37437,     0.37538,     0.37638,     0.37738,     0.37838,     0.37938,     0.38038,     0.38138,     0.38238,     0.38338,\n",
              "           0.38438,     0.38539,     0.38639,     0.38739,     0.38839,     0.38939,     0.39039,     0.39139,     0.39239,     0.39339,     0.39439,      0.3954,      0.3964,      0.3974,      0.3984,      0.3994,      0.4004,      0.4014,      0.4024,      0.4034,      0.4044,     0.40541,     0.40641,     0.40741,\n",
              "           0.40841,     0.40941,     0.41041,     0.41141,     0.41241,     0.41341,     0.41441,     0.41542,     0.41642,     0.41742,     0.41842,     0.41942,     0.42042,     0.42142,     0.42242,     0.42342,     0.42442,     0.42543,     0.42643,     0.42743,     0.42843,     0.42943,     0.43043,     0.43143,\n",
              "           0.43243,     0.43343,     0.43443,     0.43544,     0.43644,     0.43744,     0.43844,     0.43944,     0.44044,     0.44144,     0.44244,     0.44344,     0.44444,     0.44545,     0.44645,     0.44745,     0.44845,     0.44945,     0.45045,     0.45145,     0.45245,     0.45345,     0.45445,     0.45546,\n",
              "           0.45646,     0.45746,     0.45846,     0.45946,     0.46046,     0.46146,     0.46246,     0.46346,     0.46446,     0.46547,     0.46647,     0.46747,     0.46847,     0.46947,     0.47047,     0.47147,     0.47247,     0.47347,     0.47447,     0.47548,     0.47648,     0.47748,     0.47848,     0.47948,\n",
              "           0.48048,     0.48148,     0.48248,     0.48348,     0.48448,     0.48549,     0.48649,     0.48749,     0.48849,     0.48949,     0.49049,     0.49149,     0.49249,     0.49349,     0.49449,      0.4955,      0.4965,      0.4975,      0.4985,      0.4995,      0.5005,      0.5015,      0.5025,      0.5035,\n",
              "            0.5045,     0.50551,     0.50651,     0.50751,     0.50851,     0.50951,     0.51051,     0.51151,     0.51251,     0.51351,     0.51451,     0.51552,     0.51652,     0.51752,     0.51852,     0.51952,     0.52052,     0.52152,     0.52252,     0.52352,     0.52452,     0.52553,     0.52653,     0.52753,\n",
              "           0.52853,     0.52953,     0.53053,     0.53153,     0.53253,     0.53353,     0.53453,     0.53554,     0.53654,     0.53754,     0.53854,     0.53954,     0.54054,     0.54154,     0.54254,     0.54354,     0.54454,     0.54555,     0.54655,     0.54755,     0.54855,     0.54955,     0.55055,     0.55155,\n",
              "           0.55255,     0.55355,     0.55455,     0.55556,     0.55656,     0.55756,     0.55856,     0.55956,     0.56056,     0.56156,     0.56256,     0.56356,     0.56456,     0.56557,     0.56657,     0.56757,     0.56857,     0.56957,     0.57057,     0.57157,     0.57257,     0.57357,     0.57457,     0.57558,\n",
              "           0.57658,     0.57758,     0.57858,     0.57958,     0.58058,     0.58158,     0.58258,     0.58358,     0.58458,     0.58559,     0.58659,     0.58759,     0.58859,     0.58959,     0.59059,     0.59159,     0.59259,     0.59359,     0.59459,      0.5956,      0.5966,      0.5976,      0.5986,      0.5996,\n",
              "            0.6006,      0.6016,      0.6026,      0.6036,      0.6046,     0.60561,     0.60661,     0.60761,     0.60861,     0.60961,     0.61061,     0.61161,     0.61261,     0.61361,     0.61461,     0.61562,     0.61662,     0.61762,     0.61862,     0.61962,     0.62062,     0.62162,     0.62262,     0.62362,\n",
              "           0.62462,     0.62563,     0.62663,     0.62763,     0.62863,     0.62963,     0.63063,     0.63163,     0.63263,     0.63363,     0.63463,     0.63564,     0.63664,     0.63764,     0.63864,     0.63964,     0.64064,     0.64164,     0.64264,     0.64364,     0.64464,     0.64565,     0.64665,     0.64765,\n",
              "           0.64865,     0.64965,     0.65065,     0.65165,     0.65265,     0.65365,     0.65465,     0.65566,     0.65666,     0.65766,     0.65866,     0.65966,     0.66066,     0.66166,     0.66266,     0.66366,     0.66466,     0.66567,     0.66667,     0.66767,     0.66867,     0.66967,     0.67067,     0.67167,\n",
              "           0.67267,     0.67367,     0.67467,     0.67568,     0.67668,     0.67768,     0.67868,     0.67968,     0.68068,     0.68168,     0.68268,     0.68368,     0.68468,     0.68569,     0.68669,     0.68769,     0.68869,     0.68969,     0.69069,     0.69169,     0.69269,     0.69369,     0.69469,      0.6957,\n",
              "            0.6967,      0.6977,      0.6987,      0.6997,      0.7007,      0.7017,      0.7027,      0.7037,      0.7047,     0.70571,     0.70671,     0.70771,     0.70871,     0.70971,     0.71071,     0.71171,     0.71271,     0.71371,     0.71471,     0.71572,     0.71672,     0.71772,     0.71872,     0.71972,\n",
              "           0.72072,     0.72172,     0.72272,     0.72372,     0.72472,     0.72573,     0.72673,     0.72773,     0.72873,     0.72973,     0.73073,     0.73173,     0.73273,     0.73373,     0.73473,     0.73574,     0.73674,     0.73774,     0.73874,     0.73974,     0.74074,     0.74174,     0.74274,     0.74374,\n",
              "           0.74474,     0.74575,     0.74675,     0.74775,     0.74875,     0.74975,     0.75075,     0.75175,     0.75275,     0.75375,     0.75475,     0.75576,     0.75676,     0.75776,     0.75876,     0.75976,     0.76076,     0.76176,     0.76276,     0.76376,     0.76476,     0.76577,     0.76677,     0.76777,\n",
              "           0.76877,     0.76977,     0.77077,     0.77177,     0.77277,     0.77377,     0.77477,     0.77578,     0.77678,     0.77778,     0.77878,     0.77978,     0.78078,     0.78178,     0.78278,     0.78378,     0.78478,     0.78579,     0.78679,     0.78779,     0.78879,     0.78979,     0.79079,     0.79179,\n",
              "           0.79279,     0.79379,     0.79479,      0.7958,      0.7968,      0.7978,      0.7988,      0.7998,      0.8008,      0.8018,      0.8028,      0.8038,      0.8048,     0.80581,     0.80681,     0.80781,     0.80881,     0.80981,     0.81081,     0.81181,     0.81281,     0.81381,     0.81481,     0.81582,\n",
              "           0.81682,     0.81782,     0.81882,     0.81982,     0.82082,     0.82182,     0.82282,     0.82382,     0.82482,     0.82583,     0.82683,     0.82783,     0.82883,     0.82983,     0.83083,     0.83183,     0.83283,     0.83383,     0.83483,     0.83584,     0.83684,     0.83784,     0.83884,     0.83984,\n",
              "           0.84084,     0.84184,     0.84284,     0.84384,     0.84484,     0.84585,     0.84685,     0.84785,     0.84885,     0.84985,     0.85085,     0.85185,     0.85285,     0.85385,     0.85485,     0.85586,     0.85686,     0.85786,     0.85886,     0.85986,     0.86086,     0.86186,     0.86286,     0.86386,\n",
              "           0.86486,     0.86587,     0.86687,     0.86787,     0.86887,     0.86987,     0.87087,     0.87187,     0.87287,     0.87387,     0.87487,     0.87588,     0.87688,     0.87788,     0.87888,     0.87988,     0.88088,     0.88188,     0.88288,     0.88388,     0.88488,     0.88589,     0.88689,     0.88789,\n",
              "           0.88889,     0.88989,     0.89089,     0.89189,     0.89289,     0.89389,     0.89489,      0.8959,      0.8969,      0.8979,      0.8989,      0.8999,      0.9009,      0.9019,      0.9029,      0.9039,      0.9049,     0.90591,     0.90691,     0.90791,     0.90891,     0.90991,     0.91091,     0.91191,\n",
              "           0.91291,     0.91391,     0.91491,     0.91592,     0.91692,     0.91792,     0.91892,     0.91992,     0.92092,     0.92192,     0.92292,     0.92392,     0.92492,     0.92593,     0.92693,     0.92793,     0.92893,     0.92993,     0.93093,     0.93193,     0.93293,     0.93393,     0.93493,     0.93594,\n",
              "           0.93694,     0.93794,     0.93894,     0.93994,     0.94094,     0.94194,     0.94294,     0.94394,     0.94494,     0.94595,     0.94695,     0.94795,     0.94895,     0.94995,     0.95095,     0.95195,     0.95295,     0.95395,     0.95495,     0.95596,     0.95696,     0.95796,     0.95896,     0.95996,\n",
              "           0.96096,     0.96196,     0.96296,     0.96396,     0.96496,     0.96597,     0.96697,     0.96797,     0.96897,     0.96997,     0.97097,     0.97197,     0.97297,     0.97397,     0.97497,     0.97598,     0.97698,     0.97798,     0.97898,     0.97998,     0.98098,     0.98198,     0.98298,     0.98398,\n",
              "           0.98498,     0.98599,     0.98699,     0.98799,     0.98899,     0.98999,     0.99099,     0.99199,     0.99299,     0.99399,     0.99499,       0.996,       0.997,       0.998,       0.999,           1]), array([[    0.95172,     0.95172,     0.95172,     0.94483,     0.94483,     0.94483,     0.94483,     0.94483,     0.94483,     0.93793,     0.93793,     0.93793,     0.93793,     0.93793,     0.93793,     0.93793,     0.93793,     0.93793,     0.93793,     0.93793,     0.93793,     0.93793,     0.93793,\n",
              "            0.93793,     0.93793,     0.93793,     0.93793,     0.93793,     0.93793,     0.93793,     0.93793,     0.93793,     0.93793,     0.93793,     0.93103,     0.93103,     0.93103,     0.93103,     0.93103,     0.93103,     0.93103,     0.93103,     0.93103,     0.93103,     0.93103,     0.93061,\n",
              "             0.9298,     0.92898,     0.92817,     0.92736,     0.92654,     0.92573,     0.92492,     0.92414,     0.92414,     0.92414,     0.92414,     0.92414,     0.92154,     0.91724,     0.91724,     0.91724,     0.91724,     0.91724,     0.91724,     0.91724,     0.91724,     0.91724,     0.91724,\n",
              "            0.91724,     0.91724,     0.91724,     0.91724,     0.91724,     0.91724,     0.91724,     0.91724,     0.91724,     0.91724,     0.91724,     0.91724,     0.91724,     0.91724,     0.91724,     0.91724,     0.91724,     0.91724,     0.91724,     0.91724,     0.91724,     0.91724,     0.91724,\n",
              "            0.91724,     0.91724,     0.91724,     0.91724,     0.91724,     0.91724,     0.91724,     0.91724,     0.91724,     0.91724,     0.91724,     0.91724,     0.91724,     0.91724,     0.91724,     0.91724,     0.91724,     0.91724,     0.91724,     0.91724,     0.91724,     0.91724,     0.91724,\n",
              "            0.91724,     0.91724,     0.91724,     0.91724,      0.9171,     0.91669,     0.91629,     0.91588,     0.91547,     0.91507,     0.91466,     0.91425,     0.91385,     0.91344,     0.91303,     0.91263,     0.91222,     0.91181,     0.91141,       0.911,     0.91059,     0.91034,     0.91034,\n",
              "            0.91034,     0.91034,     0.91034,     0.91034,     0.91034,     0.91034,     0.91034,     0.91034,     0.91034,     0.91034,     0.91034,     0.91034,     0.91034,     0.91034,     0.91034,     0.91034,     0.91034,     0.91034,     0.91034,     0.91034,     0.91034,     0.91034,     0.91034,\n",
              "            0.91034,     0.91034,     0.91034,     0.91034,     0.91034,     0.91034,     0.91034,     0.91034,     0.91034,     0.91034,     0.91034,     0.91034,     0.91034,     0.91034,     0.91034,     0.91034,     0.91034,     0.91034,     0.91034,     0.91034,     0.91034,     0.91034,     0.91034,\n",
              "            0.91034,     0.91034,     0.91034,     0.91034,     0.91034,     0.91034,     0.91034,     0.91034,     0.91034,     0.91034,     0.91034,     0.91034,     0.91034,     0.91034,     0.91034,     0.91034,     0.91034,     0.91034,     0.91034,     0.91034,     0.91034,     0.91034,     0.91034,\n",
              "            0.91034,     0.91034,     0.91034,     0.91034,     0.91034,     0.91034,     0.91034,     0.91034,     0.91034,     0.91034,     0.91034,     0.91034,     0.91034,     0.91034,     0.91034,     0.91034,     0.91034,     0.91034,     0.91034,     0.91034,     0.91034,     0.91034,     0.91034,\n",
              "            0.91034,     0.91034,     0.91034,     0.91034,     0.91034,     0.91034,     0.91034,     0.91034,     0.91034,     0.91034,     0.91034,     0.91034,     0.91034,     0.91034,     0.91034,     0.91034,     0.91034,     0.91034,     0.91034,     0.91034,     0.91034,     0.91034,     0.91034,\n",
              "            0.91034,     0.91034,     0.91034,     0.91034,     0.91034,     0.91034,     0.91034,     0.91034,     0.91034,     0.91034,     0.91034,     0.91034,     0.91034,     0.91034,     0.91034,     0.91034,     0.91034,     0.91034,     0.91034,     0.91034,     0.91034,     0.91034,     0.91034,\n",
              "            0.91034,     0.91034,     0.91034,     0.91034,     0.91034,     0.91034,     0.91034,     0.91034,     0.91034,     0.91034,     0.91034,     0.91034,     0.91034,     0.91034,     0.91034,     0.91034,     0.91034,     0.91034,     0.91034,     0.91034,     0.91034,     0.91034,     0.91034,\n",
              "            0.91034,     0.91034,     0.91034,     0.91034,     0.91034,     0.91034,     0.91034,     0.91034,     0.91034,     0.91034,     0.91034,     0.91034,     0.91034,     0.91034,     0.91034,     0.91034,     0.91022,      0.9099,     0.90958,     0.90926,     0.90894,     0.90862,      0.9083,\n",
              "            0.90798,     0.90765,     0.90733,     0.90701,     0.90669,     0.90637,     0.90605,     0.90573,      0.9054,     0.90508,     0.90476,     0.90444,     0.90412,      0.9038,     0.90348,     0.90345,     0.90345,     0.90345,     0.90345,     0.90345,     0.90345,     0.90345,     0.90345,\n",
              "            0.90345,     0.90345,     0.90345,     0.90345,     0.90345,     0.90345,     0.90345,     0.90345,     0.90345,     0.90345,     0.90345,     0.90345,     0.90345,     0.90345,     0.90324,     0.90302,     0.90279,     0.90257,     0.90235,     0.90213,     0.90191,     0.90169,     0.90147,\n",
              "            0.90125,     0.90103,     0.90081,     0.90059,     0.90036,     0.90014,     0.89992,      0.8997,     0.89948,     0.89926,     0.89904,     0.89882,      0.8986,     0.89838,     0.89816,     0.89793,     0.89771,     0.89749,     0.89727,     0.89705,     0.89683,     0.89661,     0.89629,\n",
              "            0.89594,     0.89558,     0.89523,     0.89488,     0.89452,     0.89417,     0.89382,     0.89346,     0.89311,     0.89276,      0.8924,     0.89205,     0.89169,     0.89134,     0.89099,     0.89063,     0.89028,     0.88993,      0.8896,     0.88934,     0.88908,     0.88882,     0.88856,\n",
              "             0.8883,     0.88804,     0.88778,     0.88752,     0.88726,       0.887,     0.88674,     0.88648,     0.88622,     0.88596,      0.8857,     0.88544,     0.88519,     0.88493,     0.88467,     0.88441,     0.88415,     0.88389,     0.88363,     0.88337,     0.88311,     0.88285,     0.88263,\n",
              "            0.88242,     0.88222,     0.88202,     0.88181,     0.88161,     0.88141,      0.8812,       0.881,      0.8808,     0.88059,     0.88039,     0.88019,     0.87998,     0.87978,     0.87958,     0.87937,     0.87917,     0.87897,     0.87876,     0.87856,     0.87836,     0.87815,     0.87795,\n",
              "            0.87775,     0.87754,     0.87734,     0.87713,     0.87693,     0.87673,     0.87652,     0.87632,     0.87612,     0.87591,      0.8756,     0.87525,     0.87489,     0.87454,     0.87419,     0.87383,     0.87348,     0.87313,     0.87277,     0.87242,     0.87206,     0.87171,     0.87136,\n",
              "              0.871,     0.87065,      0.8703,     0.86994,     0.86959,     0.86924,     0.86897,     0.86897,     0.86897,     0.86897,     0.86897,     0.86897,     0.86897,     0.86897,     0.86897,     0.86897,     0.86884,     0.86856,     0.86829,     0.86802,     0.86775,     0.86748,      0.8672,\n",
              "            0.86693,     0.86666,     0.86639,     0.86612,     0.86585,     0.86557,      0.8653,     0.86503,     0.86476,     0.86449,     0.86421,     0.86394,     0.86367,      0.8634,     0.86313,     0.86285,     0.86258,     0.86231,     0.86207,     0.86207,     0.86207,     0.86207,     0.86207,\n",
              "            0.86207,     0.86207,     0.86207,     0.86207,     0.86207,     0.86207,     0.86207,     0.86207,     0.86207,     0.86207,     0.86207,     0.86207,     0.86207,     0.86207,     0.86207,     0.86207,     0.86188,     0.86158,     0.86128,     0.86098,     0.86068,     0.86038,     0.86008,\n",
              "            0.85978,     0.85948,     0.85917,     0.85887,     0.85857,     0.85827,     0.85797,     0.85767,     0.85737,     0.85707,     0.85677,     0.85647,     0.85617,     0.85587,     0.85556,     0.85526,     0.85517,     0.85517,     0.85517,     0.85517,     0.85517,     0.85517,     0.85517,\n",
              "            0.85517,     0.85517,     0.85517,     0.85517,     0.85517,     0.85517,     0.85517,     0.85517,     0.85517,     0.85517,     0.85517,     0.85517,     0.85517,     0.85517,     0.85517,     0.85517,     0.85517,     0.85517,     0.85517,     0.85517,     0.85517,     0.85517,     0.85517,\n",
              "            0.85517,     0.85517,     0.85517,     0.85517,     0.85517,     0.85478,     0.85411,     0.85344,     0.85277,     0.85209,     0.85142,     0.85075,     0.85007,      0.8494,     0.84873,     0.84818,     0.84789,      0.8476,     0.84731,     0.84703,     0.84674,     0.84645,     0.84616,\n",
              "            0.84587,     0.84558,     0.84529,     0.84501,     0.84472,     0.84443,     0.84414,     0.84385,     0.84356,     0.84327,     0.84299,      0.8427,     0.84241,     0.84212,     0.84183,     0.84154,     0.84124,     0.84091,     0.84058,     0.84025,     0.83992,     0.83959,     0.83927,\n",
              "            0.83894,     0.83861,     0.83828,     0.83795,     0.83762,     0.83729,     0.83696,     0.83663,     0.83631,     0.83598,     0.83565,     0.83532,     0.83499,     0.83466,     0.83448,     0.83448,     0.83448,     0.83448,     0.83448,     0.83448,     0.83448,     0.83438,     0.83364,\n",
              "            0.83289,     0.83215,      0.8314,     0.83066,     0.82992,     0.82917,     0.82843,     0.82768,     0.82583,     0.82381,     0.82179,      0.8201,     0.81882,     0.81753,     0.81625,     0.81496,     0.81379,     0.81379,     0.81379,     0.81379,     0.81379,     0.81379,     0.81379,\n",
              "            0.81379,     0.81379,     0.81379,     0.81379,     0.81379,     0.81312,     0.81135,     0.80958,     0.80781,      0.8069,      0.8069,      0.8069,      0.8069,     0.80573,     0.80371,     0.80169,     0.79993,      0.7995,     0.79907,     0.79864,     0.79822,     0.79779,     0.79736,\n",
              "            0.79693,      0.7965,     0.79607,     0.79565,     0.79522,     0.79479,     0.79436,     0.79393,      0.7935,     0.79295,     0.79059,     0.78823,     0.78588,     0.78352,     0.78117,     0.77912,     0.77824,     0.77735,     0.77647,     0.77559,      0.7747,     0.77382,     0.77294,\n",
              "            0.77241,     0.77241,     0.77241,     0.77241,     0.77241,     0.77241,     0.77241,     0.77241,     0.77241,     0.77043,     0.76091,     0.75623,     0.75269,     0.74141,     0.73608,     0.72968,     0.72497,     0.72371,     0.72318,     0.72266,     0.72214,     0.72161,     0.72109,\n",
              "            0.72057,     0.72004,     0.71952,     0.71899,     0.71847,     0.71795,     0.71742,      0.7154,     0.71257,     0.70997,      0.7082,     0.70643,     0.70467,     0.70345,     0.70345,     0.70345,     0.70345,     0.70345,     0.70345,     0.70345,      0.7026,     0.70083,     0.69906,\n",
              "            0.69729,     0.69553,     0.69376,     0.69199,     0.69022,     0.68486,      0.6778,     0.67493,     0.67364,     0.67236,     0.67107,     0.66979,     0.66386,     0.65795,     0.64938,     0.64719,     0.64601,     0.64483,     0.64366,     0.64248,      0.6409,     0.62732,      0.6245,\n",
              "            0.62167,     0.59884,     0.59708,     0.59531,     0.59354,     0.58524,     0.58396,     0.58267,     0.58139,      0.5801,     0.57105,     0.56752,     0.56245,     0.55538,     0.54489,     0.51581,     0.51298,     0.50937,     0.48922,      0.4845,     0.47831,     0.47278,     0.46807,\n",
              "            0.46335,     0.45003,     0.42385,      0.4152,     0.41191,     0.40955,     0.40719,     0.39037,      0.3804,     0.36244,     0.34523,      0.3104,     0.24818,     0.24347,     0.22661,     0.21313,     0.20648,     0.20294,     0.19764,      0.1899,     0.18519,     0.18048,     0.16427,\n",
              "            0.15956,     0.15025,     0.14553,     0.14082,     0.13012,     0.12777,     0.12541,     0.12197,     0.11726,     0.11372,      0.1103,     0.10921,     0.10812,     0.10703,     0.10595,     0.10486,     0.10377,    0.081739,    0.077026,     0.07054,    0.068966,    0.065187,    0.061112,\n",
              "           0.058284,    0.055457,    0.054664,    0.054098,    0.053533,    0.052967,    0.052402,    0.051836,    0.051271,    0.050705,     0.05014,    0.049574,    0.049008,    0.048443,    0.040766,    0.037939,    0.035111,    0.034116,    0.033645,    0.033174,    0.032702,    0.032231,     0.03176,\n",
              "           0.031289,    0.030817,    0.030346,    0.029875,    0.029403,    0.028932,    0.028461,     0.02799,    0.027332,    0.025564,    0.023797,     0.02203,     0.02012,    0.017764,    0.015407,    0.013388,    0.012103,    0.010818,   0.0095324,   0.0082471,   0.0069618,           0,           0,\n",
              "                  0,           0,           0,           0,           0,           0,           0,           0,           0,           0,           0,           0,           0,           0,           0,           0,           0,           0,           0,           0,           0,           0,           0,\n",
              "                  0,           0,           0,           0,           0,           0,           0,           0,           0,           0,           0,           0,           0,           0,           0,           0,           0,           0,           0,           0,           0,           0,           0,\n",
              "                  0,           0,           0,           0,           0,           0,           0,           0,           0,           0,           0,           0,           0,           0,           0,           0,           0,           0,           0,           0,           0,           0,           0,\n",
              "                  0,           0,           0,           0,           0,           0,           0,           0,           0,           0,           0]]), 'Confidence', 'Recall']]\n",
              "fitness: np.float64(0.6294347094361137)\n",
              "keys: ['metrics/precision(B)', 'metrics/recall(B)', 'metrics/mAP50(B)', 'metrics/mAP50-95(B)']\n",
              "maps: array([    0.59584])\n",
              "names: {0: 'license_plate'}\n",
              "nt_per_class: array([145])\n",
              "nt_per_image: array([133])\n",
              "results_dict: {'metrics/precision(B)': np.float64(0.9059951170838783), 'metrics/recall(B)': np.float64(0.903448275862069), 'metrics/mAP50(B)': np.float64(0.9317815445722639), 'metrics/mAP50-95(B)': np.float64(0.5958406166432081), 'fitness': np.float64(0.6294347094361137)}\n",
              "save_dir: PosixPath('runs/detect/train2')\n",
              "speed: {'preprocess': 0.23284539849924854, 'inference': 2.898160203011158, 'loss': 0.0004085037611169772, 'postprocess': 6.657709112784817}\n",
              "stats: {'tp': [], 'conf': [], 'pred_cls': [], 'target_cls': [], 'target_img': []}\n",
              "task: 'detect'"
            ]
          },
          "metadata": {},
          "execution_count": 9
        }
      ]
    },
    {
      "cell_type": "code",
      "source": [
        "dir(model)"
      ],
      "metadata": {
        "colab": {
          "base_uri": "https://localhost:8080/"
        },
        "id": "Y5AJgVIbDCJq",
        "outputId": "ba6aeca3-6544-47f1-e64e-7a60a8cfcdc7"
      },
      "execution_count": null,
      "outputs": [
        {
          "output_type": "execute_result",
          "data": {
            "text/plain": [
              "['T_destination',\n",
              " '__annotations__',\n",
              " '__call__',\n",
              " '__class__',\n",
              " '__delattr__',\n",
              " '__dict__',\n",
              " '__dir__',\n",
              " '__doc__',\n",
              " '__eq__',\n",
              " '__format__',\n",
              " '__ge__',\n",
              " '__getattr__',\n",
              " '__getattribute__',\n",
              " '__getstate__',\n",
              " '__gt__',\n",
              " '__hash__',\n",
              " '__init__',\n",
              " '__init_subclass__',\n",
              " '__le__',\n",
              " '__lt__',\n",
              " '__module__',\n",
              " '__ne__',\n",
              " '__new__',\n",
              " '__reduce__',\n",
              " '__reduce_ex__',\n",
              " '__repr__',\n",
              " '__setattr__',\n",
              " '__setstate__',\n",
              " '__sizeof__',\n",
              " '__str__',\n",
              " '__subclasshook__',\n",
              " '__weakref__',\n",
              " '_apply',\n",
              " '_backward_hooks',\n",
              " '_backward_pre_hooks',\n",
              " '_buffers',\n",
              " '_call_impl',\n",
              " '_check_is_pytorch_model',\n",
              " '_compiled_call_impl',\n",
              " '_forward_hooks',\n",
              " '_forward_hooks_always_called',\n",
              " '_forward_hooks_with_kwargs',\n",
              " '_forward_pre_hooks',\n",
              " '_forward_pre_hooks_with_kwargs',\n",
              " '_get_backward_hooks',\n",
              " '_get_backward_pre_hooks',\n",
              " '_get_name',\n",
              " '_is_full_backward_hook',\n",
              " '_load',\n",
              " '_load_from_state_dict',\n",
              " '_load_state_dict_post_hooks',\n",
              " '_load_state_dict_pre_hooks',\n",
              " '_maybe_warn_non_full_backward_hook',\n",
              " '_modules',\n",
              " '_named_members',\n",
              " '_new',\n",
              " '_non_persistent_buffers_set',\n",
              " '_parameters',\n",
              " '_register_load_state_dict_pre_hook',\n",
              " '_register_state_dict_hook',\n",
              " '_replicate_for_data_parallel',\n",
              " '_reset_ckpt_args',\n",
              " '_save_to_state_dict',\n",
              " '_slow_forward',\n",
              " '_smart_load',\n",
              " '_state_dict_hooks',\n",
              " '_state_dict_pre_hooks',\n",
              " '_version',\n",
              " '_wrapped_call_impl',\n",
              " 'add_callback',\n",
              " 'add_module',\n",
              " 'apply',\n",
              " 'benchmark',\n",
              " 'bfloat16',\n",
              " 'buffers',\n",
              " 'call_super_init',\n",
              " 'callbacks',\n",
              " 'cfg',\n",
              " 'children',\n",
              " 'ckpt',\n",
              " 'ckpt_path',\n",
              " 'clear_callback',\n",
              " 'compile',\n",
              " 'cpu',\n",
              " 'cuda',\n",
              " 'device',\n",
              " 'double',\n",
              " 'dump_patches',\n",
              " 'embed',\n",
              " 'eval',\n",
              " 'export',\n",
              " 'extra_repr',\n",
              " 'float',\n",
              " 'forward',\n",
              " 'fuse',\n",
              " 'get_buffer',\n",
              " 'get_extra_state',\n",
              " 'get_parameter',\n",
              " 'get_submodule',\n",
              " 'half',\n",
              " 'info',\n",
              " 'ipu',\n",
              " 'is_hub_model',\n",
              " 'is_triton_model',\n",
              " 'load',\n",
              " 'load_state_dict',\n",
              " 'metrics',\n",
              " 'model',\n",
              " 'model_name',\n",
              " 'modules',\n",
              " 'mtia',\n",
              " 'named_buffers',\n",
              " 'named_children',\n",
              " 'named_modules',\n",
              " 'named_parameters',\n",
              " 'names',\n",
              " 'overrides',\n",
              " 'parameters',\n",
              " 'predict',\n",
              " 'predictor',\n",
              " 'register_backward_hook',\n",
              " 'register_buffer',\n",
              " 'register_forward_hook',\n",
              " 'register_forward_pre_hook',\n",
              " 'register_full_backward_hook',\n",
              " 'register_full_backward_pre_hook',\n",
              " 'register_load_state_dict_post_hook',\n",
              " 'register_load_state_dict_pre_hook',\n",
              " 'register_module',\n",
              " 'register_parameter',\n",
              " 'register_state_dict_post_hook',\n",
              " 'register_state_dict_pre_hook',\n",
              " 'requires_grad_',\n",
              " 'reset_callbacks',\n",
              " 'reset_weights',\n",
              " 'save',\n",
              " 'session',\n",
              " 'set_extra_state',\n",
              " 'set_submodule',\n",
              " 'share_memory',\n",
              " 'state_dict',\n",
              " 'task',\n",
              " 'task_map',\n",
              " 'to',\n",
              " 'to_empty',\n",
              " 'track',\n",
              " 'train',\n",
              " 'trainer',\n",
              " 'transforms',\n",
              " 'tune',\n",
              " 'type',\n",
              " 'val',\n",
              " 'xpu',\n",
              " 'zero_grad']"
            ]
          },
          "metadata": {},
          "execution_count": 10
        }
      ]
    },
    {
      "cell_type": "code",
      "source": [
        "model.info()"
      ],
      "metadata": {
        "colab": {
          "base_uri": "https://localhost:8080/"
        },
        "id": "ugy88nSmG_WJ",
        "outputId": "6ab6be88-829a-401f-faa1-e7e92db8d562"
      },
      "execution_count": null,
      "outputs": [
        {
          "output_type": "stream",
          "name": "stdout",
          "text": [
            "Model summary: 129 layers, 3,011,043 parameters, 0 gradients, 8.2 GFLOPs\n"
          ]
        },
        {
          "output_type": "execute_result",
          "data": {
            "text/plain": [
              "(129, 3011043, 0, 8.1941504)"
            ]
          },
          "metadata": {},
          "execution_count": 12
        }
      ]
    },
    {
      "cell_type": "code",
      "source": [
        "model.parameters()"
      ],
      "metadata": {
        "colab": {
          "base_uri": "https://localhost:8080/"
        },
        "id": "qyi8nyIcH1BE",
        "outputId": "9aedf6bd-08e1-4a19-b965-65e16da934fc"
      },
      "execution_count": null,
      "outputs": [
        {
          "output_type": "execute_result",
          "data": {
            "text/plain": [
              "<generator object Module.parameters at 0x7b0e25a7ef80>"
            ]
          },
          "metadata": {},
          "execution_count": 21
        }
      ]
    },
    {
      "cell_type": "code",
      "source": [
        "model.val()"
      ],
      "metadata": {
        "colab": {
          "base_uri": "https://localhost:8080/"
        },
        "id": "ds__85yVH5y6",
        "outputId": "9cd1e05a-6bec-4655-af74-cd1eae9d6c8f"
      },
      "execution_count": null,
      "outputs": [
        {
          "output_type": "stream",
          "name": "stdout",
          "text": [
            "Ultralytics 8.3.165 🚀 Python-3.11.13 torch-2.6.0+cu124 CUDA:0 (Tesla T4, 15095MiB)\n",
            "Model summary (fused): 72 layers, 3,005,843 parameters, 0 gradients, 8.1 GFLOPs\n",
            "\u001b[34m\u001b[1mval: \u001b[0mFast image access ✅ (ping: 0.0±0.0 ms, read: 1244.2±841.1 MB/s, size: 397.4 KB)\n"
          ]
        },
        {
          "output_type": "stream",
          "name": "stderr",
          "text": [
            "\u001b[34m\u001b[1mval: \u001b[0mScanning /content/YOLO_dataset/labels/val.cache... 133 images, 0 backgrounds, 0 corrupt: 100%|██████████| 133/133 [00:00<?, ?it/s]\n",
            "                 Class     Images  Instances      Box(P          R      mAP50  mAP50-95): 100%|██████████| 9/9 [00:03<00:00,  2.93it/s]\n"
          ]
        },
        {
          "output_type": "stream",
          "name": "stdout",
          "text": [
            "                   all        133        145      0.911      0.903      0.933      0.602\n",
            "Speed: 1.1ms preprocess, 9.0ms inference, 0.0ms loss, 2.8ms postprocess per image\n",
            "Results saved to \u001b[1mruns/detect/train22\u001b[0m\n"
          ]
        },
        {
          "output_type": "execute_result",
          "data": {
            "text/plain": [
              "ultralytics.utils.metrics.DetMetrics object with attributes:\n",
              "\n",
              "ap_class_index: array([0])\n",
              "box: ultralytics.utils.metrics.Metric object\n",
              "confusion_matrix: <ultralytics.utils.metrics.ConfusionMatrix object at 0x7b0e25501d90>\n",
              "curves: ['Precision-Recall(B)', 'F1-Confidence(B)', 'Precision-Confidence(B)', 'Recall-Confidence(B)']\n",
              "curves_results: [[array([          0,    0.001001,    0.002002,    0.003003,    0.004004,    0.005005,    0.006006,    0.007007,    0.008008,    0.009009,     0.01001,    0.011011,    0.012012,    0.013013,    0.014014,    0.015015,    0.016016,    0.017017,    0.018018,    0.019019,     0.02002,    0.021021,    0.022022,    0.023023,\n",
              "          0.024024,    0.025025,    0.026026,    0.027027,    0.028028,    0.029029,     0.03003,    0.031031,    0.032032,    0.033033,    0.034034,    0.035035,    0.036036,    0.037037,    0.038038,    0.039039,     0.04004,    0.041041,    0.042042,    0.043043,    0.044044,    0.045045,    0.046046,    0.047047,\n",
              "          0.048048,    0.049049,     0.05005,    0.051051,    0.052052,    0.053053,    0.054054,    0.055055,    0.056056,    0.057057,    0.058058,    0.059059,     0.06006,    0.061061,    0.062062,    0.063063,    0.064064,    0.065065,    0.066066,    0.067067,    0.068068,    0.069069,     0.07007,    0.071071,\n",
              "          0.072072,    0.073073,    0.074074,    0.075075,    0.076076,    0.077077,    0.078078,    0.079079,     0.08008,    0.081081,    0.082082,    0.083083,    0.084084,    0.085085,    0.086086,    0.087087,    0.088088,    0.089089,     0.09009,    0.091091,    0.092092,    0.093093,    0.094094,    0.095095,\n",
              "          0.096096,    0.097097,    0.098098,    0.099099,      0.1001,      0.1011,      0.1021,      0.1031,      0.1041,     0.10511,     0.10611,     0.10711,     0.10811,     0.10911,     0.11011,     0.11111,     0.11211,     0.11311,     0.11411,     0.11512,     0.11612,     0.11712,     0.11812,     0.11912,\n",
              "           0.12012,     0.12112,     0.12212,     0.12312,     0.12412,     0.12513,     0.12613,     0.12713,     0.12813,     0.12913,     0.13013,     0.13113,     0.13213,     0.13313,     0.13413,     0.13514,     0.13614,     0.13714,     0.13814,     0.13914,     0.14014,     0.14114,     0.14214,     0.14314,\n",
              "           0.14414,     0.14515,     0.14615,     0.14715,     0.14815,     0.14915,     0.15015,     0.15115,     0.15215,     0.15315,     0.15415,     0.15516,     0.15616,     0.15716,     0.15816,     0.15916,     0.16016,     0.16116,     0.16216,     0.16316,     0.16416,     0.16517,     0.16617,     0.16717,\n",
              "           0.16817,     0.16917,     0.17017,     0.17117,     0.17217,     0.17317,     0.17417,     0.17518,     0.17618,     0.17718,     0.17818,     0.17918,     0.18018,     0.18118,     0.18218,     0.18318,     0.18418,     0.18519,     0.18619,     0.18719,     0.18819,     0.18919,     0.19019,     0.19119,\n",
              "           0.19219,     0.19319,     0.19419,      0.1952,      0.1962,      0.1972,      0.1982,      0.1992,      0.2002,      0.2012,      0.2022,      0.2032,      0.2042,     0.20521,     0.20621,     0.20721,     0.20821,     0.20921,     0.21021,     0.21121,     0.21221,     0.21321,     0.21421,     0.21522,\n",
              "           0.21622,     0.21722,     0.21822,     0.21922,     0.22022,     0.22122,     0.22222,     0.22322,     0.22422,     0.22523,     0.22623,     0.22723,     0.22823,     0.22923,     0.23023,     0.23123,     0.23223,     0.23323,     0.23423,     0.23524,     0.23624,     0.23724,     0.23824,     0.23924,\n",
              "           0.24024,     0.24124,     0.24224,     0.24324,     0.24424,     0.24525,     0.24625,     0.24725,     0.24825,     0.24925,     0.25025,     0.25125,     0.25225,     0.25325,     0.25425,     0.25526,     0.25626,     0.25726,     0.25826,     0.25926,     0.26026,     0.26126,     0.26226,     0.26326,\n",
              "           0.26426,     0.26527,     0.26627,     0.26727,     0.26827,     0.26927,     0.27027,     0.27127,     0.27227,     0.27327,     0.27427,     0.27528,     0.27628,     0.27728,     0.27828,     0.27928,     0.28028,     0.28128,     0.28228,     0.28328,     0.28428,     0.28529,     0.28629,     0.28729,\n",
              "           0.28829,     0.28929,     0.29029,     0.29129,     0.29229,     0.29329,     0.29429,      0.2953,      0.2963,      0.2973,      0.2983,      0.2993,      0.3003,      0.3013,      0.3023,      0.3033,      0.3043,     0.30531,     0.30631,     0.30731,     0.30831,     0.30931,     0.31031,     0.31131,\n",
              "           0.31231,     0.31331,     0.31431,     0.31532,     0.31632,     0.31732,     0.31832,     0.31932,     0.32032,     0.32132,     0.32232,     0.32332,     0.32432,     0.32533,     0.32633,     0.32733,     0.32833,     0.32933,     0.33033,     0.33133,     0.33233,     0.33333,     0.33433,     0.33534,\n",
              "           0.33634,     0.33734,     0.33834,     0.33934,     0.34034,     0.34134,     0.34234,     0.34334,     0.34434,     0.34535,     0.34635,     0.34735,     0.34835,     0.34935,     0.35035,     0.35135,     0.35235,     0.35335,     0.35435,     0.35536,     0.35636,     0.35736,     0.35836,     0.35936,\n",
              "           0.36036,     0.36136,     0.36236,     0.36336,     0.36436,     0.36537,     0.36637,     0.36737,     0.36837,     0.36937,     0.37037,     0.37137,     0.37237,     0.37337,     0.37437,     0.37538,     0.37638,     0.37738,     0.37838,     0.37938,     0.38038,     0.38138,     0.38238,     0.38338,\n",
              "           0.38438,     0.38539,     0.38639,     0.38739,     0.38839,     0.38939,     0.39039,     0.39139,     0.39239,     0.39339,     0.39439,      0.3954,      0.3964,      0.3974,      0.3984,      0.3994,      0.4004,      0.4014,      0.4024,      0.4034,      0.4044,     0.40541,     0.40641,     0.40741,\n",
              "           0.40841,     0.40941,     0.41041,     0.41141,     0.41241,     0.41341,     0.41441,     0.41542,     0.41642,     0.41742,     0.41842,     0.41942,     0.42042,     0.42142,     0.42242,     0.42342,     0.42442,     0.42543,     0.42643,     0.42743,     0.42843,     0.42943,     0.43043,     0.43143,\n",
              "           0.43243,     0.43343,     0.43443,     0.43544,     0.43644,     0.43744,     0.43844,     0.43944,     0.44044,     0.44144,     0.44244,     0.44344,     0.44444,     0.44545,     0.44645,     0.44745,     0.44845,     0.44945,     0.45045,     0.45145,     0.45245,     0.45345,     0.45445,     0.45546,\n",
              "           0.45646,     0.45746,     0.45846,     0.45946,     0.46046,     0.46146,     0.46246,     0.46346,     0.46446,     0.46547,     0.46647,     0.46747,     0.46847,     0.46947,     0.47047,     0.47147,     0.47247,     0.47347,     0.47447,     0.47548,     0.47648,     0.47748,     0.47848,     0.47948,\n",
              "           0.48048,     0.48148,     0.48248,     0.48348,     0.48448,     0.48549,     0.48649,     0.48749,     0.48849,     0.48949,     0.49049,     0.49149,     0.49249,     0.49349,     0.49449,      0.4955,      0.4965,      0.4975,      0.4985,      0.4995,      0.5005,      0.5015,      0.5025,      0.5035,\n",
              "            0.5045,     0.50551,     0.50651,     0.50751,     0.50851,     0.50951,     0.51051,     0.51151,     0.51251,     0.51351,     0.51451,     0.51552,     0.51652,     0.51752,     0.51852,     0.51952,     0.52052,     0.52152,     0.52252,     0.52352,     0.52452,     0.52553,     0.52653,     0.52753,\n",
              "           0.52853,     0.52953,     0.53053,     0.53153,     0.53253,     0.53353,     0.53453,     0.53554,     0.53654,     0.53754,     0.53854,     0.53954,     0.54054,     0.54154,     0.54254,     0.54354,     0.54454,     0.54555,     0.54655,     0.54755,     0.54855,     0.54955,     0.55055,     0.55155,\n",
              "           0.55255,     0.55355,     0.55455,     0.55556,     0.55656,     0.55756,     0.55856,     0.55956,     0.56056,     0.56156,     0.56256,     0.56356,     0.56456,     0.56557,     0.56657,     0.56757,     0.56857,     0.56957,     0.57057,     0.57157,     0.57257,     0.57357,     0.57457,     0.57558,\n",
              "           0.57658,     0.57758,     0.57858,     0.57958,     0.58058,     0.58158,     0.58258,     0.58358,     0.58458,     0.58559,     0.58659,     0.58759,     0.58859,     0.58959,     0.59059,     0.59159,     0.59259,     0.59359,     0.59459,      0.5956,      0.5966,      0.5976,      0.5986,      0.5996,\n",
              "            0.6006,      0.6016,      0.6026,      0.6036,      0.6046,     0.60561,     0.60661,     0.60761,     0.60861,     0.60961,     0.61061,     0.61161,     0.61261,     0.61361,     0.61461,     0.61562,     0.61662,     0.61762,     0.61862,     0.61962,     0.62062,     0.62162,     0.62262,     0.62362,\n",
              "           0.62462,     0.62563,     0.62663,     0.62763,     0.62863,     0.62963,     0.63063,     0.63163,     0.63263,     0.63363,     0.63463,     0.63564,     0.63664,     0.63764,     0.63864,     0.63964,     0.64064,     0.64164,     0.64264,     0.64364,     0.64464,     0.64565,     0.64665,     0.64765,\n",
              "           0.64865,     0.64965,     0.65065,     0.65165,     0.65265,     0.65365,     0.65465,     0.65566,     0.65666,     0.65766,     0.65866,     0.65966,     0.66066,     0.66166,     0.66266,     0.66366,     0.66466,     0.66567,     0.66667,     0.66767,     0.66867,     0.66967,     0.67067,     0.67167,\n",
              "           0.67267,     0.67367,     0.67467,     0.67568,     0.67668,     0.67768,     0.67868,     0.67968,     0.68068,     0.68168,     0.68268,     0.68368,     0.68468,     0.68569,     0.68669,     0.68769,     0.68869,     0.68969,     0.69069,     0.69169,     0.69269,     0.69369,     0.69469,      0.6957,\n",
              "            0.6967,      0.6977,      0.6987,      0.6997,      0.7007,      0.7017,      0.7027,      0.7037,      0.7047,     0.70571,     0.70671,     0.70771,     0.70871,     0.70971,     0.71071,     0.71171,     0.71271,     0.71371,     0.71471,     0.71572,     0.71672,     0.71772,     0.71872,     0.71972,\n",
              "           0.72072,     0.72172,     0.72272,     0.72372,     0.72472,     0.72573,     0.72673,     0.72773,     0.72873,     0.72973,     0.73073,     0.73173,     0.73273,     0.73373,     0.73473,     0.73574,     0.73674,     0.73774,     0.73874,     0.73974,     0.74074,     0.74174,     0.74274,     0.74374,\n",
              "           0.74474,     0.74575,     0.74675,     0.74775,     0.74875,     0.74975,     0.75075,     0.75175,     0.75275,     0.75375,     0.75475,     0.75576,     0.75676,     0.75776,     0.75876,     0.75976,     0.76076,     0.76176,     0.76276,     0.76376,     0.76476,     0.76577,     0.76677,     0.76777,\n",
              "           0.76877,     0.76977,     0.77077,     0.77177,     0.77277,     0.77377,     0.77477,     0.77578,     0.77678,     0.77778,     0.77878,     0.77978,     0.78078,     0.78178,     0.78278,     0.78378,     0.78478,     0.78579,     0.78679,     0.78779,     0.78879,     0.78979,     0.79079,     0.79179,\n",
              "           0.79279,     0.79379,     0.79479,      0.7958,      0.7968,      0.7978,      0.7988,      0.7998,      0.8008,      0.8018,      0.8028,      0.8038,      0.8048,     0.80581,     0.80681,     0.80781,     0.80881,     0.80981,     0.81081,     0.81181,     0.81281,     0.81381,     0.81481,     0.81582,\n",
              "           0.81682,     0.81782,     0.81882,     0.81982,     0.82082,     0.82182,     0.82282,     0.82382,     0.82482,     0.82583,     0.82683,     0.82783,     0.82883,     0.82983,     0.83083,     0.83183,     0.83283,     0.83383,     0.83483,     0.83584,     0.83684,     0.83784,     0.83884,     0.83984,\n",
              "           0.84084,     0.84184,     0.84284,     0.84384,     0.84484,     0.84585,     0.84685,     0.84785,     0.84885,     0.84985,     0.85085,     0.85185,     0.85285,     0.85385,     0.85485,     0.85586,     0.85686,     0.85786,     0.85886,     0.85986,     0.86086,     0.86186,     0.86286,     0.86386,\n",
              "           0.86486,     0.86587,     0.86687,     0.86787,     0.86887,     0.86987,     0.87087,     0.87187,     0.87287,     0.87387,     0.87487,     0.87588,     0.87688,     0.87788,     0.87888,     0.87988,     0.88088,     0.88188,     0.88288,     0.88388,     0.88488,     0.88589,     0.88689,     0.88789,\n",
              "           0.88889,     0.88989,     0.89089,     0.89189,     0.89289,     0.89389,     0.89489,      0.8959,      0.8969,      0.8979,      0.8989,      0.8999,      0.9009,      0.9019,      0.9029,      0.9039,      0.9049,     0.90591,     0.90691,     0.90791,     0.90891,     0.90991,     0.91091,     0.91191,\n",
              "           0.91291,     0.91391,     0.91491,     0.91592,     0.91692,     0.91792,     0.91892,     0.91992,     0.92092,     0.92192,     0.92292,     0.92392,     0.92492,     0.92593,     0.92693,     0.92793,     0.92893,     0.92993,     0.93093,     0.93193,     0.93293,     0.93393,     0.93493,     0.93594,\n",
              "           0.93694,     0.93794,     0.93894,     0.93994,     0.94094,     0.94194,     0.94294,     0.94394,     0.94494,     0.94595,     0.94695,     0.94795,     0.94895,     0.94995,     0.95095,     0.95195,     0.95295,     0.95395,     0.95495,     0.95596,     0.95696,     0.95796,     0.95896,     0.95996,\n",
              "           0.96096,     0.96196,     0.96296,     0.96396,     0.96496,     0.96597,     0.96697,     0.96797,     0.96897,     0.96997,     0.97097,     0.97197,     0.97297,     0.97397,     0.97497,     0.97598,     0.97698,     0.97798,     0.97898,     0.97998,     0.98098,     0.98198,     0.98298,     0.98398,\n",
              "           0.98498,     0.98599,     0.98699,     0.98799,     0.98899,     0.98999,     0.99099,     0.99199,     0.99299,     0.99399,     0.99499,       0.996,       0.997,       0.998,       0.999,           1]), array([[          1,           1,           1,           1,           1,           1,           1,           1,           1,           1,           1,           1,           1,           1,           1,           1,           1,           1,           1,           1,           1,           1,           1,\n",
              "                  1,           1,           1,           1,           1,           1,           1,           1,           1,           1,           1,           1,           1,           1,           1,           1,           1,           1,           1,           1,           1,           1,           1,\n",
              "                  1,           1,           1,           1,           1,           1,           1,           1,           1,           1,           1,           1,           1,           1,           1,           1,           1,           1,           1,           1,           1,           1,           1,\n",
              "            0.98969,     0.98969,     0.98969,     0.98969,     0.98969,     0.98969,     0.98969,     0.98969,     0.98969,     0.98969,     0.98969,     0.98969,     0.98969,     0.98969,     0.98969,     0.98969,     0.98969,     0.98969,     0.98969,     0.98969,     0.98969,     0.98969,     0.98969,\n",
              "            0.98969,     0.98969,     0.98969,     0.98969,     0.98969,     0.98969,     0.98969,     0.98969,     0.98969,     0.98969,     0.98969,     0.98969,     0.98969,     0.98969,     0.98969,     0.98969,     0.98969,     0.98969,     0.98969,     0.98969,     0.98969,     0.98969,     0.98969,\n",
              "            0.98969,     0.98969,     0.98969,     0.98969,     0.98969,     0.98969,     0.98969,     0.98969,     0.98969,     0.98969,     0.98969,     0.98969,     0.98969,     0.98969,     0.98969,     0.98969,     0.98969,     0.98969,     0.98969,     0.98969,     0.98969,     0.98969,     0.98969,\n",
              "            0.98969,     0.98969,     0.98969,     0.98969,     0.98969,     0.98969,     0.98969,     0.98969,     0.98969,     0.98969,     0.98969,     0.98969,     0.98969,     0.98969,     0.98969,     0.98969,     0.98969,     0.98969,     0.98969,     0.98969,     0.98969,     0.98969,     0.98969,\n",
              "            0.98969,     0.98969,     0.98969,     0.98969,     0.98969,     0.98969,     0.98969,     0.98969,     0.98969,     0.98969,     0.98969,     0.98969,     0.98969,     0.98969,     0.98969,     0.98969,     0.98969,     0.98969,     0.98969,     0.98969,     0.98969,     0.98969,     0.98969,\n",
              "            0.98969,     0.98969,     0.98969,     0.98969,     0.98969,     0.98969,     0.98969,     0.98969,     0.98969,     0.98969,     0.98969,     0.98969,     0.98969,     0.98969,     0.98969,     0.98969,     0.98969,     0.98969,     0.98969,     0.98969,     0.98969,     0.98969,     0.98969,\n",
              "            0.98969,     0.98969,     0.98969,     0.98969,     0.98969,     0.98969,     0.98969,     0.98969,     0.98969,     0.98969,     0.98969,     0.98969,     0.98969,     0.98969,     0.98969,     0.98969,     0.98969,     0.98969,     0.98969,     0.98969,     0.98969,     0.98969,     0.98969,\n",
              "            0.98969,     0.98969,     0.98969,     0.98969,     0.98969,     0.98969,     0.98969,     0.98969,     0.98969,     0.98969,     0.98969,     0.98969,     0.98969,     0.98969,     0.98969,     0.98969,     0.98969,     0.98969,     0.98969,     0.98969,     0.98969,     0.98969,     0.98969,\n",
              "            0.98969,     0.98969,     0.98969,     0.98969,     0.98969,     0.98969,     0.98969,     0.98969,     0.98969,     0.98969,     0.98969,     0.98969,     0.98969,     0.98969,     0.98969,     0.98969,     0.98969,     0.98969,     0.98969,     0.98969,     0.98969,     0.98969,     0.98969,\n",
              "            0.98969,     0.98969,     0.98969,     0.98969,     0.98969,     0.98969,     0.98969,     0.98969,     0.98969,     0.98969,     0.98969,     0.98969,     0.98969,     0.98969,     0.98969,     0.98969,     0.98969,     0.98969,     0.98969,     0.98969,     0.98969,     0.98969,     0.98969,\n",
              "            0.98969,     0.98969,     0.98969,     0.98969,     0.98969,     0.98969,     0.98969,     0.98969,     0.98969,     0.98969,     0.98969,     0.98969,     0.98969,     0.98969,     0.98969,     0.98969,     0.98969,     0.98969,     0.98969,     0.98969,     0.98969,     0.98969,     0.98969,\n",
              "            0.98969,     0.98969,     0.98969,     0.98969,     0.98969,     0.98969,     0.98969,     0.98969,     0.98969,     0.98969,     0.98969,     0.98969,     0.98969,     0.98969,     0.98969,     0.98969,     0.98969,     0.98969,     0.98969,     0.98969,     0.98969,     0.98969,     0.98969,\n",
              "            0.98969,     0.98969,     0.98969,     0.98969,     0.98969,     0.98969,     0.98969,     0.98969,     0.98969,     0.98969,     0.98969,     0.98969,     0.98969,     0.98969,     0.98969,     0.98969,     0.98969,     0.98969,     0.98969,     0.98969,     0.98969,     0.98969,     0.98969,\n",
              "            0.98969,     0.98969,     0.98969,     0.98969,     0.98969,     0.98969,     0.98969,     0.98969,     0.98969,     0.98969,     0.98969,     0.98969,     0.98969,     0.98969,     0.98969,     0.98969,     0.98969,     0.98969,     0.98969,     0.98969,     0.98969,     0.98969,     0.98969,\n",
              "            0.98969,     0.98969,     0.98969,     0.98969,     0.98969,     0.98969,     0.98969,     0.98969,     0.98969,     0.98969,     0.98969,     0.98969,     0.98969,     0.98969,     0.98969,     0.98969,     0.98969,     0.98969,     0.98969,     0.98969,     0.98969,     0.98969,     0.98969,\n",
              "            0.98969,     0.98969,     0.98969,     0.98969,     0.98969,     0.98969,     0.98969,     0.98969,     0.98969,     0.98969,     0.98969,     0.98969,     0.98969,     0.98969,     0.98969,     0.98969,     0.98969,     0.98969,     0.98969,     0.98969,     0.98969,     0.98969,     0.98969,\n",
              "            0.98969,     0.98969,     0.98969,     0.98969,     0.98969,     0.98969,     0.98969,     0.98969,     0.98969,     0.98969,     0.98969,     0.98969,     0.98969,     0.98969,     0.98969,     0.98969,     0.98969,     0.98969,     0.98969,     0.98969,     0.98969,     0.98969,     0.98969,\n",
              "            0.98969,     0.98969,     0.98969,     0.98969,     0.98969,     0.98969,     0.98969,     0.98969,     0.98969,     0.98969,     0.98969,     0.98969,     0.98969,     0.98969,     0.98969,     0.98969,     0.98969,     0.98969,     0.98969,     0.98969,     0.98969,     0.98969,     0.98969,\n",
              "            0.98969,     0.98969,     0.98969,     0.98969,     0.98969,     0.98969,     0.98969,     0.98969,     0.98969,     0.98969,     0.98969,     0.98969,     0.98969,     0.98969,     0.98969,     0.98969,     0.98969,     0.98969,     0.98969,     0.98969,     0.98969,     0.98969,     0.98969,\n",
              "            0.98969,     0.98969,     0.98969,     0.98969,     0.98969,     0.98969,     0.98969,     0.98969,     0.98969,     0.98969,     0.98969,     0.98969,     0.98969,     0.98969,     0.98969,     0.98969,     0.98969,     0.98969,     0.98969,     0.98969,     0.98969,     0.98969,     0.98969,\n",
              "            0.98969,     0.98969,     0.98969,     0.98969,     0.98969,     0.98969,     0.98969,     0.98969,     0.98969,     0.98969,     0.98969,     0.98969,     0.98969,     0.98969,     0.98969,     0.98969,     0.98969,     0.98969,     0.98969,     0.98969,     0.98969,     0.98969,     0.98969,\n",
              "            0.98969,     0.98969,     0.98969,     0.98969,     0.98969,     0.98969,     0.98969,     0.98969,     0.98969,     0.98969,     0.98969,     0.98969,     0.98969,     0.98969,     0.98969,     0.98969,     0.98969,     0.98969,     0.98969,     0.98969,     0.98969,     0.98969,     0.98969,\n",
              "            0.98969,     0.98969,     0.98969,     0.98969,     0.98969,     0.98969,     0.98969,     0.98969,     0.98969,     0.98969,     0.98969,     0.98969,     0.98969,     0.98969,     0.98969,     0.98969,     0.98969,     0.98969,     0.98969,     0.98969,     0.98969,     0.98969,     0.98969,\n",
              "            0.98969,     0.98969,     0.98969,     0.98969,     0.98969,     0.98969,     0.98969,     0.98969,     0.98969,     0.98969,     0.98969,     0.98969,     0.98969,     0.98969,     0.98969,     0.98969,     0.98969,     0.98969,     0.98969,     0.98969,     0.98969,     0.98969,     0.98969,\n",
              "            0.98969,     0.98969,     0.98969,     0.98969,     0.98969,     0.98969,     0.98969,     0.98969,     0.98969,     0.98969,     0.98969,     0.98969,     0.98969,     0.98969,     0.98969,     0.98969,     0.98969,     0.98969,     0.98969,     0.98969,     0.98969,     0.98969,     0.98969,\n",
              "            0.98969,     0.98969,     0.98969,     0.98969,     0.98969,     0.98969,     0.98969,     0.98969,     0.98969,     0.98969,     0.98969,     0.98969,     0.98969,     0.98969,     0.98969,     0.98969,     0.98969,     0.98969,     0.98148,     0.98148,     0.98148,     0.98148,     0.98148,\n",
              "            0.98148,     0.98148,     0.98148,     0.98148,     0.98148,     0.98148,     0.98148,     0.98148,     0.98148,     0.98148,     0.98148,     0.98148,     0.98148,     0.98148,     0.98148,     0.98148,     0.98148,     0.98148,     0.98148,     0.98148,     0.98148,     0.98148,     0.98148,\n",
              "            0.98148,     0.98148,     0.98148,     0.98148,     0.98148,     0.98148,     0.98148,     0.98148,     0.98148,     0.98148,     0.98148,     0.98148,     0.98148,     0.98148,     0.98148,     0.98148,     0.98148,     0.98148,     0.98148,     0.98148,     0.98148,     0.98148,     0.98148,\n",
              "            0.98148,     0.98148,     0.98148,     0.98148,     0.98148,     0.98148,     0.98148,     0.98148,     0.98148,     0.98148,     0.98148,     0.98148,     0.98148,     0.98148,     0.98148,     0.98148,     0.98148,     0.98148,     0.97414,     0.97414,     0.97414,     0.97414,     0.97414,\n",
              "            0.97414,     0.97414,     0.97414,     0.97414,     0.97414,     0.97414,     0.97414,     0.97414,     0.97414,     0.97414,     0.97414,     0.97414,     0.97414,     0.97414,     0.97414,     0.97414,     0.97414,     0.97414,     0.97414,     0.97414,     0.97414,     0.97414,     0.97414,\n",
              "            0.97414,     0.97414,     0.97414,     0.97414,     0.97414,     0.97414,     0.97414,     0.97414,     0.97414,     0.97414,     0.97414,     0.97414,     0.97414,     0.97414,     0.97414,     0.97414,     0.97414,     0.97414,     0.97414,     0.97414,     0.95868,     0.95868,     0.95868,\n",
              "            0.95868,     0.95868,     0.95868,     0.95868,     0.95868,     0.95868,     0.95868,     0.95868,     0.95868,     0.95868,     0.95868,     0.95868,     0.95868,     0.95868,     0.95868,     0.95868,     0.95868,     0.95868,       0.952,       0.952,       0.952,       0.952,       0.952,\n",
              "              0.952,       0.952,       0.952,       0.952,       0.952,       0.952,       0.952,       0.952,       0.952,       0.952,       0.952,       0.952,       0.952,       0.952,       0.952,     0.94574,     0.94574,     0.94574,     0.94574,     0.94574,     0.94574,     0.94574,     0.94574,\n",
              "            0.94574,     0.94574,     0.94574,     0.94574,     0.94574,     0.94574,     0.94574,     0.94574,     0.94574,     0.94574,     0.94574,     0.94574,     0.94574,     0.93233,     0.93233,     0.93233,     0.93233,     0.93233,     0.93233,     0.93233,     0.93233,     0.93233,     0.93233,\n",
              "            0.93233,     0.93233,     0.93233,     0.93233,     0.92593,     0.92593,     0.92593,     0.92593,     0.92593,     0.92593,     0.92593,     0.91608,     0.91608,     0.91608,     0.91608,     0.91608,     0.91608,     0.91608,     0.91608,     0.91608,     0.91608,     0.91608,     0.91608,\n",
              "            0.91608,     0.91608,     0.91608,     0.91608,     0.91608,     0.91608,     0.91608,     0.91608,     0.91608,     0.91608,     0.91608,     0.91608,     0.91608,     0.91608,     0.91608,     0.91608,     0.91608,     0.91608,     0.91608,     0.91608,     0.91608,     0.91608,     0.91608,\n",
              "            0.91608,     0.91608,     0.91608,     0.91608,     0.91608,     0.91608,     0.90411,     0.90411,     0.90411,     0.90411,     0.90411,     0.90411,     0.90411,     0.85806,     0.85806,     0.85806,     0.85806,     0.85806,     0.85806,     0.85806,      0.8535,      0.8535,      0.8535,\n",
              "             0.8535,      0.8535,      0.8535,      0.8535,     0.80838,     0.80838,     0.80838,     0.80838,     0.80838,     0.80838,     0.80838,     0.79532,     0.79532,     0.79532,     0.79532,     0.79532,     0.79532,     0.66829,     0.66829,     0.66829,     0.66829,     0.66829,     0.66829,\n",
              "            0.66829,     0.51493,     0.51493,     0.51493,     0.51493,     0.51493,     0.51493,     0.51493,     0.35491,     0.34751,     0.34012,     0.33272,     0.32533,     0.31794,     0.31054,     0.30315,     0.29576,     0.28836,     0.28097,     0.27357,     0.26618,     0.25879,     0.25139,\n",
              "              0.244,      0.2366,     0.22921,     0.22182,     0.21442,     0.20703,     0.19963,     0.19224,     0.18485,     0.17745,     0.17006,     0.16267,     0.15527,     0.14788,     0.14048,     0.13309,      0.1257,      0.1183,     0.11091,     0.10351,     0.09612,    0.088727,    0.081333,\n",
              "           0.073939,    0.066545,    0.059151,    0.051757,    0.044363,    0.036969,    0.029576,    0.022182,    0.014788,   0.0073939,           0]]), 'Recall', 'Precision'], [array([          0,    0.001001,    0.002002,    0.003003,    0.004004,    0.005005,    0.006006,    0.007007,    0.008008,    0.009009,     0.01001,    0.011011,    0.012012,    0.013013,    0.014014,    0.015015,    0.016016,    0.017017,    0.018018,    0.019019,     0.02002,    0.021021,    0.022022,    0.023023,\n",
              "          0.024024,    0.025025,    0.026026,    0.027027,    0.028028,    0.029029,     0.03003,    0.031031,    0.032032,    0.033033,    0.034034,    0.035035,    0.036036,    0.037037,    0.038038,    0.039039,     0.04004,    0.041041,    0.042042,    0.043043,    0.044044,    0.045045,    0.046046,    0.047047,\n",
              "          0.048048,    0.049049,     0.05005,    0.051051,    0.052052,    0.053053,    0.054054,    0.055055,    0.056056,    0.057057,    0.058058,    0.059059,     0.06006,    0.061061,    0.062062,    0.063063,    0.064064,    0.065065,    0.066066,    0.067067,    0.068068,    0.069069,     0.07007,    0.071071,\n",
              "          0.072072,    0.073073,    0.074074,    0.075075,    0.076076,    0.077077,    0.078078,    0.079079,     0.08008,    0.081081,    0.082082,    0.083083,    0.084084,    0.085085,    0.086086,    0.087087,    0.088088,    0.089089,     0.09009,    0.091091,    0.092092,    0.093093,    0.094094,    0.095095,\n",
              "          0.096096,    0.097097,    0.098098,    0.099099,      0.1001,      0.1011,      0.1021,      0.1031,      0.1041,     0.10511,     0.10611,     0.10711,     0.10811,     0.10911,     0.11011,     0.11111,     0.11211,     0.11311,     0.11411,     0.11512,     0.11612,     0.11712,     0.11812,     0.11912,\n",
              "           0.12012,     0.12112,     0.12212,     0.12312,     0.12412,     0.12513,     0.12613,     0.12713,     0.12813,     0.12913,     0.13013,     0.13113,     0.13213,     0.13313,     0.13413,     0.13514,     0.13614,     0.13714,     0.13814,     0.13914,     0.14014,     0.14114,     0.14214,     0.14314,\n",
              "           0.14414,     0.14515,     0.14615,     0.14715,     0.14815,     0.14915,     0.15015,     0.15115,     0.15215,     0.15315,     0.15415,     0.15516,     0.15616,     0.15716,     0.15816,     0.15916,     0.16016,     0.16116,     0.16216,     0.16316,     0.16416,     0.16517,     0.16617,     0.16717,\n",
              "           0.16817,     0.16917,     0.17017,     0.17117,     0.17217,     0.17317,     0.17417,     0.17518,     0.17618,     0.17718,     0.17818,     0.17918,     0.18018,     0.18118,     0.18218,     0.18318,     0.18418,     0.18519,     0.18619,     0.18719,     0.18819,     0.18919,     0.19019,     0.19119,\n",
              "           0.19219,     0.19319,     0.19419,      0.1952,      0.1962,      0.1972,      0.1982,      0.1992,      0.2002,      0.2012,      0.2022,      0.2032,      0.2042,     0.20521,     0.20621,     0.20721,     0.20821,     0.20921,     0.21021,     0.21121,     0.21221,     0.21321,     0.21421,     0.21522,\n",
              "           0.21622,     0.21722,     0.21822,     0.21922,     0.22022,     0.22122,     0.22222,     0.22322,     0.22422,     0.22523,     0.22623,     0.22723,     0.22823,     0.22923,     0.23023,     0.23123,     0.23223,     0.23323,     0.23423,     0.23524,     0.23624,     0.23724,     0.23824,     0.23924,\n",
              "           0.24024,     0.24124,     0.24224,     0.24324,     0.24424,     0.24525,     0.24625,     0.24725,     0.24825,     0.24925,     0.25025,     0.25125,     0.25225,     0.25325,     0.25425,     0.25526,     0.25626,     0.25726,     0.25826,     0.25926,     0.26026,     0.26126,     0.26226,     0.26326,\n",
              "           0.26426,     0.26527,     0.26627,     0.26727,     0.26827,     0.26927,     0.27027,     0.27127,     0.27227,     0.27327,     0.27427,     0.27528,     0.27628,     0.27728,     0.27828,     0.27928,     0.28028,     0.28128,     0.28228,     0.28328,     0.28428,     0.28529,     0.28629,     0.28729,\n",
              "           0.28829,     0.28929,     0.29029,     0.29129,     0.29229,     0.29329,     0.29429,      0.2953,      0.2963,      0.2973,      0.2983,      0.2993,      0.3003,      0.3013,      0.3023,      0.3033,      0.3043,     0.30531,     0.30631,     0.30731,     0.30831,     0.30931,     0.31031,     0.31131,\n",
              "           0.31231,     0.31331,     0.31431,     0.31532,     0.31632,     0.31732,     0.31832,     0.31932,     0.32032,     0.32132,     0.32232,     0.32332,     0.32432,     0.32533,     0.32633,     0.32733,     0.32833,     0.32933,     0.33033,     0.33133,     0.33233,     0.33333,     0.33433,     0.33534,\n",
              "           0.33634,     0.33734,     0.33834,     0.33934,     0.34034,     0.34134,     0.34234,     0.34334,     0.34434,     0.34535,     0.34635,     0.34735,     0.34835,     0.34935,     0.35035,     0.35135,     0.35235,     0.35335,     0.35435,     0.35536,     0.35636,     0.35736,     0.35836,     0.35936,\n",
              "           0.36036,     0.36136,     0.36236,     0.36336,     0.36436,     0.36537,     0.36637,     0.36737,     0.36837,     0.36937,     0.37037,     0.37137,     0.37237,     0.37337,     0.37437,     0.37538,     0.37638,     0.37738,     0.37838,     0.37938,     0.38038,     0.38138,     0.38238,     0.38338,\n",
              "           0.38438,     0.38539,     0.38639,     0.38739,     0.38839,     0.38939,     0.39039,     0.39139,     0.39239,     0.39339,     0.39439,      0.3954,      0.3964,      0.3974,      0.3984,      0.3994,      0.4004,      0.4014,      0.4024,      0.4034,      0.4044,     0.40541,     0.40641,     0.40741,\n",
              "           0.40841,     0.40941,     0.41041,     0.41141,     0.41241,     0.41341,     0.41441,     0.41542,     0.41642,     0.41742,     0.41842,     0.41942,     0.42042,     0.42142,     0.42242,     0.42342,     0.42442,     0.42543,     0.42643,     0.42743,     0.42843,     0.42943,     0.43043,     0.43143,\n",
              "           0.43243,     0.43343,     0.43443,     0.43544,     0.43644,     0.43744,     0.43844,     0.43944,     0.44044,     0.44144,     0.44244,     0.44344,     0.44444,     0.44545,     0.44645,     0.44745,     0.44845,     0.44945,     0.45045,     0.45145,     0.45245,     0.45345,     0.45445,     0.45546,\n",
              "           0.45646,     0.45746,     0.45846,     0.45946,     0.46046,     0.46146,     0.46246,     0.46346,     0.46446,     0.46547,     0.46647,     0.46747,     0.46847,     0.46947,     0.47047,     0.47147,     0.47247,     0.47347,     0.47447,     0.47548,     0.47648,     0.47748,     0.47848,     0.47948,\n",
              "           0.48048,     0.48148,     0.48248,     0.48348,     0.48448,     0.48549,     0.48649,     0.48749,     0.48849,     0.48949,     0.49049,     0.49149,     0.49249,     0.49349,     0.49449,      0.4955,      0.4965,      0.4975,      0.4985,      0.4995,      0.5005,      0.5015,      0.5025,      0.5035,\n",
              "            0.5045,     0.50551,     0.50651,     0.50751,     0.50851,     0.50951,     0.51051,     0.51151,     0.51251,     0.51351,     0.51451,     0.51552,     0.51652,     0.51752,     0.51852,     0.51952,     0.52052,     0.52152,     0.52252,     0.52352,     0.52452,     0.52553,     0.52653,     0.52753,\n",
              "           0.52853,     0.52953,     0.53053,     0.53153,     0.53253,     0.53353,     0.53453,     0.53554,     0.53654,     0.53754,     0.53854,     0.53954,     0.54054,     0.54154,     0.54254,     0.54354,     0.54454,     0.54555,     0.54655,     0.54755,     0.54855,     0.54955,     0.55055,     0.55155,\n",
              "           0.55255,     0.55355,     0.55455,     0.55556,     0.55656,     0.55756,     0.55856,     0.55956,     0.56056,     0.56156,     0.56256,     0.56356,     0.56456,     0.56557,     0.56657,     0.56757,     0.56857,     0.56957,     0.57057,     0.57157,     0.57257,     0.57357,     0.57457,     0.57558,\n",
              "           0.57658,     0.57758,     0.57858,     0.57958,     0.58058,     0.58158,     0.58258,     0.58358,     0.58458,     0.58559,     0.58659,     0.58759,     0.58859,     0.58959,     0.59059,     0.59159,     0.59259,     0.59359,     0.59459,      0.5956,      0.5966,      0.5976,      0.5986,      0.5996,\n",
              "            0.6006,      0.6016,      0.6026,      0.6036,      0.6046,     0.60561,     0.60661,     0.60761,     0.60861,     0.60961,     0.61061,     0.61161,     0.61261,     0.61361,     0.61461,     0.61562,     0.61662,     0.61762,     0.61862,     0.61962,     0.62062,     0.62162,     0.62262,     0.62362,\n",
              "           0.62462,     0.62563,     0.62663,     0.62763,     0.62863,     0.62963,     0.63063,     0.63163,     0.63263,     0.63363,     0.63463,     0.63564,     0.63664,     0.63764,     0.63864,     0.63964,     0.64064,     0.64164,     0.64264,     0.64364,     0.64464,     0.64565,     0.64665,     0.64765,\n",
              "           0.64865,     0.64965,     0.65065,     0.65165,     0.65265,     0.65365,     0.65465,     0.65566,     0.65666,     0.65766,     0.65866,     0.65966,     0.66066,     0.66166,     0.66266,     0.66366,     0.66466,     0.66567,     0.66667,     0.66767,     0.66867,     0.66967,     0.67067,     0.67167,\n",
              "           0.67267,     0.67367,     0.67467,     0.67568,     0.67668,     0.67768,     0.67868,     0.67968,     0.68068,     0.68168,     0.68268,     0.68368,     0.68468,     0.68569,     0.68669,     0.68769,     0.68869,     0.68969,     0.69069,     0.69169,     0.69269,     0.69369,     0.69469,      0.6957,\n",
              "            0.6967,      0.6977,      0.6987,      0.6997,      0.7007,      0.7017,      0.7027,      0.7037,      0.7047,     0.70571,     0.70671,     0.70771,     0.70871,     0.70971,     0.71071,     0.71171,     0.71271,     0.71371,     0.71471,     0.71572,     0.71672,     0.71772,     0.71872,     0.71972,\n",
              "           0.72072,     0.72172,     0.72272,     0.72372,     0.72472,     0.72573,     0.72673,     0.72773,     0.72873,     0.72973,     0.73073,     0.73173,     0.73273,     0.73373,     0.73473,     0.73574,     0.73674,     0.73774,     0.73874,     0.73974,     0.74074,     0.74174,     0.74274,     0.74374,\n",
              "           0.74474,     0.74575,     0.74675,     0.74775,     0.74875,     0.74975,     0.75075,     0.75175,     0.75275,     0.75375,     0.75475,     0.75576,     0.75676,     0.75776,     0.75876,     0.75976,     0.76076,     0.76176,     0.76276,     0.76376,     0.76476,     0.76577,     0.76677,     0.76777,\n",
              "           0.76877,     0.76977,     0.77077,     0.77177,     0.77277,     0.77377,     0.77477,     0.77578,     0.77678,     0.77778,     0.77878,     0.77978,     0.78078,     0.78178,     0.78278,     0.78378,     0.78478,     0.78579,     0.78679,     0.78779,     0.78879,     0.78979,     0.79079,     0.79179,\n",
              "           0.79279,     0.79379,     0.79479,      0.7958,      0.7968,      0.7978,      0.7988,      0.7998,      0.8008,      0.8018,      0.8028,      0.8038,      0.8048,     0.80581,     0.80681,     0.80781,     0.80881,     0.80981,     0.81081,     0.81181,     0.81281,     0.81381,     0.81481,     0.81582,\n",
              "           0.81682,     0.81782,     0.81882,     0.81982,     0.82082,     0.82182,     0.82282,     0.82382,     0.82482,     0.82583,     0.82683,     0.82783,     0.82883,     0.82983,     0.83083,     0.83183,     0.83283,     0.83383,     0.83483,     0.83584,     0.83684,     0.83784,     0.83884,     0.83984,\n",
              "           0.84084,     0.84184,     0.84284,     0.84384,     0.84484,     0.84585,     0.84685,     0.84785,     0.84885,     0.84985,     0.85085,     0.85185,     0.85285,     0.85385,     0.85485,     0.85586,     0.85686,     0.85786,     0.85886,     0.85986,     0.86086,     0.86186,     0.86286,     0.86386,\n",
              "           0.86486,     0.86587,     0.86687,     0.86787,     0.86887,     0.86987,     0.87087,     0.87187,     0.87287,     0.87387,     0.87487,     0.87588,     0.87688,     0.87788,     0.87888,     0.87988,     0.88088,     0.88188,     0.88288,     0.88388,     0.88488,     0.88589,     0.88689,     0.88789,\n",
              "           0.88889,     0.88989,     0.89089,     0.89189,     0.89289,     0.89389,     0.89489,      0.8959,      0.8969,      0.8979,      0.8989,      0.8999,      0.9009,      0.9019,      0.9029,      0.9039,      0.9049,     0.90591,     0.90691,     0.90791,     0.90891,     0.90991,     0.91091,     0.91191,\n",
              "           0.91291,     0.91391,     0.91491,     0.91592,     0.91692,     0.91792,     0.91892,     0.91992,     0.92092,     0.92192,     0.92292,     0.92392,     0.92492,     0.92593,     0.92693,     0.92793,     0.92893,     0.92993,     0.93093,     0.93193,     0.93293,     0.93393,     0.93493,     0.93594,\n",
              "           0.93694,     0.93794,     0.93894,     0.93994,     0.94094,     0.94194,     0.94294,     0.94394,     0.94494,     0.94595,     0.94695,     0.94795,     0.94895,     0.94995,     0.95095,     0.95195,     0.95295,     0.95395,     0.95495,     0.95596,     0.95696,     0.95796,     0.95896,     0.95996,\n",
              "           0.96096,     0.96196,     0.96296,     0.96396,     0.96496,     0.96597,     0.96697,     0.96797,     0.96897,     0.96997,     0.97097,     0.97197,     0.97297,     0.97397,     0.97497,     0.97598,     0.97698,     0.97798,     0.97898,     0.97998,     0.98098,     0.98198,     0.98298,     0.98398,\n",
              "           0.98498,     0.98599,     0.98699,     0.98799,     0.98899,     0.98999,     0.99099,     0.99199,     0.99299,     0.99399,     0.99499,       0.996,       0.997,       0.998,       0.999,           1]), array([[     0.5188,      0.5188,     0.62297,     0.68461,     0.71768,     0.73706,     0.74983,     0.76415,     0.77534,     0.78552,     0.79102,      0.7926,      0.7989,     0.80081,     0.80169,     0.80309,     0.80836,     0.81193,     0.81532,     0.81664,     0.81989,      0.8246,      0.8312,\n",
              "            0.83565,     0.83752,     0.83934,     0.84108,     0.84313,     0.84584,     0.84941,     0.85172,     0.85502,      0.8569,     0.85947,     0.86045,     0.86001,     0.85957,     0.85914,      0.8587,     0.85826,     0.85782,     0.85738,     0.85747,     0.85819,     0.85892,     0.85964,\n",
              "            0.86029,     0.86091,     0.86152,     0.86214,     0.86269,     0.86304,     0.86338,     0.86372,     0.86407,     0.86441,     0.86475,     0.86509,     0.86475,     0.86179,     0.86197,     0.86214,     0.86232,      0.8625,     0.86267,     0.86285,     0.86302,      0.8632,     0.86337,\n",
              "            0.86355,     0.86373,      0.8639,     0.86408,     0.86425,     0.86443,     0.86495,     0.86581,     0.86668,     0.87047,     0.87176,     0.87298,     0.87325,     0.87352,     0.87379,     0.87406,     0.87433,      0.8746,     0.87487,     0.87514,     0.87541,     0.87568,     0.87633,\n",
              "            0.87736,     0.87838,     0.87885,     0.87909,     0.87932,     0.87956,      0.8798,     0.88003,     0.88027,      0.8805,     0.88074,     0.88097,     0.88121,     0.88144,     0.88168,     0.88193,     0.88218,     0.88243,     0.88267,     0.88292,     0.88317,     0.88342,     0.88367,\n",
              "            0.88391,     0.88416,     0.88441,     0.88531,     0.88651,     0.88736,     0.88714,     0.88692,      0.8867,     0.88648,     0.88626,     0.88603,     0.88581,     0.88559,     0.88537,     0.88515,     0.88493,      0.8847,     0.88448,     0.88426,     0.88404,     0.88382,     0.88658,\n",
              "            0.88642,     0.88626,      0.8861,     0.88594,     0.88578,     0.88562,     0.88546,      0.8853,     0.88514,     0.88498,     0.88482,     0.88466,     0.88451,     0.88435,     0.88419,     0.88403,     0.88387,     0.88371,     0.88355,     0.88339,     0.88323,     0.88307,     0.88349,\n",
              "            0.88579,      0.8868,     0.88774,     0.88867,     0.88898,      0.8891,     0.88922,     0.88935,     0.88947,     0.88959,     0.88971,     0.88983,     0.88995,     0.89007,     0.89019,     0.89031,     0.89043,     0.89055,     0.89067,      0.8908,     0.89092,     0.89104,     0.89116,\n",
              "            0.89128,      0.8914,     0.89152,     0.89164,     0.89176,     0.89188,       0.892,     0.89211,     0.89223,     0.89234,     0.89245,     0.89257,     0.89268,      0.8928,     0.89291,     0.89303,     0.89314,     0.89326,     0.89337,     0.89348,      0.8936,     0.89371,     0.89383,\n",
              "            0.89394,     0.89406,     0.89417,     0.89428,      0.8944,     0.89451,     0.89463,     0.89474,     0.89485,     0.89496,     0.89506,     0.89515,     0.89525,     0.89534,     0.89544,     0.89554,     0.89563,     0.89573,     0.89582,     0.89592,     0.89601,     0.89611,     0.89621,\n",
              "             0.8963,      0.8964,     0.89649,     0.89659,     0.89668,     0.89678,     0.89688,     0.89697,     0.89707,     0.89716,     0.89726,     0.89735,     0.89745,     0.89754,     0.89764,     0.89773,     0.89783,     0.89793,     0.89804,     0.89816,     0.89827,     0.89839,     0.89851,\n",
              "            0.89863,     0.89875,     0.89887,     0.89899,     0.89911,     0.89922,     0.89934,     0.89946,     0.89958,      0.8997,     0.89982,     0.89994,     0.90005,     0.90017,     0.90029,     0.90041,     0.90053,     0.90065,     0.90076,     0.90088,       0.901,     0.90115,     0.90132,\n",
              "            0.90148,     0.90164,     0.90181,     0.90197,     0.90213,      0.9023,     0.90246,     0.90262,     0.90278,     0.90295,     0.90311,     0.90327,     0.90344,      0.9036,     0.90376,     0.90392,     0.90409,     0.90423,     0.90438,     0.90452,     0.90467,     0.90481,     0.90496,\n",
              "             0.9051,     0.90525,     0.90539,     0.90554,     0.90568,     0.90582,     0.90597,     0.90611,     0.90626,      0.9064,     0.90655,     0.90669,     0.90683,     0.90698,     0.90712,     0.90713,     0.90686,      0.9066,     0.90634,     0.90608,     0.90582,     0.90556,      0.9053,\n",
              "            0.90504,     0.90478,     0.90452,     0.90426,       0.904,     0.90374,     0.90347,     0.90374,     0.90407,      0.9044,     0.90472,     0.90505,     0.90537,      0.9057,     0.90603,     0.90635,     0.90662,     0.90678,     0.90694,      0.9071,     0.90726,     0.90742,     0.90758,\n",
              "            0.90774,      0.9079,     0.90806,     0.90822,     0.90838,     0.90854,      0.9087,     0.90886,     0.90901,     0.90917,     0.90933,     0.90949,     0.90965,     0.90963,     0.90946,     0.90929,     0.90912,     0.90895,     0.90878,     0.90861,     0.90845,     0.90828,     0.90811,\n",
              "            0.90794,     0.90777,      0.9076,     0.90743,     0.90726,     0.90709,     0.90692,     0.90675,     0.90658,     0.90641,     0.90624,     0.90607,      0.9059,     0.90575,     0.90561,     0.90546,     0.90531,     0.90516,     0.90502,     0.90487,     0.90472,     0.90457,     0.90443,\n",
              "            0.90428,     0.90413,     0.90398,     0.90383,     0.90369,     0.90354,     0.90339,     0.90324,     0.90309,     0.90295,      0.9028,     0.90265,      0.9025,     0.90235,     0.90221,     0.90198,     0.90156,     0.90114,     0.90072,      0.9003,     0.89988,     0.89946,     0.89904,\n",
              "            0.89862,     0.89822,     0.89804,     0.89785,     0.89766,     0.89747,     0.89728,     0.89709,      0.8969,     0.89671,     0.89652,     0.89633,     0.89615,     0.89596,     0.89577,     0.89558,     0.89539,      0.8952,     0.89501,     0.89482,     0.89463,     0.89444,      0.8943,\n",
              "            0.89419,     0.89407,     0.89396,     0.89385,     0.89374,     0.89362,     0.89351,      0.8934,     0.89329,     0.89317,     0.89306,     0.89295,     0.89284,     0.89272,     0.89261,      0.8925,     0.89239,     0.89227,     0.89216,     0.89205,     0.89194,     0.89182,     0.89171,\n",
              "             0.8916,     0.89149,     0.89137,     0.89126,     0.89115,     0.89104,     0.89092,     0.89081,      0.8907,     0.89058,     0.89047,      0.8904,     0.89032,     0.89025,     0.89018,     0.89011,     0.89004,     0.88997,     0.88989,     0.88982,     0.88975,     0.88968,     0.88961,\n",
              "            0.88954,     0.88946,     0.88939,     0.88932,     0.88925,     0.88918,      0.8891,     0.88903,     0.88896,     0.88889,     0.88882,     0.88875,     0.88867,      0.8886,     0.88853,     0.88846,     0.88839,     0.88831,     0.88824,     0.88817,      0.8881,     0.88803,     0.88796,\n",
              "            0.88788,     0.88781,     0.88774,     0.88767,      0.8876,     0.88752,     0.88745,     0.88738,     0.88731,     0.88724,     0.88716,     0.88709,     0.88702,     0.88695,     0.88688,      0.8868,     0.88673,     0.88666,     0.88659,     0.88669,       0.888,      0.8893,     0.88981,\n",
              "               0.89,     0.89018,     0.89036,     0.89055,     0.89073,     0.89092,      0.8911,     0.89129,     0.89147,     0.89166,     0.89184,     0.89202,     0.89221,     0.89239,     0.89258,     0.89276,     0.89278,     0.89261,     0.89244,     0.89227,     0.89211,     0.89194,     0.89177,\n",
              "             0.8916,     0.89143,     0.89126,      0.8911,     0.89093,     0.89076,     0.89059,     0.89042,     0.89025,     0.89008,     0.88992,     0.88975,     0.88958,     0.88941,     0.88924,     0.88907,      0.8889,     0.88896,     0.88903,     0.88911,     0.88918,     0.88925,     0.88933,\n",
              "             0.8894,     0.88948,     0.88955,     0.88962,      0.8897,     0.88977,     0.88985,     0.88992,     0.88999,     0.89007,     0.89014,     0.89022,     0.89029,     0.89037,     0.89044,     0.89051,     0.89059,     0.89066,     0.89073,     0.89081,     0.89088,     0.89096,     0.89103,\n",
              "             0.8911,     0.89118,     0.89125,     0.89133,      0.8914,     0.89147,     0.89155,     0.89162,     0.89169,     0.89177,     0.89184,     0.89192,     0.89199,     0.89206,     0.89005,     0.88801,     0.88778,     0.88754,     0.88731,     0.88708,     0.88685,     0.88662,     0.88639,\n",
              "            0.88616,     0.88593,     0.88569,     0.88546,     0.88523,       0.885,     0.88477,     0.88454,      0.8843,     0.88407,     0.88417,     0.88429,     0.88441,     0.88453,     0.88465,     0.88477,     0.88488,       0.885,     0.88512,     0.88524,     0.88536,     0.88548,      0.8856,\n",
              "            0.88572,     0.88583,     0.88595,     0.88607,     0.88619,     0.88631,     0.88643,     0.88655,     0.88666,     0.88678,      0.8869,     0.88702,     0.88714,     0.88726,      0.8875,     0.88776,     0.88803,     0.88829,     0.88856,     0.88882,     0.88909,     0.88935,     0.88961,\n",
              "            0.88988,     0.89014,      0.8904,     0.88924,     0.88709,     0.88579,     0.88484,      0.8839,     0.88296,     0.88051,     0.87833,      0.8785,     0.87868,     0.87885,     0.87903,     0.87921,     0.87938,     0.87956,     0.87973,     0.87991,     0.88008,     0.88026,     0.88043,\n",
              "            0.88061,     0.88078,     0.88096,     0.88113,     0.88131,     0.88148,     0.87899,     0.87718,     0.87675,     0.87632,     0.87589,     0.87546,     0.87503,      0.8746,     0.87417,     0.87374,     0.87331,     0.87266,     0.87186,     0.87105,     0.87025,     0.86945,     0.86909,\n",
              "            0.86962,     0.87014,     0.87066,     0.87119,     0.87171,     0.87212,     0.87153,     0.87094,     0.87034,     0.86975,     0.86915,     0.86856,     0.86796,      0.8663,     0.86457,      0.8634,     0.86288,     0.86237,     0.86185,     0.86133,     0.86081,      0.8603,     0.85978,\n",
              "            0.86264,     0.86306,     0.86347,     0.86388,      0.8643,     0.86471,     0.86513,     0.86554,     0.86561,     0.86317,      0.8558,     0.85224,     0.85101,     0.84978,     0.84855,     0.84619,     0.83914,      0.8384,     0.83766,     0.83693,     0.83619,     0.83545,     0.83471,\n",
              "            0.83516,     0.83571,     0.83627,     0.83682,     0.83737,     0.83792,     0.83674,     0.83549,     0.83424,     0.83178,     0.82805,     0.82664,     0.82521,     0.82373,     0.82189,     0.82004,     0.81736,     0.80962,     0.80887,     0.80812,     0.80737,     0.80662,     0.80586,\n",
              "            0.80511,     0.79056,      0.7913,     0.79204,     0.79277,     0.79299,     0.79059,     0.78829,      0.7872,     0.78612,     0.78502,     0.78393,     0.78238,     0.78029,     0.77811,       0.773,     0.77067,     0.76833,     0.76085,     0.75847,     0.75569,     0.75258,      0.7514,\n",
              "            0.75053,     0.74967,      0.7488,     0.74794,     0.74707,     0.74609,     0.74504,       0.744,     0.74296,     0.74191,        0.74,     0.73719,     0.73386,     0.72735,     0.70707,     0.68436,     0.68056,     0.66623,     0.66047,     0.65578,     0.64662,     0.64445,     0.64227,\n",
              "            0.62881,     0.62368,     0.60225,      0.5969,     0.58577,     0.57794,     0.56886,     0.56025,     0.54592,     0.51467,     0.47834,     0.45875,     0.39845,     0.38731,     0.36587,     0.35713,     0.33992,     0.33235,      0.3103,     0.30513,     0.29857,     0.28221,     0.27793,\n",
              "            0.27363,     0.26982,     0.26626,     0.26269,     0.23739,     0.22844,     0.22299,     0.21839,      0.2153,     0.21221,      0.2091,     0.20294,     0.19708,     0.19487,     0.19266,     0.19044,     0.18821,     0.15155,     0.14042,     0.13302,     0.12837,     0.12882,     0.12866,\n",
              "            0.12787,     0.12708,     0.12629,     0.12551,     0.12472,     0.12393,     0.12314,     0.12234,     0.12155,     0.12076,     0.11997,     0.11917,     0.11838,     0.11758,     0.11624,     0.11084,     0.10541,     0.10333,     0.10186,     0.10038,    0.098904,    0.097424,    0.095941,\n",
              "           0.094457,     0.09297,    0.086751,    0.077292,    0.072252,    0.067185,    0.062436,    0.057704,    0.053151,    0.049681,    0.046198,    0.042703,    0.026705,    0.025079,    0.023451,     0.02182,    0.020187,    0.018551,    0.016912,    0.015271,           0,           0,           0,\n",
              "                  0,           0,           0,           0,           0,           0,           0,           0,           0,           0,           0,           0,           0,           0,           0,           0,           0,           0,           0,           0,           0,           0,           0,\n",
              "                  0,           0,           0,           0,           0,           0,           0,           0,           0,           0,           0,           0,           0,           0,           0,           0,           0,           0,           0,           0,           0,           0,           0,\n",
              "                  0,           0,           0,           0,           0,           0,           0,           0,           0,           0,           0,           0,           0,           0,           0,           0,           0,           0,           0,           0,           0,           0,           0,\n",
              "                  0,           0,           0,           0,           0,           0,           0,           0,           0,           0,           0]]), 'Confidence', 'F1'], [array([          0,    0.001001,    0.002002,    0.003003,    0.004004,    0.005005,    0.006006,    0.007007,    0.008008,    0.009009,     0.01001,    0.011011,    0.012012,    0.013013,    0.014014,    0.015015,    0.016016,    0.017017,    0.018018,    0.019019,     0.02002,    0.021021,    0.022022,    0.023023,\n",
              "          0.024024,    0.025025,    0.026026,    0.027027,    0.028028,    0.029029,     0.03003,    0.031031,    0.032032,    0.033033,    0.034034,    0.035035,    0.036036,    0.037037,    0.038038,    0.039039,     0.04004,    0.041041,    0.042042,    0.043043,    0.044044,    0.045045,    0.046046,    0.047047,\n",
              "          0.048048,    0.049049,     0.05005,    0.051051,    0.052052,    0.053053,    0.054054,    0.055055,    0.056056,    0.057057,    0.058058,    0.059059,     0.06006,    0.061061,    0.062062,    0.063063,    0.064064,    0.065065,    0.066066,    0.067067,    0.068068,    0.069069,     0.07007,    0.071071,\n",
              "          0.072072,    0.073073,    0.074074,    0.075075,    0.076076,    0.077077,    0.078078,    0.079079,     0.08008,    0.081081,    0.082082,    0.083083,    0.084084,    0.085085,    0.086086,    0.087087,    0.088088,    0.089089,     0.09009,    0.091091,    0.092092,    0.093093,    0.094094,    0.095095,\n",
              "          0.096096,    0.097097,    0.098098,    0.099099,      0.1001,      0.1011,      0.1021,      0.1031,      0.1041,     0.10511,     0.10611,     0.10711,     0.10811,     0.10911,     0.11011,     0.11111,     0.11211,     0.11311,     0.11411,     0.11512,     0.11612,     0.11712,     0.11812,     0.11912,\n",
              "           0.12012,     0.12112,     0.12212,     0.12312,     0.12412,     0.12513,     0.12613,     0.12713,     0.12813,     0.12913,     0.13013,     0.13113,     0.13213,     0.13313,     0.13413,     0.13514,     0.13614,     0.13714,     0.13814,     0.13914,     0.14014,     0.14114,     0.14214,     0.14314,\n",
              "           0.14414,     0.14515,     0.14615,     0.14715,     0.14815,     0.14915,     0.15015,     0.15115,     0.15215,     0.15315,     0.15415,     0.15516,     0.15616,     0.15716,     0.15816,     0.15916,     0.16016,     0.16116,     0.16216,     0.16316,     0.16416,     0.16517,     0.16617,     0.16717,\n",
              "           0.16817,     0.16917,     0.17017,     0.17117,     0.17217,     0.17317,     0.17417,     0.17518,     0.17618,     0.17718,     0.17818,     0.17918,     0.18018,     0.18118,     0.18218,     0.18318,     0.18418,     0.18519,     0.18619,     0.18719,     0.18819,     0.18919,     0.19019,     0.19119,\n",
              "           0.19219,     0.19319,     0.19419,      0.1952,      0.1962,      0.1972,      0.1982,      0.1992,      0.2002,      0.2012,      0.2022,      0.2032,      0.2042,     0.20521,     0.20621,     0.20721,     0.20821,     0.20921,     0.21021,     0.21121,     0.21221,     0.21321,     0.21421,     0.21522,\n",
              "           0.21622,     0.21722,     0.21822,     0.21922,     0.22022,     0.22122,     0.22222,     0.22322,     0.22422,     0.22523,     0.22623,     0.22723,     0.22823,     0.22923,     0.23023,     0.23123,     0.23223,     0.23323,     0.23423,     0.23524,     0.23624,     0.23724,     0.23824,     0.23924,\n",
              "           0.24024,     0.24124,     0.24224,     0.24324,     0.24424,     0.24525,     0.24625,     0.24725,     0.24825,     0.24925,     0.25025,     0.25125,     0.25225,     0.25325,     0.25425,     0.25526,     0.25626,     0.25726,     0.25826,     0.25926,     0.26026,     0.26126,     0.26226,     0.26326,\n",
              "           0.26426,     0.26527,     0.26627,     0.26727,     0.26827,     0.26927,     0.27027,     0.27127,     0.27227,     0.27327,     0.27427,     0.27528,     0.27628,     0.27728,     0.27828,     0.27928,     0.28028,     0.28128,     0.28228,     0.28328,     0.28428,     0.28529,     0.28629,     0.28729,\n",
              "           0.28829,     0.28929,     0.29029,     0.29129,     0.29229,     0.29329,     0.29429,      0.2953,      0.2963,      0.2973,      0.2983,      0.2993,      0.3003,      0.3013,      0.3023,      0.3033,      0.3043,     0.30531,     0.30631,     0.30731,     0.30831,     0.30931,     0.31031,     0.31131,\n",
              "           0.31231,     0.31331,     0.31431,     0.31532,     0.31632,     0.31732,     0.31832,     0.31932,     0.32032,     0.32132,     0.32232,     0.32332,     0.32432,     0.32533,     0.32633,     0.32733,     0.32833,     0.32933,     0.33033,     0.33133,     0.33233,     0.33333,     0.33433,     0.33534,\n",
              "           0.33634,     0.33734,     0.33834,     0.33934,     0.34034,     0.34134,     0.34234,     0.34334,     0.34434,     0.34535,     0.34635,     0.34735,     0.34835,     0.34935,     0.35035,     0.35135,     0.35235,     0.35335,     0.35435,     0.35536,     0.35636,     0.35736,     0.35836,     0.35936,\n",
              "           0.36036,     0.36136,     0.36236,     0.36336,     0.36436,     0.36537,     0.36637,     0.36737,     0.36837,     0.36937,     0.37037,     0.37137,     0.37237,     0.37337,     0.37437,     0.37538,     0.37638,     0.37738,     0.37838,     0.37938,     0.38038,     0.38138,     0.38238,     0.38338,\n",
              "           0.38438,     0.38539,     0.38639,     0.38739,     0.38839,     0.38939,     0.39039,     0.39139,     0.39239,     0.39339,     0.39439,      0.3954,      0.3964,      0.3974,      0.3984,      0.3994,      0.4004,      0.4014,      0.4024,      0.4034,      0.4044,     0.40541,     0.40641,     0.40741,\n",
              "           0.40841,     0.40941,     0.41041,     0.41141,     0.41241,     0.41341,     0.41441,     0.41542,     0.41642,     0.41742,     0.41842,     0.41942,     0.42042,     0.42142,     0.42242,     0.42342,     0.42442,     0.42543,     0.42643,     0.42743,     0.42843,     0.42943,     0.43043,     0.43143,\n",
              "           0.43243,     0.43343,     0.43443,     0.43544,     0.43644,     0.43744,     0.43844,     0.43944,     0.44044,     0.44144,     0.44244,     0.44344,     0.44444,     0.44545,     0.44645,     0.44745,     0.44845,     0.44945,     0.45045,     0.45145,     0.45245,     0.45345,     0.45445,     0.45546,\n",
              "           0.45646,     0.45746,     0.45846,     0.45946,     0.46046,     0.46146,     0.46246,     0.46346,     0.46446,     0.46547,     0.46647,     0.46747,     0.46847,     0.46947,     0.47047,     0.47147,     0.47247,     0.47347,     0.47447,     0.47548,     0.47648,     0.47748,     0.47848,     0.47948,\n",
              "           0.48048,     0.48148,     0.48248,     0.48348,     0.48448,     0.48549,     0.48649,     0.48749,     0.48849,     0.48949,     0.49049,     0.49149,     0.49249,     0.49349,     0.49449,      0.4955,      0.4965,      0.4975,      0.4985,      0.4995,      0.5005,      0.5015,      0.5025,      0.5035,\n",
              "            0.5045,     0.50551,     0.50651,     0.50751,     0.50851,     0.50951,     0.51051,     0.51151,     0.51251,     0.51351,     0.51451,     0.51552,     0.51652,     0.51752,     0.51852,     0.51952,     0.52052,     0.52152,     0.52252,     0.52352,     0.52452,     0.52553,     0.52653,     0.52753,\n",
              "           0.52853,     0.52953,     0.53053,     0.53153,     0.53253,     0.53353,     0.53453,     0.53554,     0.53654,     0.53754,     0.53854,     0.53954,     0.54054,     0.54154,     0.54254,     0.54354,     0.54454,     0.54555,     0.54655,     0.54755,     0.54855,     0.54955,     0.55055,     0.55155,\n",
              "           0.55255,     0.55355,     0.55455,     0.55556,     0.55656,     0.55756,     0.55856,     0.55956,     0.56056,     0.56156,     0.56256,     0.56356,     0.56456,     0.56557,     0.56657,     0.56757,     0.56857,     0.56957,     0.57057,     0.57157,     0.57257,     0.57357,     0.57457,     0.57558,\n",
              "           0.57658,     0.57758,     0.57858,     0.57958,     0.58058,     0.58158,     0.58258,     0.58358,     0.58458,     0.58559,     0.58659,     0.58759,     0.58859,     0.58959,     0.59059,     0.59159,     0.59259,     0.59359,     0.59459,      0.5956,      0.5966,      0.5976,      0.5986,      0.5996,\n",
              "            0.6006,      0.6016,      0.6026,      0.6036,      0.6046,     0.60561,     0.60661,     0.60761,     0.60861,     0.60961,     0.61061,     0.61161,     0.61261,     0.61361,     0.61461,     0.61562,     0.61662,     0.61762,     0.61862,     0.61962,     0.62062,     0.62162,     0.62262,     0.62362,\n",
              "           0.62462,     0.62563,     0.62663,     0.62763,     0.62863,     0.62963,     0.63063,     0.63163,     0.63263,     0.63363,     0.63463,     0.63564,     0.63664,     0.63764,     0.63864,     0.63964,     0.64064,     0.64164,     0.64264,     0.64364,     0.64464,     0.64565,     0.64665,     0.64765,\n",
              "           0.64865,     0.64965,     0.65065,     0.65165,     0.65265,     0.65365,     0.65465,     0.65566,     0.65666,     0.65766,     0.65866,     0.65966,     0.66066,     0.66166,     0.66266,     0.66366,     0.66466,     0.66567,     0.66667,     0.66767,     0.66867,     0.66967,     0.67067,     0.67167,\n",
              "           0.67267,     0.67367,     0.67467,     0.67568,     0.67668,     0.67768,     0.67868,     0.67968,     0.68068,     0.68168,     0.68268,     0.68368,     0.68468,     0.68569,     0.68669,     0.68769,     0.68869,     0.68969,     0.69069,     0.69169,     0.69269,     0.69369,     0.69469,      0.6957,\n",
              "            0.6967,      0.6977,      0.6987,      0.6997,      0.7007,      0.7017,      0.7027,      0.7037,      0.7047,     0.70571,     0.70671,     0.70771,     0.70871,     0.70971,     0.71071,     0.71171,     0.71271,     0.71371,     0.71471,     0.71572,     0.71672,     0.71772,     0.71872,     0.71972,\n",
              "           0.72072,     0.72172,     0.72272,     0.72372,     0.72472,     0.72573,     0.72673,     0.72773,     0.72873,     0.72973,     0.73073,     0.73173,     0.73273,     0.73373,     0.73473,     0.73574,     0.73674,     0.73774,     0.73874,     0.73974,     0.74074,     0.74174,     0.74274,     0.74374,\n",
              "           0.74474,     0.74575,     0.74675,     0.74775,     0.74875,     0.74975,     0.75075,     0.75175,     0.75275,     0.75375,     0.75475,     0.75576,     0.75676,     0.75776,     0.75876,     0.75976,     0.76076,     0.76176,     0.76276,     0.76376,     0.76476,     0.76577,     0.76677,     0.76777,\n",
              "           0.76877,     0.76977,     0.77077,     0.77177,     0.77277,     0.77377,     0.77477,     0.77578,     0.77678,     0.77778,     0.77878,     0.77978,     0.78078,     0.78178,     0.78278,     0.78378,     0.78478,     0.78579,     0.78679,     0.78779,     0.78879,     0.78979,     0.79079,     0.79179,\n",
              "           0.79279,     0.79379,     0.79479,      0.7958,      0.7968,      0.7978,      0.7988,      0.7998,      0.8008,      0.8018,      0.8028,      0.8038,      0.8048,     0.80581,     0.80681,     0.80781,     0.80881,     0.80981,     0.81081,     0.81181,     0.81281,     0.81381,     0.81481,     0.81582,\n",
              "           0.81682,     0.81782,     0.81882,     0.81982,     0.82082,     0.82182,     0.82282,     0.82382,     0.82482,     0.82583,     0.82683,     0.82783,     0.82883,     0.82983,     0.83083,     0.83183,     0.83283,     0.83383,     0.83483,     0.83584,     0.83684,     0.83784,     0.83884,     0.83984,\n",
              "           0.84084,     0.84184,     0.84284,     0.84384,     0.84484,     0.84585,     0.84685,     0.84785,     0.84885,     0.84985,     0.85085,     0.85185,     0.85285,     0.85385,     0.85485,     0.85586,     0.85686,     0.85786,     0.85886,     0.85986,     0.86086,     0.86186,     0.86286,     0.86386,\n",
              "           0.86486,     0.86587,     0.86687,     0.86787,     0.86887,     0.86987,     0.87087,     0.87187,     0.87287,     0.87387,     0.87487,     0.87588,     0.87688,     0.87788,     0.87888,     0.87988,     0.88088,     0.88188,     0.88288,     0.88388,     0.88488,     0.88589,     0.88689,     0.88789,\n",
              "           0.88889,     0.88989,     0.89089,     0.89189,     0.89289,     0.89389,     0.89489,      0.8959,      0.8969,      0.8979,      0.8989,      0.8999,      0.9009,      0.9019,      0.9029,      0.9039,      0.9049,     0.90591,     0.90691,     0.90791,     0.90891,     0.90991,     0.91091,     0.91191,\n",
              "           0.91291,     0.91391,     0.91491,     0.91592,     0.91692,     0.91792,     0.91892,     0.91992,     0.92092,     0.92192,     0.92292,     0.92392,     0.92492,     0.92593,     0.92693,     0.92793,     0.92893,     0.92993,     0.93093,     0.93193,     0.93293,     0.93393,     0.93493,     0.93594,\n",
              "           0.93694,     0.93794,     0.93894,     0.93994,     0.94094,     0.94194,     0.94294,     0.94394,     0.94494,     0.94595,     0.94695,     0.94795,     0.94895,     0.94995,     0.95095,     0.95195,     0.95295,     0.95395,     0.95495,     0.95596,     0.95696,     0.95796,     0.95896,     0.95996,\n",
              "           0.96096,     0.96196,     0.96296,     0.96396,     0.96496,     0.96597,     0.96697,     0.96797,     0.96897,     0.96997,     0.97097,     0.97197,     0.97297,     0.97397,     0.97497,     0.97598,     0.97698,     0.97798,     0.97898,     0.97998,     0.98098,     0.98198,     0.98298,     0.98398,\n",
              "           0.98498,     0.98599,     0.98699,     0.98799,     0.98899,     0.98999,     0.99099,     0.99199,     0.99299,     0.99399,     0.99499,       0.996,       0.997,       0.998,       0.999,           1]), array([[    0.35659,     0.35659,     0.46303,     0.53677,     0.57859,     0.60419,     0.62155,     0.64148,      0.6574,     0.67571,      0.6839,     0.68627,     0.69577,     0.69866,     0.70001,     0.70215,     0.71025,     0.71577,     0.72106,     0.72313,     0.72824,      0.7357,     0.74628,\n",
              "            0.75349,     0.75653,      0.7595,     0.76236,     0.76574,     0.77021,     0.77615,     0.78002,     0.78558,     0.78875,     0.79312,     0.79522,     0.79507,     0.79493,     0.79478,     0.79463,     0.79449,     0.79434,      0.7942,     0.79468,     0.79592,     0.79717,     0.79841,\n",
              "            0.79954,      0.8006,     0.80167,     0.80273,      0.8037,      0.8043,     0.80489,     0.80549,     0.80608,     0.80668,     0.80728,     0.80787,     0.80818,     0.80732,     0.80763,     0.80794,     0.80825,     0.80856,     0.80887,     0.80918,     0.80949,      0.8098,     0.81011,\n",
              "            0.81042,     0.81073,     0.81104,     0.81135,     0.81166,     0.81197,     0.81288,     0.81441,     0.81595,     0.82269,       0.825,     0.82719,     0.82768,     0.82816,     0.82865,     0.82914,     0.82962,     0.83011,      0.8306,     0.83108,     0.83157,     0.83206,     0.83323,\n",
              "            0.83509,     0.83695,      0.8378,     0.83823,     0.83866,     0.83909,     0.83951,     0.83994,     0.84037,      0.8408,     0.84123,     0.84166,     0.84208,     0.84251,     0.84295,     0.84341,     0.84386,     0.84432,     0.84477,     0.84523,     0.84568,     0.84614,     0.84659,\n",
              "            0.84705,      0.8475,     0.84796,     0.84961,     0.85183,     0.85349,     0.85343,     0.85338,     0.85332,     0.85326,     0.85321,     0.85315,      0.8531,     0.85304,     0.85298,     0.85293,     0.85287,     0.85281,     0.85276,      0.8527,     0.85264,     0.85259,     0.85804,\n",
              "              0.858,     0.85796,     0.85792,     0.85788,     0.85785,     0.85781,     0.85777,     0.85773,     0.85769,     0.85765,     0.85761,     0.85757,     0.85753,     0.85749,     0.85745,     0.85741,     0.85737,     0.85733,     0.85729,     0.85725,     0.85721,     0.85717,     0.85817,\n",
              "            0.86252,     0.86444,     0.86622,     0.86801,      0.8686,     0.86883,     0.86906,     0.86929,     0.86952,     0.86976,     0.86999,     0.87022,     0.87045,     0.87068,     0.87091,     0.87114,     0.87137,     0.87161,     0.87184,     0.87207,      0.8723,     0.87253,     0.87276,\n",
              "            0.87299,     0.87322,     0.87346,     0.87369,     0.87392,     0.87415,     0.87437,     0.87459,     0.87481,     0.87503,     0.87525,     0.87547,     0.87569,     0.87591,     0.87614,     0.87636,     0.87658,      0.8768,     0.87702,     0.87724,     0.87746,     0.87768,      0.8779,\n",
              "            0.87812,     0.87834,     0.87856,     0.87878,       0.879,     0.87922,     0.87944,     0.87966,     0.87988,     0.88009,     0.88027,     0.88046,     0.88064,     0.88083,     0.88102,      0.8812,     0.88139,     0.88157,     0.88176,     0.88194,     0.88213,     0.88231,      0.8825,\n",
              "            0.88269,     0.88287,     0.88306,     0.88324,     0.88343,     0.88361,      0.8838,     0.88398,     0.88417,     0.88436,     0.88454,     0.88473,     0.88491,      0.8851,     0.88528,     0.88547,     0.88566,     0.88584,     0.88606,     0.88629,     0.88652,     0.88675,     0.88698,\n",
              "            0.88721,     0.88745,     0.88768,     0.88791,     0.88814,     0.88837,      0.8886,     0.88883,     0.88907,      0.8893,     0.88953,     0.88976,     0.88999,     0.89022,     0.89046,     0.89069,     0.89092,     0.89115,     0.89138,     0.89161,     0.89184,     0.89215,     0.89247,\n",
              "            0.89279,     0.89311,     0.89343,     0.89375,     0.89407,     0.89439,     0.89471,     0.89503,     0.89535,     0.89567,     0.89599,     0.89631,     0.89663,     0.89695,     0.89727,     0.89759,     0.89791,      0.8982,     0.89849,     0.89878,     0.89906,     0.89935,     0.89963,\n",
              "            0.89992,     0.90021,     0.90049,     0.90078,     0.90106,     0.90135,     0.90164,     0.90192,     0.90221,     0.90249,     0.90278,     0.90307,     0.90335,     0.90364,     0.90392,     0.90409,     0.90405,       0.904,     0.90396,     0.90391,     0.90386,     0.90382,     0.90377,\n",
              "            0.90373,     0.90368,     0.90364,     0.90359,     0.90354,      0.9035,     0.90345,     0.90404,     0.90469,     0.90535,       0.906,     0.90665,     0.90731,     0.90796,     0.90862,     0.90927,     0.90982,     0.91014,     0.91047,     0.91079,     0.91111,     0.91143,     0.91175,\n",
              "            0.91207,      0.9124,     0.91272,     0.91304,     0.91336,     0.91368,     0.91401,     0.91433,     0.91465,     0.91497,     0.91529,     0.91561,     0.91594,     0.91607,     0.91604,     0.91602,     0.91599,     0.91596,     0.91594,     0.91591,     0.91588,     0.91586,     0.91583,\n",
              "            0.91581,     0.91578,     0.91575,     0.91573,      0.9157,     0.91567,     0.91565,     0.91562,     0.91559,     0.91557,     0.91554,     0.91552,     0.91549,     0.91547,     0.91544,     0.91542,      0.9154,     0.91537,     0.91535,     0.91533,      0.9153,     0.91528,     0.91526,\n",
              "            0.91523,     0.91521,     0.91519,     0.91517,     0.91514,     0.91512,      0.9151,     0.91507,     0.91505,     0.91503,       0.915,     0.91498,     0.91496,     0.91493,     0.91491,     0.91488,     0.91481,     0.91474,     0.91468,     0.91461,     0.91454,     0.91448,     0.91441,\n",
              "            0.91434,     0.91428,     0.91425,     0.91422,     0.91419,     0.91416,     0.91413,      0.9141,     0.91407,     0.91404,     0.91401,     0.91398,     0.91395,     0.91392,     0.91389,     0.91386,     0.91383,      0.9138,     0.91377,     0.91374,     0.91371,     0.91368,     0.91366,\n",
              "            0.91364,     0.91362,      0.9136,     0.91359,     0.91357,     0.91355,     0.91353,     0.91351,      0.9135,     0.91348,     0.91346,     0.91344,     0.91342,     0.91341,     0.91339,     0.91337,     0.91335,     0.91333,     0.91332,      0.9133,     0.91328,     0.91326,     0.91324,\n",
              "            0.91323,     0.91321,     0.91319,     0.91317,     0.91315,     0.91314,     0.91312,      0.9131,     0.91308,     0.91306,     0.91305,     0.91303,     0.91302,     0.91301,       0.913,     0.91299,     0.91298,     0.91296,     0.91295,     0.91294,     0.91293,     0.91292,     0.91291,\n",
              "            0.91289,     0.91288,     0.91287,     0.91286,     0.91285,     0.91284,     0.91282,     0.91281,      0.9128,     0.91279,     0.91278,     0.91277,     0.91276,     0.91274,     0.91273,     0.91272,     0.91271,      0.9127,     0.91269,     0.91267,     0.91266,     0.91265,     0.91264,\n",
              "            0.91263,     0.91262,      0.9126,     0.91259,     0.91258,     0.91257,     0.91256,     0.91255,     0.91253,     0.91252,     0.91251,      0.9125,     0.91249,     0.91248,     0.91247,     0.91245,     0.91244,     0.91243,     0.91242,     0.91276,     0.91553,      0.9183,      0.9194,\n",
              "            0.91979,     0.92019,     0.92058,     0.92098,     0.92137,     0.92177,     0.92216,     0.92256,     0.92295,     0.92335,     0.92374,     0.92414,     0.92453,     0.92493,     0.92532,     0.92572,     0.92591,     0.92589,     0.92587,     0.92584,     0.92582,      0.9258,     0.92577,\n",
              "            0.92575,     0.92573,      0.9257,     0.92568,     0.92566,     0.92563,     0.92561,     0.92559,     0.92556,     0.92554,     0.92552,     0.92549,     0.92547,     0.92545,     0.92542,      0.9254,     0.92538,     0.92552,     0.92568,     0.92584,       0.926,     0.92616,     0.92633,\n",
              "            0.92649,     0.92665,     0.92681,     0.92697,     0.92713,     0.92729,     0.92745,     0.92761,     0.92777,     0.92793,      0.9281,     0.92826,     0.92842,     0.92858,     0.92874,      0.9289,     0.92906,     0.92922,     0.92938,     0.92954,      0.9297,     0.92987,     0.93003,\n",
              "            0.93019,     0.93035,     0.93051,     0.93067,     0.93083,     0.93099,     0.93115,     0.93131,     0.93147,     0.93164,      0.9318,     0.93196,     0.93212,     0.93228,     0.93207,     0.93181,     0.93178,     0.93175,     0.93172,     0.93169,     0.93166,     0.93163,      0.9316,\n",
              "            0.93157,     0.93154,     0.93151,     0.93148,     0.93145,     0.93142,     0.93139,     0.93136,     0.93133,      0.9313,     0.93155,     0.93181,     0.93208,     0.93234,     0.93261,     0.93287,     0.93313,      0.9334,     0.93366,     0.93393,     0.93419,     0.93446,     0.93472,\n",
              "            0.93499,     0.93525,     0.93551,     0.93578,     0.93604,     0.93631,     0.93657,     0.93684,      0.9371,     0.93736,     0.93763,     0.93789,     0.93816,     0.93842,     0.93897,     0.93956,     0.94015,     0.94075,     0.94134,     0.94193,     0.94253,     0.94312,     0.94371,\n",
              "            0.94431,      0.9449,      0.9455,      0.9456,     0.94538,     0.94524,     0.94514,     0.94504,     0.94495,     0.94469,     0.94467,     0.94508,     0.94549,     0.94589,      0.9463,     0.94671,     0.94711,     0.94752,     0.94793,     0.94833,     0.94874,     0.94915,     0.94956,\n",
              "            0.94996,     0.95037,     0.95078,     0.95118,     0.95159,       0.952,     0.95177,      0.9516,     0.95156,     0.95152,     0.95148,     0.95144,      0.9514,     0.95136,     0.95132,     0.95128,     0.95124,     0.95117,      0.9511,     0.95102,     0.95095,     0.95087,     0.95124,\n",
              "             0.9525,     0.95376,     0.95502,     0.95628,     0.95754,     0.95867,     0.95862,     0.95858,     0.95853,     0.95848,     0.95843,     0.95838,     0.95834,      0.9582,     0.95806,     0.95796,     0.95792,     0.95788,     0.95784,     0.95779,     0.95775,     0.95771,     0.95767,\n",
              "            0.96592,     0.96697,     0.96801,     0.96905,     0.97009,     0.97114,     0.97218,     0.97322,     0.97412,       0.974,     0.97361,     0.97343,     0.97336,      0.9733,     0.97323,      0.9731,     0.97272,     0.97268,     0.97264,      0.9726,     0.97256,     0.97252,     0.97248,\n",
              "            0.97386,     0.97538,     0.97689,      0.9784,     0.97991,     0.98142,     0.98144,     0.98139,     0.98134,     0.98125,     0.98111,     0.98105,       0.981,     0.98094,     0.98087,      0.9808,     0.98069,     0.98039,     0.98036,     0.98033,      0.9803,     0.98027,     0.98024,\n",
              "            0.98021,     0.98093,     0.98321,      0.9855,     0.98778,     0.98968,     0.98963,     0.98958,     0.98956,     0.98953,     0.98951,     0.98949,     0.98945,     0.98941,     0.98936,     0.98924,     0.98919,     0.98914,     0.98897,     0.98891,     0.98885,     0.98877,     0.98875,\n",
              "            0.98873,     0.98871,     0.98868,     0.98866,     0.98864,     0.98862,     0.98859,     0.98857,     0.98854,     0.98852,     0.98847,      0.9884,     0.98832,     0.98816,     0.98763,       0.987,     0.98689,     0.98647,      0.9863,     0.98615,     0.98587,      0.9858,     0.98573,\n",
              "            0.98528,     0.98511,     0.98435,     0.98415,     0.98373,     0.98343,     0.98306,      0.9827,     0.98208,     0.98061,     0.97868,      0.9775,      0.9732,     0.97227,     0.97031,     0.96945,     0.96763,     0.96677,     0.96404,     0.96334,     0.96242,     0.95998,     0.95927,\n",
              "            0.95857,     0.95791,     0.95729,     0.95666,     0.95158,     0.94954,     0.94821,     0.94707,     0.94624,     0.94541,     0.94458,     0.94277,     0.94103,      0.9403,     0.93957,     0.93884,     0.93811,     0.92289,     0.91682,     0.91214,     0.92584,     0.97458,           1,\n",
              "                  1,           1,           1,           1,           1,           1,           1,           1,           1,           1,           1,           1,           1,           1,           1,           1,           1,           1,           1,           1,           1,           1,           1,\n",
              "                  1,           1,           1,           1,           1,           1,           1,           1,           1,           1,           1,           1,           1,           1,           1,           1,           1,           1,           1,           1,           1,           1,           1,\n",
              "                  1,           1,           1,           1,           1,           1,           1,           1,           1,           1,           1,           1,           1,           1,           1,           1,           1,           1,           1,           1,           1,           1,           1,\n",
              "                  1,           1,           1,           1,           1,           1,           1,           1,           1,           1,           1,           1,           1,           1,           1,           1,           1,           1,           1,           1,           1,           1,           1,\n",
              "                  1,           1,           1,           1,           1,           1,           1,           1,           1,           1,           1,           1,           1,           1,           1,           1,           1,           1,           1,           1,           1,           1,           1,\n",
              "                  1,           1,           1,           1,           1,           1,           1,           1,           1,           1,           1]]), 'Confidence', 'Precision'], [array([          0,    0.001001,    0.002002,    0.003003,    0.004004,    0.005005,    0.006006,    0.007007,    0.008008,    0.009009,     0.01001,    0.011011,    0.012012,    0.013013,    0.014014,    0.015015,    0.016016,    0.017017,    0.018018,    0.019019,     0.02002,    0.021021,    0.022022,    0.023023,\n",
              "          0.024024,    0.025025,    0.026026,    0.027027,    0.028028,    0.029029,     0.03003,    0.031031,    0.032032,    0.033033,    0.034034,    0.035035,    0.036036,    0.037037,    0.038038,    0.039039,     0.04004,    0.041041,    0.042042,    0.043043,    0.044044,    0.045045,    0.046046,    0.047047,\n",
              "          0.048048,    0.049049,     0.05005,    0.051051,    0.052052,    0.053053,    0.054054,    0.055055,    0.056056,    0.057057,    0.058058,    0.059059,     0.06006,    0.061061,    0.062062,    0.063063,    0.064064,    0.065065,    0.066066,    0.067067,    0.068068,    0.069069,     0.07007,    0.071071,\n",
              "          0.072072,    0.073073,    0.074074,    0.075075,    0.076076,    0.077077,    0.078078,    0.079079,     0.08008,    0.081081,    0.082082,    0.083083,    0.084084,    0.085085,    0.086086,    0.087087,    0.088088,    0.089089,     0.09009,    0.091091,    0.092092,    0.093093,    0.094094,    0.095095,\n",
              "          0.096096,    0.097097,    0.098098,    0.099099,      0.1001,      0.1011,      0.1021,      0.1031,      0.1041,     0.10511,     0.10611,     0.10711,     0.10811,     0.10911,     0.11011,     0.11111,     0.11211,     0.11311,     0.11411,     0.11512,     0.11612,     0.11712,     0.11812,     0.11912,\n",
              "           0.12012,     0.12112,     0.12212,     0.12312,     0.12412,     0.12513,     0.12613,     0.12713,     0.12813,     0.12913,     0.13013,     0.13113,     0.13213,     0.13313,     0.13413,     0.13514,     0.13614,     0.13714,     0.13814,     0.13914,     0.14014,     0.14114,     0.14214,     0.14314,\n",
              "           0.14414,     0.14515,     0.14615,     0.14715,     0.14815,     0.14915,     0.15015,     0.15115,     0.15215,     0.15315,     0.15415,     0.15516,     0.15616,     0.15716,     0.15816,     0.15916,     0.16016,     0.16116,     0.16216,     0.16316,     0.16416,     0.16517,     0.16617,     0.16717,\n",
              "           0.16817,     0.16917,     0.17017,     0.17117,     0.17217,     0.17317,     0.17417,     0.17518,     0.17618,     0.17718,     0.17818,     0.17918,     0.18018,     0.18118,     0.18218,     0.18318,     0.18418,     0.18519,     0.18619,     0.18719,     0.18819,     0.18919,     0.19019,     0.19119,\n",
              "           0.19219,     0.19319,     0.19419,      0.1952,      0.1962,      0.1972,      0.1982,      0.1992,      0.2002,      0.2012,      0.2022,      0.2032,      0.2042,     0.20521,     0.20621,     0.20721,     0.20821,     0.20921,     0.21021,     0.21121,     0.21221,     0.21321,     0.21421,     0.21522,\n",
              "           0.21622,     0.21722,     0.21822,     0.21922,     0.22022,     0.22122,     0.22222,     0.22322,     0.22422,     0.22523,     0.22623,     0.22723,     0.22823,     0.22923,     0.23023,     0.23123,     0.23223,     0.23323,     0.23423,     0.23524,     0.23624,     0.23724,     0.23824,     0.23924,\n",
              "           0.24024,     0.24124,     0.24224,     0.24324,     0.24424,     0.24525,     0.24625,     0.24725,     0.24825,     0.24925,     0.25025,     0.25125,     0.25225,     0.25325,     0.25425,     0.25526,     0.25626,     0.25726,     0.25826,     0.25926,     0.26026,     0.26126,     0.26226,     0.26326,\n",
              "           0.26426,     0.26527,     0.26627,     0.26727,     0.26827,     0.26927,     0.27027,     0.27127,     0.27227,     0.27327,     0.27427,     0.27528,     0.27628,     0.27728,     0.27828,     0.27928,     0.28028,     0.28128,     0.28228,     0.28328,     0.28428,     0.28529,     0.28629,     0.28729,\n",
              "           0.28829,     0.28929,     0.29029,     0.29129,     0.29229,     0.29329,     0.29429,      0.2953,      0.2963,      0.2973,      0.2983,      0.2993,      0.3003,      0.3013,      0.3023,      0.3033,      0.3043,     0.30531,     0.30631,     0.30731,     0.30831,     0.30931,     0.31031,     0.31131,\n",
              "           0.31231,     0.31331,     0.31431,     0.31532,     0.31632,     0.31732,     0.31832,     0.31932,     0.32032,     0.32132,     0.32232,     0.32332,     0.32432,     0.32533,     0.32633,     0.32733,     0.32833,     0.32933,     0.33033,     0.33133,     0.33233,     0.33333,     0.33433,     0.33534,\n",
              "           0.33634,     0.33734,     0.33834,     0.33934,     0.34034,     0.34134,     0.34234,     0.34334,     0.34434,     0.34535,     0.34635,     0.34735,     0.34835,     0.34935,     0.35035,     0.35135,     0.35235,     0.35335,     0.35435,     0.35536,     0.35636,     0.35736,     0.35836,     0.35936,\n",
              "           0.36036,     0.36136,     0.36236,     0.36336,     0.36436,     0.36537,     0.36637,     0.36737,     0.36837,     0.36937,     0.37037,     0.37137,     0.37237,     0.37337,     0.37437,     0.37538,     0.37638,     0.37738,     0.37838,     0.37938,     0.38038,     0.38138,     0.38238,     0.38338,\n",
              "           0.38438,     0.38539,     0.38639,     0.38739,     0.38839,     0.38939,     0.39039,     0.39139,     0.39239,     0.39339,     0.39439,      0.3954,      0.3964,      0.3974,      0.3984,      0.3994,      0.4004,      0.4014,      0.4024,      0.4034,      0.4044,     0.40541,     0.40641,     0.40741,\n",
              "           0.40841,     0.40941,     0.41041,     0.41141,     0.41241,     0.41341,     0.41441,     0.41542,     0.41642,     0.41742,     0.41842,     0.41942,     0.42042,     0.42142,     0.42242,     0.42342,     0.42442,     0.42543,     0.42643,     0.42743,     0.42843,     0.42943,     0.43043,     0.43143,\n",
              "           0.43243,     0.43343,     0.43443,     0.43544,     0.43644,     0.43744,     0.43844,     0.43944,     0.44044,     0.44144,     0.44244,     0.44344,     0.44444,     0.44545,     0.44645,     0.44745,     0.44845,     0.44945,     0.45045,     0.45145,     0.45245,     0.45345,     0.45445,     0.45546,\n",
              "           0.45646,     0.45746,     0.45846,     0.45946,     0.46046,     0.46146,     0.46246,     0.46346,     0.46446,     0.46547,     0.46647,     0.46747,     0.46847,     0.46947,     0.47047,     0.47147,     0.47247,     0.47347,     0.47447,     0.47548,     0.47648,     0.47748,     0.47848,     0.47948,\n",
              "           0.48048,     0.48148,     0.48248,     0.48348,     0.48448,     0.48549,     0.48649,     0.48749,     0.48849,     0.48949,     0.49049,     0.49149,     0.49249,     0.49349,     0.49449,      0.4955,      0.4965,      0.4975,      0.4985,      0.4995,      0.5005,      0.5015,      0.5025,      0.5035,\n",
              "            0.5045,     0.50551,     0.50651,     0.50751,     0.50851,     0.50951,     0.51051,     0.51151,     0.51251,     0.51351,     0.51451,     0.51552,     0.51652,     0.51752,     0.51852,     0.51952,     0.52052,     0.52152,     0.52252,     0.52352,     0.52452,     0.52553,     0.52653,     0.52753,\n",
              "           0.52853,     0.52953,     0.53053,     0.53153,     0.53253,     0.53353,     0.53453,     0.53554,     0.53654,     0.53754,     0.53854,     0.53954,     0.54054,     0.54154,     0.54254,     0.54354,     0.54454,     0.54555,     0.54655,     0.54755,     0.54855,     0.54955,     0.55055,     0.55155,\n",
              "           0.55255,     0.55355,     0.55455,     0.55556,     0.55656,     0.55756,     0.55856,     0.55956,     0.56056,     0.56156,     0.56256,     0.56356,     0.56456,     0.56557,     0.56657,     0.56757,     0.56857,     0.56957,     0.57057,     0.57157,     0.57257,     0.57357,     0.57457,     0.57558,\n",
              "           0.57658,     0.57758,     0.57858,     0.57958,     0.58058,     0.58158,     0.58258,     0.58358,     0.58458,     0.58559,     0.58659,     0.58759,     0.58859,     0.58959,     0.59059,     0.59159,     0.59259,     0.59359,     0.59459,      0.5956,      0.5966,      0.5976,      0.5986,      0.5996,\n",
              "            0.6006,      0.6016,      0.6026,      0.6036,      0.6046,     0.60561,     0.60661,     0.60761,     0.60861,     0.60961,     0.61061,     0.61161,     0.61261,     0.61361,     0.61461,     0.61562,     0.61662,     0.61762,     0.61862,     0.61962,     0.62062,     0.62162,     0.62262,     0.62362,\n",
              "           0.62462,     0.62563,     0.62663,     0.62763,     0.62863,     0.62963,     0.63063,     0.63163,     0.63263,     0.63363,     0.63463,     0.63564,     0.63664,     0.63764,     0.63864,     0.63964,     0.64064,     0.64164,     0.64264,     0.64364,     0.64464,     0.64565,     0.64665,     0.64765,\n",
              "           0.64865,     0.64965,     0.65065,     0.65165,     0.65265,     0.65365,     0.65465,     0.65566,     0.65666,     0.65766,     0.65866,     0.65966,     0.66066,     0.66166,     0.66266,     0.66366,     0.66466,     0.66567,     0.66667,     0.66767,     0.66867,     0.66967,     0.67067,     0.67167,\n",
              "           0.67267,     0.67367,     0.67467,     0.67568,     0.67668,     0.67768,     0.67868,     0.67968,     0.68068,     0.68168,     0.68268,     0.68368,     0.68468,     0.68569,     0.68669,     0.68769,     0.68869,     0.68969,     0.69069,     0.69169,     0.69269,     0.69369,     0.69469,      0.6957,\n",
              "            0.6967,      0.6977,      0.6987,      0.6997,      0.7007,      0.7017,      0.7027,      0.7037,      0.7047,     0.70571,     0.70671,     0.70771,     0.70871,     0.70971,     0.71071,     0.71171,     0.71271,     0.71371,     0.71471,     0.71572,     0.71672,     0.71772,     0.71872,     0.71972,\n",
              "           0.72072,     0.72172,     0.72272,     0.72372,     0.72472,     0.72573,     0.72673,     0.72773,     0.72873,     0.72973,     0.73073,     0.73173,     0.73273,     0.73373,     0.73473,     0.73574,     0.73674,     0.73774,     0.73874,     0.73974,     0.74074,     0.74174,     0.74274,     0.74374,\n",
              "           0.74474,     0.74575,     0.74675,     0.74775,     0.74875,     0.74975,     0.75075,     0.75175,     0.75275,     0.75375,     0.75475,     0.75576,     0.75676,     0.75776,     0.75876,     0.75976,     0.76076,     0.76176,     0.76276,     0.76376,     0.76476,     0.76577,     0.76677,     0.76777,\n",
              "           0.76877,     0.76977,     0.77077,     0.77177,     0.77277,     0.77377,     0.77477,     0.77578,     0.77678,     0.77778,     0.77878,     0.77978,     0.78078,     0.78178,     0.78278,     0.78378,     0.78478,     0.78579,     0.78679,     0.78779,     0.78879,     0.78979,     0.79079,     0.79179,\n",
              "           0.79279,     0.79379,     0.79479,      0.7958,      0.7968,      0.7978,      0.7988,      0.7998,      0.8008,      0.8018,      0.8028,      0.8038,      0.8048,     0.80581,     0.80681,     0.80781,     0.80881,     0.80981,     0.81081,     0.81181,     0.81281,     0.81381,     0.81481,     0.81582,\n",
              "           0.81682,     0.81782,     0.81882,     0.81982,     0.82082,     0.82182,     0.82282,     0.82382,     0.82482,     0.82583,     0.82683,     0.82783,     0.82883,     0.82983,     0.83083,     0.83183,     0.83283,     0.83383,     0.83483,     0.83584,     0.83684,     0.83784,     0.83884,     0.83984,\n",
              "           0.84084,     0.84184,     0.84284,     0.84384,     0.84484,     0.84585,     0.84685,     0.84785,     0.84885,     0.84985,     0.85085,     0.85185,     0.85285,     0.85385,     0.85485,     0.85586,     0.85686,     0.85786,     0.85886,     0.85986,     0.86086,     0.86186,     0.86286,     0.86386,\n",
              "           0.86486,     0.86587,     0.86687,     0.86787,     0.86887,     0.86987,     0.87087,     0.87187,     0.87287,     0.87387,     0.87487,     0.87588,     0.87688,     0.87788,     0.87888,     0.87988,     0.88088,     0.88188,     0.88288,     0.88388,     0.88488,     0.88589,     0.88689,     0.88789,\n",
              "           0.88889,     0.88989,     0.89089,     0.89189,     0.89289,     0.89389,     0.89489,      0.8959,      0.8969,      0.8979,      0.8989,      0.8999,      0.9009,      0.9019,      0.9029,      0.9039,      0.9049,     0.90591,     0.90691,     0.90791,     0.90891,     0.90991,     0.91091,     0.91191,\n",
              "           0.91291,     0.91391,     0.91491,     0.91592,     0.91692,     0.91792,     0.91892,     0.91992,     0.92092,     0.92192,     0.92292,     0.92392,     0.92492,     0.92593,     0.92693,     0.92793,     0.92893,     0.92993,     0.93093,     0.93193,     0.93293,     0.93393,     0.93493,     0.93594,\n",
              "           0.93694,     0.93794,     0.93894,     0.93994,     0.94094,     0.94194,     0.94294,     0.94394,     0.94494,     0.94595,     0.94695,     0.94795,     0.94895,     0.94995,     0.95095,     0.95195,     0.95295,     0.95395,     0.95495,     0.95596,     0.95696,     0.95796,     0.95896,     0.95996,\n",
              "           0.96096,     0.96196,     0.96296,     0.96396,     0.96496,     0.96597,     0.96697,     0.96797,     0.96897,     0.96997,     0.97097,     0.97197,     0.97297,     0.97397,     0.97497,     0.97598,     0.97698,     0.97798,     0.97898,     0.97998,     0.98098,     0.98198,     0.98298,     0.98398,\n",
              "           0.98498,     0.98599,     0.98699,     0.98799,     0.98899,     0.98999,     0.99099,     0.99199,     0.99299,     0.99399,     0.99499,       0.996,       0.997,       0.998,       0.999,           1]), array([[    0.95172,     0.95172,     0.95172,     0.94483,     0.94483,     0.94483,     0.94483,     0.94483,     0.94483,     0.93793,     0.93793,     0.93793,     0.93793,     0.93793,     0.93793,     0.93793,     0.93793,     0.93793,     0.93793,     0.93793,     0.93793,     0.93793,     0.93793,\n",
              "            0.93793,     0.93793,     0.93793,     0.93793,     0.93793,     0.93793,     0.93793,     0.93793,     0.93793,     0.93793,     0.93793,     0.93733,      0.9365,     0.93567,     0.93483,       0.934,     0.93316,     0.93233,      0.9315,     0.93103,     0.93103,     0.93103,     0.93103,\n",
              "            0.93103,     0.93103,     0.93103,     0.93103,     0.93103,     0.93103,     0.93103,     0.93103,     0.93103,     0.93103,     0.93103,     0.93103,     0.92983,     0.92414,     0.92414,     0.92414,     0.92414,     0.92414,     0.92414,     0.92414,     0.92414,     0.92414,     0.92414,\n",
              "            0.92414,     0.92414,     0.92414,     0.92414,     0.92414,     0.92414,     0.92414,     0.92414,     0.92414,     0.92414,     0.92414,     0.92414,     0.92414,     0.92414,     0.92414,     0.92414,     0.92414,     0.92414,     0.92414,     0.92414,     0.92414,     0.92414,     0.92414,\n",
              "            0.92414,     0.92414,     0.92414,     0.92414,     0.92414,     0.92414,     0.92414,     0.92414,     0.92414,     0.92414,     0.92414,     0.92414,     0.92414,     0.92414,     0.92414,     0.92414,     0.92414,     0.92414,     0.92414,     0.92414,     0.92414,     0.92414,     0.92414,\n",
              "            0.92414,     0.92414,     0.92414,     0.92414,     0.92414,     0.92404,     0.92362,     0.92321,      0.9228,     0.92238,     0.92197,     0.92155,     0.92114,     0.92073,     0.92031,      0.9199,     0.91949,     0.91907,     0.91866,     0.91824,     0.91783,     0.91742,     0.91708,\n",
              "            0.91678,     0.91649,     0.91619,      0.9159,      0.9156,     0.91531,     0.91501,     0.91471,     0.91442,     0.91412,     0.91383,     0.91353,     0.91323,     0.91294,     0.91264,     0.91235,     0.91205,     0.91175,     0.91146,     0.91116,     0.91087,     0.91057,     0.91034,\n",
              "            0.91034,     0.91034,     0.91034,     0.91034,     0.91034,     0.91034,     0.91034,     0.91034,     0.91034,     0.91034,     0.91034,     0.91034,     0.91034,     0.91034,     0.91034,     0.91034,     0.91034,     0.91034,     0.91034,     0.91034,     0.91034,     0.91034,     0.91034,\n",
              "            0.91034,     0.91034,     0.91034,     0.91034,     0.91034,     0.91034,     0.91034,     0.91034,     0.91034,     0.91034,     0.91034,     0.91034,     0.91034,     0.91034,     0.91034,     0.91034,     0.91034,     0.91034,     0.91034,     0.91034,     0.91034,     0.91034,     0.91034,\n",
              "            0.91034,     0.91034,     0.91034,     0.91034,     0.91034,     0.91034,     0.91034,     0.91034,     0.91034,     0.91034,     0.91034,     0.91034,     0.91034,     0.91034,     0.91034,     0.91034,     0.91034,     0.91034,     0.91034,     0.91034,     0.91034,     0.91034,     0.91034,\n",
              "            0.91034,     0.91034,     0.91034,     0.91034,     0.91034,     0.91034,     0.91034,     0.91034,     0.91034,     0.91034,     0.91034,     0.91034,     0.91034,     0.91034,     0.91034,     0.91034,     0.91034,     0.91034,     0.91034,     0.91034,     0.91034,     0.91034,     0.91034,\n",
              "            0.91034,     0.91034,     0.91034,     0.91034,     0.91034,     0.91034,     0.91034,     0.91034,     0.91034,     0.91034,     0.91034,     0.91034,     0.91034,     0.91034,     0.91034,     0.91034,     0.91034,     0.91034,     0.91034,     0.91034,     0.91034,     0.91034,     0.91034,\n",
              "            0.91034,     0.91034,     0.91034,     0.91034,     0.91034,     0.91034,     0.91034,     0.91034,     0.91034,     0.91034,     0.91034,     0.91034,     0.91034,     0.91034,     0.91034,     0.91034,     0.91034,     0.91034,     0.91034,     0.91034,     0.91034,     0.91034,     0.91034,\n",
              "            0.91034,     0.91034,     0.91034,     0.91034,     0.91034,     0.91034,     0.91034,     0.91034,     0.91034,     0.91034,     0.91034,     0.91034,     0.91034,     0.91034,     0.91034,     0.91018,      0.9097,     0.90922,     0.90875,     0.90827,     0.90779,     0.90731,     0.90684,\n",
              "            0.90636,     0.90588,     0.90541,     0.90493,     0.90445,     0.90397,      0.9035,     0.90345,     0.90345,     0.90345,     0.90345,     0.90345,     0.90345,     0.90345,     0.90345,     0.90345,     0.90345,     0.90345,     0.90345,     0.90345,     0.90345,     0.90345,     0.90345,\n",
              "            0.90345,     0.90345,     0.90345,     0.90345,     0.90345,     0.90345,     0.90345,     0.90345,     0.90345,     0.90345,     0.90345,     0.90345,     0.90345,     0.90328,     0.90297,     0.90267,     0.90236,     0.90205,     0.90174,     0.90143,     0.90113,     0.90082,     0.90051,\n",
              "             0.9002,     0.89989,     0.89959,     0.89928,     0.89897,     0.89866,     0.89835,     0.89805,     0.89774,     0.89743,     0.89712,     0.89681,     0.89651,     0.89624,     0.89598,     0.89571,     0.89545,     0.89518,     0.89491,     0.89465,     0.89438,     0.89411,     0.89385,\n",
              "            0.89358,     0.89331,     0.89305,     0.89278,     0.89251,     0.89225,     0.89198,     0.89171,     0.89145,     0.89118,     0.89091,     0.89065,     0.89038,     0.89011,     0.88985,     0.88945,     0.88869,     0.88794,     0.88719,     0.88644,     0.88568,     0.88493,     0.88418,\n",
              "            0.88343,     0.88272,     0.88238,     0.88205,     0.88171,     0.88138,     0.88104,      0.8807,     0.88037,     0.88003,     0.87969,     0.87936,     0.87902,     0.87868,     0.87835,     0.87801,     0.87767,     0.87734,       0.877,     0.87667,     0.87633,     0.87599,     0.87574,\n",
              "            0.87554,     0.87534,     0.87514,     0.87495,     0.87475,     0.87455,     0.87435,     0.87415,     0.87395,     0.87375,     0.87356,     0.87336,     0.87316,     0.87296,     0.87276,     0.87256,     0.87236,     0.87217,     0.87197,     0.87177,     0.87157,     0.87137,     0.87117,\n",
              "            0.87097,     0.87078,     0.87058,     0.87038,     0.87018,     0.86998,     0.86978,     0.86958,     0.86938,     0.86919,     0.86899,     0.86885,     0.86873,      0.8686,     0.86848,     0.86835,     0.86822,      0.8681,     0.86797,     0.86785,     0.86772,     0.86759,     0.86747,\n",
              "            0.86734,     0.86722,     0.86709,     0.86696,     0.86684,     0.86671,     0.86659,     0.86646,     0.86633,     0.86621,     0.86608,     0.86596,     0.86583,     0.86571,     0.86558,     0.86545,     0.86533,      0.8652,     0.86508,     0.86495,     0.86482,      0.8647,     0.86457,\n",
              "            0.86445,     0.86432,     0.86419,     0.86407,     0.86394,     0.86382,     0.86369,     0.86356,     0.86344,     0.86331,     0.86319,     0.86306,     0.86293,     0.86281,     0.86268,     0.86256,     0.86243,      0.8623,     0.86218,     0.86207,     0.86207,     0.86207,     0.86207,\n",
              "            0.86207,     0.86207,     0.86207,     0.86207,     0.86207,     0.86207,     0.86207,     0.86207,     0.86207,     0.86207,     0.86207,     0.86207,     0.86207,     0.86207,     0.86207,     0.86207,     0.86193,     0.86164,     0.86135,     0.86105,     0.86076,     0.86047,     0.86017,\n",
              "            0.85988,     0.85959,      0.8593,       0.859,     0.85871,     0.85842,     0.85812,     0.85783,     0.85754,     0.85725,     0.85695,     0.85666,     0.85637,     0.85607,     0.85578,     0.85549,      0.8552,     0.85517,     0.85517,     0.85517,     0.85517,     0.85517,     0.85517,\n",
              "            0.85517,     0.85517,     0.85517,     0.85517,     0.85517,     0.85517,     0.85517,     0.85517,     0.85517,     0.85517,     0.85517,     0.85517,     0.85517,     0.85517,     0.85517,     0.85517,     0.85517,     0.85517,     0.85517,     0.85517,     0.85517,     0.85517,     0.85517,\n",
              "            0.85517,     0.85517,     0.85517,     0.85517,     0.85517,     0.85517,     0.85517,     0.85517,     0.85517,     0.85517,     0.85517,     0.85517,     0.85517,     0.85517,     0.85165,     0.84814,     0.84774,     0.84735,     0.84695,     0.84655,     0.84616,     0.84576,     0.84536,\n",
              "            0.84497,     0.84457,     0.84418,     0.84378,     0.84338,     0.84299,     0.84259,     0.84219,      0.8418,      0.8414,     0.84138,     0.84138,     0.84138,     0.84138,     0.84138,     0.84138,     0.84138,     0.84138,     0.84138,     0.84138,     0.84138,     0.84138,     0.84138,\n",
              "            0.84138,     0.84138,     0.84138,     0.84138,     0.84138,     0.84138,     0.84138,     0.84138,     0.84138,     0.84138,     0.84138,     0.84138,     0.84138,     0.84138,     0.84138,     0.84138,     0.84138,     0.84138,     0.84138,     0.84138,     0.84138,     0.84138,     0.84138,\n",
              "            0.84138,     0.84138,     0.84138,     0.83921,     0.83557,     0.83337,     0.83178,     0.83019,      0.8286,     0.82449,     0.82069,     0.82069,     0.82069,     0.82069,     0.82069,     0.82069,     0.82069,     0.82069,     0.82069,     0.82069,     0.82069,     0.82069,     0.82069,\n",
              "            0.82069,     0.82069,     0.82069,     0.82069,     0.82069,     0.82069,     0.81654,     0.81355,     0.81284,     0.81214,     0.81143,     0.81072,     0.81001,     0.80931,      0.8086,     0.80789,     0.80718,     0.80611,      0.8048,     0.80349,     0.80218,     0.80087,         0.8,\n",
              "                0.8,         0.8,         0.8,         0.8,         0.8,     0.79991,     0.79894,     0.79798,     0.79702,     0.79605,     0.79509,     0.79412,     0.79316,     0.79049,      0.7877,     0.78583,       0.785,     0.78417,     0.78335,     0.78252,      0.7817,     0.78087,     0.78005,\n",
              "            0.77931,     0.77931,     0.77931,     0.77931,     0.77931,     0.77931,     0.77931,     0.77931,     0.77885,     0.77499,     0.76342,     0.75789,     0.75599,     0.75409,     0.75218,     0.74856,     0.73781,      0.7367,     0.73558,     0.73447,     0.73336,     0.73224,     0.73113,\n",
              "            0.73103,     0.73103,     0.73103,     0.73103,     0.73103,     0.73103,     0.72923,     0.72736,     0.72549,     0.72183,     0.71631,     0.71422,     0.71213,     0.70995,     0.70725,     0.70456,     0.70067,     0.68951,     0.68844,     0.68737,      0.6863,     0.68523,     0.68416,\n",
              "            0.68309,     0.66207,     0.66207,     0.66207,     0.66207,     0.66152,     0.65821,     0.65505,     0.65356,     0.65207,     0.65058,     0.64909,     0.64699,     0.64415,      0.6412,     0.63434,     0.63122,     0.62811,     0.61825,     0.61513,      0.6115,     0.60748,     0.60594,\n",
              "            0.60483,     0.60371,      0.6026,     0.60148,     0.60037,     0.59911,     0.59778,     0.59644,     0.59511,     0.59378,     0.59135,      0.5878,      0.5836,     0.57546,     0.55064,     0.52376,     0.51935,     0.50296,     0.49647,     0.49121,     0.48108,     0.47869,      0.4763,\n",
              "            0.46175,     0.45627,     0.43384,     0.42835,     0.41705,     0.40922,     0.40023,     0.39181,     0.37803,     0.34889,     0.31652,      0.2997,     0.25051,     0.24182,     0.22544,     0.21888,     0.20617,     0.20066,     0.18491,     0.18128,     0.17669,     0.16542,     0.16251,\n",
              "            0.15959,     0.15703,     0.15464,     0.15225,     0.13561,     0.12984,     0.12635,     0.12342,     0.12147,     0.11952,     0.11756,     0.11371,     0.11007,      0.1087,     0.10733,     0.10597,      0.1046,    0.082556,     0.07603,    0.071742,    0.068966,    0.068966,    0.068751,\n",
              "           0.068302,    0.067853,    0.067404,    0.066954,    0.066505,    0.066056,    0.065607,    0.065158,    0.064709,     0.06426,    0.063811,    0.063362,    0.062913,    0.062464,    0.061704,    0.058671,    0.055638,     0.05448,    0.053661,    0.052843,    0.052025,    0.051206,    0.050388,\n",
              "            0.04957,    0.048751,    0.045342,      0.0402,     0.03748,     0.03476,    0.032224,    0.029709,    0.027301,    0.025473,    0.023645,    0.021817,    0.013533,    0.012699,    0.011865,    0.011031,    0.010196,   0.0093623,   0.0085282,   0.0076941,           0,           0,           0,\n",
              "                  0,           0,           0,           0,           0,           0,           0,           0,           0,           0,           0,           0,           0,           0,           0,           0,           0,           0,           0,           0,           0,           0,           0,\n",
              "                  0,           0,           0,           0,           0,           0,           0,           0,           0,           0,           0,           0,           0,           0,           0,           0,           0,           0,           0,           0,           0,           0,           0,\n",
              "                  0,           0,           0,           0,           0,           0,           0,           0,           0,           0,           0,           0,           0,           0,           0,           0,           0,           0,           0,           0,           0,           0,           0,\n",
              "                  0,           0,           0,           0,           0,           0,           0,           0,           0,           0,           0]]), 'Confidence', 'Recall']]\n",
              "fitness: np.float64(0.6350434211803665)\n",
              "keys: ['metrics/precision(B)', 'metrics/recall(B)', 'metrics/mAP50(B)', 'metrics/mAP50-95(B)']\n",
              "maps: array([    0.60191])\n",
              "names: {0: 'license_plate'}\n",
              "nt_per_class: array([145])\n",
              "nt_per_image: array([133])\n",
              "results_dict: {'metrics/precision(B)': np.float64(0.9111096665223684), 'metrics/recall(B)': np.float64(0.903448275862069), 'metrics/mAP50(B)': np.float64(0.9332364906222437), 'metrics/mAP50-95(B)': np.float64(0.6019108579090469), 'fitness': np.float64(0.6350434211803665)}\n",
              "save_dir: PosixPath('runs/detect/train22')\n",
              "speed: {'preprocess': 1.0633498872218632, 'inference': 9.017652518804582, 'loss': 0.0008205563979134965, 'postprocess': 2.8304679473630423}\n",
              "stats: {'tp': [], 'conf': [], 'pred_cls': [], 'target_cls': [], 'target_img': []}\n",
              "task: 'detect'"
            ]
          },
          "metadata": {},
          "execution_count": 22
        }
      ]
    },
    {
      "cell_type": "code",
      "source": [
        "metrics=model.val() # This will give you pression,recall,mAp@0.5,mAP@0.5:0.95:Per-class instance count:"
      ],
      "metadata": {
        "colab": {
          "base_uri": "https://localhost:8080/"
        },
        "id": "xTqrIh12I334",
        "outputId": "844c6b94-edc2-41f0-d616-ea006ea2596b"
      },
      "execution_count": null,
      "outputs": [
        {
          "output_type": "stream",
          "name": "stdout",
          "text": [
            "Ultralytics 8.3.165 🚀 Python-3.11.13 torch-2.6.0+cu124 CUDA:0 (Tesla T4, 15095MiB)\n",
            "\u001b[34m\u001b[1mval: \u001b[0mFast image access ✅ (ping: 0.0±0.0 ms, read: 1447.7±143.5 MB/s, size: 279.2 KB)\n"
          ]
        },
        {
          "output_type": "stream",
          "name": "stderr",
          "text": [
            "\u001b[34m\u001b[1mval: \u001b[0mScanning /content/YOLO_dataset/labels/val.cache... 133 images, 0 backgrounds, 0 corrupt: 100%|██████████| 133/133 [00:00<?, ?it/s]\n",
            "                 Class     Images  Instances      Box(P          R      mAP50  mAP50-95): 100%|██████████| 9/9 [00:03<00:00,  2.83it/s]\n"
          ]
        },
        {
          "output_type": "stream",
          "name": "stdout",
          "text": [
            "                   all        133        145      0.911      0.903      0.933      0.602\n",
            "Speed: 3.4ms preprocess, 4.9ms inference, 0.0ms loss, 3.0ms postprocess per image\n",
            "Results saved to \u001b[1mruns/detect/train23\u001b[0m\n"
          ]
        }
      ]
    },
    {
      "cell_type": "code",
      "source": [
        "print(type(metrics))"
      ],
      "metadata": {
        "colab": {
          "base_uri": "https://localhost:8080/"
        },
        "id": "Bquy1gmHJFKC",
        "outputId": "90054105-b285-43e9-a466-b5ebf54d346d"
      },
      "execution_count": null,
      "outputs": [
        {
          "output_type": "stream",
          "name": "stdout",
          "text": [
            "<class 'ultralytics.utils.metrics.DetMetrics'>\n"
          ]
        }
      ]
    },
    {
      "cell_type": "code",
      "source": [
        "print('Pression:',metrics.box.p)# Precision: The proportion of correctly predicted positive detections out of all positive predictions.\n",
        "print('Recall:',metrics.box.r)# Recall: The proportion of correctly predicted positive detections out of all actual positives.\n",
        "print('mAP@0.5:',metrics.box.map50)\n",
        "print('mAP@0.5:0.95:',metrics.box.map)\n",
        "print('f1:',metrics.box.f1)"
      ],
      "metadata": {
        "colab": {
          "base_uri": "https://localhost:8080/"
        },
        "id": "pDAJLIT-JJ4w",
        "outputId": "a6b46ed7-4b6c-4ebc-fe38-ad0913c7a490"
      },
      "execution_count": null,
      "outputs": [
        {
          "output_type": "stream",
          "name": "stdout",
          "text": [
            "Pression: [    0.91111]\n",
            "Recall: [    0.90345]\n",
            "mAP@0.5: 0.9332364906222437\n",
            "mAP@0.5:0.95: 0.6019108579090469\n",
            "f1: [    0.90726]\n"
          ]
        }
      ]
    },
    {
      "cell_type": "code",
      "source": [
        "# IoU (Intersection over Union): Ratio of overlap area to union area between predicted and actual bounding boxes.\n",
        "\n",
        "\n",
        "# Precision per class: Fraction of correctly predicted positive instances out of all predicted positives.\n",
        "print(\"Precision per class (metrics.box.p):\", metrics.box.p)\n",
        "\n",
        "# Recall per class: Fraction of correctly predicted positive instances out of all actual positives.\n",
        "print(\"Recall per class (metrics.box.r):\", metrics.box.r)\n",
        "\n",
        "# F1-score per class: Harmonic mean of precision and recall.\n",
        "print(\"F1-score per class (metrics.box.f1):\", metrics.box.f1)\n",
        "\n",
        "# AP@[0.5:0.95] per class: Average Precision averaged over IoU thresholds from 0.5 to 0.95 (stricter and more accurate).\n",
        "print(\"AP@[0.5:0.95] per class (metrics.box.ap()):\", metrics.box.ap)\n",
        "\n",
        "# Mean Precision: Average of per-class precision.\n",
        "print(\"Mean Precision (metrics.box.mp()):\", metrics.box.mp)\n",
        "\n",
        "# Mean Recall: Average of per-class recall.\n",
        "print(\"Mean Recall (metrics.box.mr()):\", metrics.box.mr)\n",
        "\n",
        "# Mean Average Precision @ IoU=0.5: Overall average precision when IoU threshold is 0.5.\n",
        "print(\"mAP@0.5 (metrics.box.map50()):\", metrics.box.map50)\n",
        "\n",
        "# Mean Average Precision averaged over IoU thresholds 0.5 to 0.95: Stricter evaluation across multiple thresholds.\n",
        "print(\"mAP@[0.5:0.95] (metrics.box.map()):\", metrics.box.map)\n"
      ],
      "metadata": {
        "colab": {
          "base_uri": "https://localhost:8080/"
        },
        "id": "9u5FWgeZLSXi",
        "outputId": "24a321c5-9881-4993-ade3-b1fd16fb9efe"
      },
      "execution_count": null,
      "outputs": [
        {
          "output_type": "stream",
          "name": "stdout",
          "text": [
            "Precision per class (metrics.box.p): [    0.91111]\n",
            "Recall per class (metrics.box.r): [    0.90345]\n",
            "F1-score per class (metrics.box.f1): [    0.90726]\n",
            "AP@[0.5:0.95] per class (metrics.box.ap()): [    0.60191]\n",
            "Mean Precision (metrics.box.mp()): 0.9111096665223684\n",
            "Mean Recall (metrics.box.mr()): 0.903448275862069\n",
            "mAP@0.5 (metrics.box.map50()): 0.9332364906222437\n",
            "mAP@[0.5:0.95] (metrics.box.map()): 0.6019108579090469\n"
          ]
        }
      ]
    },
    {
      "cell_type": "code",
      "source": [
        "dir(model)"
      ],
      "metadata": {
        "colab": {
          "base_uri": "https://localhost:8080/"
        },
        "id": "bZM9JturLk4w",
        "outputId": "c8633803-cf6d-4cd6-ebd3-7d589ab7ee57"
      },
      "execution_count": null,
      "outputs": [
        {
          "output_type": "execute_result",
          "data": {
            "text/plain": [
              "['T_destination',\n",
              " '__annotations__',\n",
              " '__call__',\n",
              " '__class__',\n",
              " '__delattr__',\n",
              " '__dict__',\n",
              " '__dir__',\n",
              " '__doc__',\n",
              " '__eq__',\n",
              " '__format__',\n",
              " '__ge__',\n",
              " '__getattr__',\n",
              " '__getattribute__',\n",
              " '__getstate__',\n",
              " '__gt__',\n",
              " '__hash__',\n",
              " '__init__',\n",
              " '__init_subclass__',\n",
              " '__le__',\n",
              " '__lt__',\n",
              " '__module__',\n",
              " '__ne__',\n",
              " '__new__',\n",
              " '__reduce__',\n",
              " '__reduce_ex__',\n",
              " '__repr__',\n",
              " '__setattr__',\n",
              " '__setstate__',\n",
              " '__sizeof__',\n",
              " '__str__',\n",
              " '__subclasshook__',\n",
              " '__weakref__',\n",
              " '_apply',\n",
              " '_backward_hooks',\n",
              " '_backward_pre_hooks',\n",
              " '_buffers',\n",
              " '_call_impl',\n",
              " '_check_is_pytorch_model',\n",
              " '_compiled_call_impl',\n",
              " '_forward_hooks',\n",
              " '_forward_hooks_always_called',\n",
              " '_forward_hooks_with_kwargs',\n",
              " '_forward_pre_hooks',\n",
              " '_forward_pre_hooks_with_kwargs',\n",
              " '_get_backward_hooks',\n",
              " '_get_backward_pre_hooks',\n",
              " '_get_name',\n",
              " '_is_full_backward_hook',\n",
              " '_load',\n",
              " '_load_from_state_dict',\n",
              " '_load_state_dict_post_hooks',\n",
              " '_load_state_dict_pre_hooks',\n",
              " '_maybe_warn_non_full_backward_hook',\n",
              " '_modules',\n",
              " '_named_members',\n",
              " '_new',\n",
              " '_non_persistent_buffers_set',\n",
              " '_parameters',\n",
              " '_register_load_state_dict_pre_hook',\n",
              " '_register_state_dict_hook',\n",
              " '_replicate_for_data_parallel',\n",
              " '_reset_ckpt_args',\n",
              " '_save_to_state_dict',\n",
              " '_slow_forward',\n",
              " '_smart_load',\n",
              " '_state_dict_hooks',\n",
              " '_state_dict_pre_hooks',\n",
              " '_version',\n",
              " '_wrapped_call_impl',\n",
              " 'add_callback',\n",
              " 'add_module',\n",
              " 'apply',\n",
              " 'benchmark',\n",
              " 'bfloat16',\n",
              " 'buffers',\n",
              " 'call_super_init',\n",
              " 'callbacks',\n",
              " 'cfg',\n",
              " 'children',\n",
              " 'ckpt',\n",
              " 'ckpt_path',\n",
              " 'clear_callback',\n",
              " 'compile',\n",
              " 'cpu',\n",
              " 'cuda',\n",
              " 'device',\n",
              " 'double',\n",
              " 'dump_patches',\n",
              " 'embed',\n",
              " 'eval',\n",
              " 'export',\n",
              " 'extra_repr',\n",
              " 'float',\n",
              " 'forward',\n",
              " 'fuse',\n",
              " 'get_buffer',\n",
              " 'get_extra_state',\n",
              " 'get_parameter',\n",
              " 'get_submodule',\n",
              " 'half',\n",
              " 'info',\n",
              " 'ipu',\n",
              " 'is_hub_model',\n",
              " 'is_triton_model',\n",
              " 'load',\n",
              " 'load_state_dict',\n",
              " 'metrics',\n",
              " 'model',\n",
              " 'model_name',\n",
              " 'modules',\n",
              " 'mtia',\n",
              " 'named_buffers',\n",
              " 'named_children',\n",
              " 'named_modules',\n",
              " 'named_parameters',\n",
              " 'names',\n",
              " 'overrides',\n",
              " 'parameters',\n",
              " 'predict',\n",
              " 'predictor',\n",
              " 'register_backward_hook',\n",
              " 'register_buffer',\n",
              " 'register_forward_hook',\n",
              " 'register_forward_pre_hook',\n",
              " 'register_full_backward_hook',\n",
              " 'register_full_backward_pre_hook',\n",
              " 'register_load_state_dict_post_hook',\n",
              " 'register_load_state_dict_pre_hook',\n",
              " 'register_module',\n",
              " 'register_parameter',\n",
              " 'register_state_dict_post_hook',\n",
              " 'register_state_dict_pre_hook',\n",
              " 'requires_grad_',\n",
              " 'reset_callbacks',\n",
              " 'reset_weights',\n",
              " 'save',\n",
              " 'session',\n",
              " 'set_extra_state',\n",
              " 'set_submodule',\n",
              " 'share_memory',\n",
              " 'state_dict',\n",
              " 'task',\n",
              " 'task_map',\n",
              " 'to',\n",
              " 'to_empty',\n",
              " 'track',\n",
              " 'train',\n",
              " 'trainer',\n",
              " 'transforms',\n",
              " 'tune',\n",
              " 'type',\n",
              " 'val',\n",
              " 'xpu',\n",
              " 'zero_grad']"
            ]
          },
          "metadata": {},
          "execution_count": 42
        }
      ]
    },
    {
      "cell_type": "code",
      "source": [
        "import pandas as  pd\n",
        "import numpy as np\n",
        "import matplotlib.pyplot as plt\n",
        "import cv2"
      ],
      "metadata": {
        "id": "TC9pcIzLMo2j"
      },
      "execution_count": null,
      "outputs": []
    },
    {
      "cell_type": "code",
      "source": [
        "img=cv2.imread('Numberplate.jpeg')"
      ],
      "metadata": {
        "id": "rEGpC8V8NRef"
      },
      "execution_count": null,
      "outputs": []
    },
    {
      "cell_type": "code",
      "source": [
        "plt.imshow(img)"
      ],
      "metadata": {
        "colab": {
          "base_uri": "https://localhost:8080/",
          "height": 364
        },
        "id": "5M3go27-NYZi",
        "outputId": "3a4110c5-a82d-4ce7-c82d-9b9b528e145d"
      },
      "execution_count": null,
      "outputs": [
        {
          "output_type": "execute_result",
          "data": {
            "text/plain": [
              "<matplotlib.image.AxesImage at 0x7b0e25bf94d0>"
            ]
          },
          "metadata": {},
          "execution_count": 48
        },
        {
          "output_type": "display_data",
          "data": {
            "text/plain": [
              "<Figure size 640x480 with 1 Axes>"
            ],
            "image/png": "[encoded data removed]"
          },
          "metadata": {}
        }
      ]
    },
    {
      "cell_type": "code",
      "source": [
        "model.predict(img,save=True)"
      ],
      "metadata": {
        "colab": {
          "base_uri": "https://localhost:8080/"
        },
        "id": "VOdZeSI8Na7r",
        "outputId": "e1047d4c-6885-4a50-c406-0e40f3b38899"
      },
      "execution_count": null,
      "outputs": [
        {
          "output_type": "stream",
          "name": "stdout",
          "text": [
            "\n",
            "0: 384x640 1 license_plate, 38.8ms\n",
            "Speed: 18.3ms preprocess, 38.8ms inference, 14.1ms postprocess per image at shape (1, 3, 384, 640)\n",
            "Results saved to \u001b[1mruns/detect/train24\u001b[0m\n"
          ]
        },
        {
          "output_type": "execute_result",
          "data": {
            "text/plain": [
              "[ultralytics.engine.results.Results object with attributes:\n",
              " \n",
              " boxes: ultralytics.engine.results.Boxes object\n",
              " keypoints: None\n",
              " masks: None\n",
              " names: {0: 'license_plate'}\n",
              " obb: None\n",
              " orig_img: array([[[ 0,  0,  0],\n",
              "         [31, 31, 31],\n",
              "         [25, 25, 25],\n",
              "         ...,\n",
              "         [ 0,  0,  0],\n",
              "         [ 8,  8,  8],\n",
              "         [ 3,  3,  3]],\n",
              " \n",
              "        [[51, 51, 51],\n",
              "         [44, 44, 44],\n",
              "         [35, 35, 35],\n",
              "         ...,\n",
              "         [ 1,  1,  1],\n",
              "         [ 6,  6,  6],\n",
              "         [ 3,  3,  3]],\n",
              " \n",
              "        [[70, 70, 70],\n",
              "         [65, 65, 65],\n",
              "         [84, 84, 84],\n",
              "         ...,\n",
              "         [ 7,  7,  7],\n",
              "         [ 3,  3,  3],\n",
              "         [ 0,  0,  0]],\n",
              " \n",
              "        ...,\n",
              " \n",
              "        [[41, 41, 41],\n",
              "         [40, 40, 40],\n",
              "         [30, 30, 30],\n",
              "         ...,\n",
              "         [68, 68, 68],\n",
              "         [68, 68, 68],\n",
              "         [40, 40, 40]],\n",
              " \n",
              "        [[38, 38, 38],\n",
              "         [39, 39, 39],\n",
              "         [30, 30, 30],\n",
              "         ...,\n",
              "         [90, 90, 90],\n",
              "         [78, 78, 78],\n",
              "         [57, 57, 57]],\n",
              " \n",
              "        [[30, 30, 30],\n",
              "         [29, 29, 29],\n",
              "         [26, 26, 26],\n",
              "         ...,\n",
              "         [54, 54, 54],\n",
              "         [83, 83, 83],\n",
              "         [58, 58, 58]]], dtype=uint8)\n",
              " orig_shape: (169, 297)\n",
              " path: 'image0.jpg'\n",
              " probs: None\n",
              " save_dir: 'runs/detect/train24'\n",
              " speed: {'preprocess': 18.277823999596876, 'inference': 38.80572700018092, 'postprocess': 14.14463900073315}]"
            ]
          },
          "metadata": {},
          "execution_count": 55
        }
      ]
    },
    {
      "cell_type": "code",
      "source": [
        "!pip install IPython"
      ],
      "metadata": {
        "colab": {
          "base_uri": "https://localhost:8080/"
        },
        "id": "HxibdxeSN6cr",
        "outputId": "36e395d6-619d-4dbc-884e-d87e13c128ba"
      },
      "execution_count": null,
      "outputs": [
        {
          "output_type": "stream",
          "name": "stdout",
          "text": [
            "Requirement already satisfied: IPython in /usr/local/lib/python3.11/dist-packages (7.34.0)\n",
            "Requirement already satisfied: setuptools>=18.5 in /usr/local/lib/python3.11/dist-packages (from IPython) (75.2.0)\n",
            "Collecting jedi>=0.16 (from IPython)\n",
            "  Downloading jedi-0.19.2-py2.py3-none-any.whl.metadata (22 kB)\n",
            "Requirement already satisfied: decorator in /usr/local/lib/python3.11/dist-packages (from IPython) (4.4.2)\n",
            "Requirement already satisfied: pickleshare in /usr/local/lib/python3.11/dist-packages (from IPython) (0.7.5)\n",
            "Requirement already satisfied: traitlets>=4.2 in /usr/local/lib/python3.11/dist-packages (from IPython) (5.7.1)\n",
            "Requirement already satisfied: prompt-toolkit!=3.0.0,!=3.0.1,<3.1.0,>=2.0.0 in /usr/local/lib/python3.11/dist-packages (from IPython) (3.0.51)\n",
            "Requirement already satisfied: pygments in /usr/local/lib/python3.11/dist-packages (from IPython) (2.19.2)\n",
            "Requirement already satisfied: backcall in /usr/local/lib/python3.11/dist-packages (from IPython) (0.2.0)\n",
            "Requirement already satisfied: matplotlib-inline in /usr/local/lib/python3.11/dist-packages (from IPython) (0.1.7)\n",
            "Requirement already satisfied: pexpect>4.3 in /usr/local/lib/python3.11/dist-packages (from IPython) (4.9.0)\n",
            "Requirement already satisfied: parso<0.9.0,>=0.8.4 in /usr/local/lib/python3.11/dist-packages (from jedi>=0.16->IPython) (0.8.4)\n",
            "Requirement already satisfied: ptyprocess>=0.5 in /usr/local/lib/python3.11/dist-packages (from pexpect>4.3->IPython) (0.7.0)\n",
            "Requirement already satisfied: wcwidth in /usr/local/lib/python3.11/dist-packages (from prompt-toolkit!=3.0.0,!=3.0.1,<3.1.0,>=2.0.0->IPython) (0.2.13)\n",
            "Downloading jedi-0.19.2-py2.py3-none-any.whl (1.6 MB)\n",
            "\u001b[2K   \u001b[90m━━━━━━━━━━━━━━━━━━━━━━━━━━━━━━━━━━━━━━━━\u001b[0m \u001b[32m1.6/1.6 MB\u001b[0m \u001b[31m27.9 MB/s\u001b[0m eta \u001b[36m0:00:00\u001b[0m\n",
            "\u001b[?25hInstalling collected packages: jedi\n",
            "Successfully installed jedi-0.19.2\n"
          ]
        }
      ]
    },
    {
      "cell_type": "code",
      "source": [
        "result=model.predict(img)\n",
        "\n",
        "#Get the first result(image)\n",
        "res=result[0]\n",
        "\n",
        "#Convert to numpy and get the boxes\n",
        "img=res.orig_img.copy()\n",
        "boxes=res.boxes #Contains x,y,x,y,conf,cls\n",
        "\n",
        "#Draw boxes mannually\n",
        "for box in boxes.xyxy:\n",
        "  x1,y1,x2,y2=map(int,box) # Conver from tensor to int\n",
        "  cv2.rectangle(img,(x1,y1),(x2,y2),(0,255,0),2)\n",
        "\n",
        "# plot image\n",
        "plt.imshow(cv2.cvtColor(img,cv2.COLOR_BGR2RGB))\n",
        "plt.title('Detected License Plate')\n",
        "plt.show()"
      ],
      "metadata": {
        "colab": {
          "base_uri": "https://localhost:8080/",
          "height": 437
        },
        "id": "5nNwO5D1NnHA",
        "outputId": "db3dad07-2d92-4650-9f92-5da8a18c7b23"
      },
      "execution_count": null,
      "outputs": [
        {
          "output_type": "stream",
          "name": "stdout",
          "text": [
            "\n",
            "0: 384x640 1 license_plate, 9.1ms\n",
            "Speed: 2.9ms preprocess, 9.1ms inference, 1.8ms postprocess per image at shape (1, 3, 384, 640)\n"
          ]
        },
        {
          "output_type": "display_data",
          "data": {
            "text/plain": [
              "<Figure size 640x480 with 1 Axes>"
            ],
            "image/png": "[encoded data removed]"
          },
          "metadata": {}
        }
      ]
    },
    {
      "cell_type": "code",
      "source": [
        "img=res.orig_img.copy()\n",
        "boxes=res.boxes #Contains x,y,x,y,conf,cls"
      ],
      "metadata": {
        "id": "g4r9-DqtN4QS"
      },
      "execution_count": null,
      "outputs": []
    },
    {
      "cell_type": "code",
      "source": [
        "dir(res.boxes)"
      ],
      "metadata": {
        "colab": {
          "base_uri": "https://localhost:8080/"
        },
        "id": "5E41gsdiQON8",
        "outputId": "cf959ae1-498a-4f42-e9c5-436a7bfbd5b3"
      },
      "execution_count": null,
      "outputs": [
        {
          "output_type": "execute_result",
          "data": {
            "text/plain": [
              "['__class__',\n",
              " '__delattr__',\n",
              " '__dict__',\n",
              " '__dir__',\n",
              " '__doc__',\n",
              " '__eq__',\n",
              " '__format__',\n",
              " '__ge__',\n",
              " '__getattr__',\n",
              " '__getattribute__',\n",
              " '__getitem__',\n",
              " '__getstate__',\n",
              " '__gt__',\n",
              " '__hash__',\n",
              " '__init__',\n",
              " '__init_subclass__',\n",
              " '__le__',\n",
              " '__len__',\n",
              " '__lt__',\n",
              " '__module__',\n",
              " '__ne__',\n",
              " '__new__',\n",
              " '__reduce__',\n",
              " '__reduce_ex__',\n",
              " '__repr__',\n",
              " '__setattr__',\n",
              " '__sizeof__',\n",
              " '__str__',\n",
              " '__subclasshook__',\n",
              " '__weakref__',\n",
              " 'cls',\n",
              " 'conf',\n",
              " 'cpu',\n",
              " 'cuda',\n",
              " 'data',\n",
              " 'id',\n",
              " 'is_track',\n",
              " 'numpy',\n",
              " 'orig_shape',\n",
              " 'shape',\n",
              " 'to',\n",
              " 'xywh',\n",
              " 'xywhn',\n",
              " 'xyxy',\n",
              " 'xyxyn']"
            ]
          },
          "metadata": {},
          "execution_count": 69
        }
      ]
    },
    {
      "cell_type": "code",
      "source": [],
      "metadata": {
        "colab": {
          "base_uri": "https://localhost:8080/"
        },
        "id": "uwzjl8G4QO8m",
        "outputId": "b1033057-feec-4da0-c3f0-1dbaf3d42999"
      },
      "execution_count": null,
      "outputs": [
        {
          "output_type": "stream",
          "name": "stdout",
          "text": [
            "\tzip warning: name not matched: /content/runs/detect/train/weights/best.pt\n",
            "\n",
            "zip error: Nothing to do! (try: zip -r best_model.zip . -i /content/runs/detect/train/weights/best.pt)\n"
          ]
        }
      ]
    },
    {
      "cell_type": "code",
      "source": [
        "#step 1 check where the model is this the model will be in one of this\n",
        "!ls /content/runs/detect/\n"
      ],
      "metadata": {
        "colab": {
          "base_uri": "https://localhost:8080/"
        },
        "id": "PMrgy-cBSW3F",
        "outputId": "a6a24f19-d755-463b-de29-ebbe4bb31278"
      },
      "execution_count": null,
      "outputs": [
        {
          "output_type": "stream",
          "name": "stdout",
          "text": [
            "train  train2  train22\ttrain23  train24\n"
          ]
        }
      ]
    },
    {
      "cell_type": "code",
      "source": [
        "# Ths model is in train2\n",
        "!ls /content/runs/detect/train2/weights/"
      ],
      "metadata": {
        "colab": {
          "base_uri": "https://localhost:8080/"
        },
        "id": "CDFlPFcuToIN",
        "outputId": "652bf48b-8922-4a51-fddd-58f1c21fd47e"
      },
      "execution_count": null,
      "outputs": [
        {
          "output_type": "stream",
          "name": "stdout",
          "text": [
            "best.pt  last.pt\n"
          ]
        }
      ]
    },
    {
      "cell_type": "code",
      "source": [
        "#Zip the model\n",
        "!zip -r best_model.zip /content/runs/detect/train2/weights/best.pt"
      ],
      "metadata": {
        "colab": {
          "base_uri": "https://localhost:8080/"
        },
        "id": "xC4o7RyJSpfo",
        "outputId": "7a5ec9b4-e13a-4b81-94fd-6b9d46f81877"
      },
      "execution_count": null,
      "outputs": [
        {
          "output_type": "stream",
          "name": "stdout",
          "text": [
            "  adding: content/runs/detect/train2/weights/best.pt (deflated 10%)\n"
          ]
        }
      ]
    },
    {
      "cell_type": "code",
      "source": [
        "#download the model\n",
        "from google.colab import files\n",
        "files.download('best_model.zip')"
      ],
      "metadata": {
        "colab": {
          "base_uri": "https://localhost:8080/",
          "height": 17
        },
        "id": "FDpwpp12Sv-T",
        "outputId": "aa12e1dd-4040-47fb-8a0a-fa24a2d517ef"
      },
      "execution_count": null,
      "outputs": [
        {
          "output_type": "display_data",
          "data": {
            "text/plain": [
              "<IPython.core.display.Javascript object>"
            ],
            "application/javascript": [
              "\n",
              "    async function download(id, filename, size) {\n",
              "      if (!google.colab.kernel.accessAllowed) {\n",
              "        return;\n",
              "      }\n",
              "      const div = document.createElement('div');\n",
              "      const label = document.createElement('label');\n",
              "      label.textContent = `Downloading \"${filename}\": `;\n",
              "      div.appendChild(label);\n",
              "      const progress = document.createElement('progress');\n",
              "      progress.max = size;\n",
              "      div.appendChild(progress);\n",
              "      document.body.appendChild(div);\n",
              "\n",
              "      const buffers = [];\n",
              "      let downloaded = 0;\n",
              "\n",
              "      const channel = await google.colab.kernel.comms.open(id);\n",
              "      // Send a message to notify the kernel that we're ready.\n",
              "      channel.send({})\n",
              "\n",
              "      for await (const message of channel.messages) {\n",
              "        // Send a message to notify the kernel that we're ready.\n",
              "        channel.send({})\n",
              "        if (message.buffers) {\n",
              "          for (const buffer of message.buffers) {\n",
              "            buffers.push(buffer);\n",
              "            downloaded += buffer.byteLength;\n",
              "            progress.value = downloaded;\n",
              "          }\n",
              "        }\n",
              "      }\n",
              "      const blob = new Blob(buffers, {type: 'application/binary'});\n",
              "      const a = document.createElement('a');\n",
              "      a.href = window.URL.createObjectURL(blob);\n",
              "      a.download = filename;\n",
              "      div.appendChild(a);\n",
              "      a.click();\n",
              "      div.remove();\n",
              "    }\n",
              "  "
            ]
          },
          "metadata": {}
        },
        {
          "output_type": "display_data",
          "data": {
            "text/plain": [
              "<IPython.core.display.Javascript object>"
            ],
            "application/javascript": [
              "download(\"download_ba32e15c-a5c9-428d-926f-5dc46cd06b33\", \"best_model.zip\", 5652679)"
            ]
          },
          "metadata": {}
        }
      ]
    },
    {
      "cell_type": "code",
      "source": [],
      "metadata": {
        "id": "aypJb5YrTZt2"
      },
      "execution_count": null,
      "outputs": []
    }
  ]
}